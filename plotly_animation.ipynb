{
 "cells": [
  {
   "cell_type": "code",
   "execution_count": 8,
   "metadata": {},
   "outputs": [],
   "source": [
    "import plotly.express as px\n",
    "from traffic.core import Traffic\n",
    "from traffic.data.datasets import landing_zurich_2019"
   ]
  },
  {
   "cell_type": "code",
   "execution_count": 9,
   "metadata": {},
   "outputs": [],
   "source": [
    "def plot_trajs_time(traffic):\n",
    "    \"\"\"\n",
    "    Donne en argument un traffic avec des vols que l'on veut voir évoluer en même temps\n",
    "    N'affiche que l'intersection entre les 2 temps de vol\n",
    "    \"\"\"\n",
    "    # Making sure to have observations every 1s \n",
    "    traffic = traffic.resample(\"1s\").eval()\n",
    "\n",
    "    if str(type(traffic)) == \"<class 'traffic.core.traffic.Traffic'>\":\n",
    "        starts = []\n",
    "        stops = []\n",
    "        for f in traffic:\n",
    "            starts.append(f.start)\n",
    "            stops.append(f.stop)\n",
    "\n",
    "        traffic = traffic.between(max(starts), min(stops)).resample(64).eval()\n",
    "        dataset = traffic.data\n",
    "\n",
    "    else:\n",
    "        dataset = traffic.resample(64).data\n",
    "\n",
    "    dataset[\"Time\"] = dataset[\"timestamp\"].apply(lambda x: x.strftime(\"%H:%M:%S\"))\n",
    "\n",
    "    px.set_mapbox_access_token(\n",
    "        \"pk.eyJ1IjoiZmlndSIsImEiOiJja2JndjNoaDQwYnl6MnJwM2tzNG9vcHc2In0.Ru9xsbyaKn7BNvIYAwPwUg\"\n",
    "    )\n",
    "\n",
    "    fig = px.scatter_mapbox(\n",
    "        dataset,\n",
    "        lat=\"latitude\",\n",
    "        lon=\"longitude\",\n",
    "        animation_frame=\"Time\",\n",
    "        animation_group=\"flight_id\",\n",
    "        hover_name=\"flight_id\",\n",
    "        size=\"altitude\",\n",
    "    )\n",
    "\n",
    "    for ids in dataset.flight_id.unique():\n",
    "        fig.add_traces(\n",
    "            px.line_mapbox(\n",
    "                dataset[dataset.flight_id == ids], lat=\"latitude\", lon=\"longitude\"\n",
    "            ).data[0]\n",
    "        )\n",
    "\n",
    "    fig.layout.updatemenus[0].buttons[0].args[1][\"frame\"][\"duration\"] = 200\n",
    "\n",
    "    return fig"
   ]
  },
  {
   "cell_type": "code",
   "execution_count": 11,
   "metadata": {},
   "outputs": [
    {
     "name": "stderr",
     "output_type": "stream",
     "text": [
      "C:\\Users\\kruu\\.conda\\envs\\airtraffic\\lib\\site-packages\\ipykernel\\ipkernel.py:287: DeprecationWarning:\n",
      "\n",
      "`should_run_async` will not call `transform_cell` automatically in the future. Please pass the result to `transformed_cell` argument and any exception that happen during thetransform in `preprocessing_exc_tuple` in IPython 7.17 and above.\n",
      "\n"
     ]
    },
    {
     "data": {
      "application/vnd.plotly.v1+json": {
       "config": {
        "plotlyServerURL": "https://plot.ly"
       },
       "data": [
        {
         "hovertemplate": "<b>%{hovertext}</b><br><br>Time=08:12:07<br>altitude=%{marker.size}<br>latitude=%{lat}<br>longitude=%{lon}<extra></extra>",
         "hovertext": [
          "AEA76TU_392",
          "AEE5SZ_4449"
         ],
         "ids": [
          "AEA76TU_392",
          "AEE5SZ_4449"
         ],
         "lat": [
          47.05265808105469,
          47.468153096861755
         ],
         "legendgroup": "",
         "lon": [
          7.78765869140625,
          8.114177997295673
         ],
         "marker": {
          "color": "#636efa",
          "size": [
           21625,
           17375.000000000004
          ],
          "sizemode": "area",
          "sizeref": 54.0625
         },
         "mode": "markers",
         "name": "",
         "showlegend": false,
         "subplot": "mapbox",
         "type": "scattermapbox"
        },
        {
         "hovertemplate": "latitude=%{lat}<br>longitude=%{lon}<extra></extra>",
         "lat": [
          47.05265808105469,
          47.074786687301376,
          47.09661968683792,
          47.11857604980469,
          47.138470148636124,
          47.15400695800781,
          47.16929626464844,
          47.18441720736229,
          47.199267371226156,
          47.21998311705508,
          47.24977654925847,
          47.280733787407314,
          47.30813598632812,
          47.33395385742188,
          47.36052432302701,
          47.38645935058594,
          47.412616277145126,
          47.43863897808527,
          47.46442891783633,
          47.49073791503906,
          47.51632690429688,
          47.53120422363281,
          47.52854919433594,
          47.52466751357256,
          47.52053833007812,
          47.50772094726562,
          47.48231506347656,
          47.465406514830505,
          47.47183227539062,
          47.49096369339248,
          47.50090026855469,
          47.50643920898438,
          47.49408269332627,
          47.46917724609375,
          47.447437351032846,
          47.43534851074219,
          47.4313768289857,
          47.42724609375,
          47.423090530654136,
          47.4193663516287,
          47.425048828125,
          47.44610595703125,
          47.4732272907839,
          47.48954772949219,
          47.49124145507812,
          47.49198784262446,
          47.493105096332094,
          47.49430847167969,
          47.4959913350768,
          47.5116794392214,
          47.53770214016154,
          47.55962824417373,
          47.5799560546875,
          47.60152525820974,
          47.62628173828125,
          47.643329167770126,
          47.65704345703125,
          47.65306091308594,
          47.64202880859375,
          47.63103937698623,
          47.61991339214777,
          47.60417175292969,
          47.58818455065711,
          47.57258605957031
         ],
         "legendgroup": "",
         "line": {
          "color": "#636efa"
         },
         "lon": [
          7.78765869140625,
          7.828674316406249,
          7.8692392202524015,
          7.910087585449219,
          7.953186035156249,
          8.000038146972656,
          8.0474853515625,
          8.094458946814902,
          8.141150841346152,
          8.182138296274037,
          8.203336275540865,
          8.20404052734375,
          8.187973022460938,
          8.168678283691406,
          8.148827185997595,
          8.129470825195312,
          8.109882061298077,
          8.090444711538463,
          8.071148212139423,
          8.051399230957031,
          8.0321044921875,
          8.001068115234375,
          7.9649505615234375,
          7.9295231745793275,
          7.894432067871094,
          7.86566162109375,
          7.866416931152344,
          7.899874173677884,
          7.945930480957031,
          7.9826237605168275,
          8.026679992675781,
          8.072273254394531,
          8.111501840444713,
          8.1199951171875,
          8.105938251201923,
          8.075775146484375,
          8.041710486778845,
          8.007865905761719,
          7.9726938100961515,
          7.938608022836537,
          7.904457092285156,
          7.883583068847656,
          7.8919865534855775,
          7.928764343261719,
          7.9716796875,
          8.01586444561298,
          8.058682955228365,
          8.101524353027344,
          8.144179124098557,
          8.178757887620193,
          8.185518704927883,
          8.167912409855768,
          8.148078918457031,
          8.131854717548077,
          8.143341064453125,
          8.174039400540865,
          8.208091735839844,
          8.244552612304688,
          8.279090881347656,
          8.31298828125,
          8.345524714543268,
          8.369728088378906,
          8.390973604642427,
          8.4122314453125
         ],
         "mode": "lines",
         "name": "",
         "showlegend": false,
         "subplot": "mapbox",
         "type": "scattermapbox"
        },
        {
         "hovertemplate": "latitude=%{lat}<br>longitude=%{lon}<extra></extra>",
         "lat": [
          47.468153096861755,
          47.48412051443326,
          47.49993896484375,
          47.51490783691406,
          47.51948547363281,
          47.5166015625,
          47.5111673646054,
          47.50584411621094,
          47.4951999470339,
          47.47541524596133,
          47.44985806739936,
          47.42425433659957,
          47.40545654296875,
          47.40119934082031,
          47.415968038268005,
          47.44189453125,
          47.467827231197035,
          47.49220275878906,
          47.50630187988281,
          47.49861145019531,
          47.47555490267479,
          47.45027160644531,
          47.429607843948624,
          47.417224948689096,
          47.41227722167969,
          47.40792846679688,
          47.40339660644531,
          47.4005126953125,
          47.407821396649894,
          47.42619323730469,
          47.45196533203125,
          47.47751009666313,
          47.49124145507812,
          47.486727439751064,
          47.4787204548464,
          47.47041320800781,
          47.462846141750525,
          47.45539855957031,
          47.45645141601562,
          47.46931690280721,
          47.49026540982521,
          47.51410015558792,
          47.53330993652344,
          47.55148315429688,
          47.5692180051642,
          47.587885452529136,
          47.610277078919495,
          47.63127136230469,
          47.65219116210938,
          47.66221618652344,
          47.6553955078125,
          47.64482116699219,
          47.63058471679688,
          47.61566162109375,
          47.600082138837394,
          47.584300930217154,
          47.56931110963983,
          47.55587768554688,
          47.54179873708951,
          47.52818298339844,
          47.51670708090571,
          47.50588989257812,
          47.49490356445312,
          47.4842136189089
         ],
         "legendgroup": "",
         "line": {
          "color": "#636efa"
         },
         "lon": [
          8.114177997295673,
          8.081852839543268,
          8.049888610839844,
          8.016448974609375,
          7.979438781738281,
          7.943595886230469,
          7.908395620492787,
          7.8737640380859375,
          7.8438861553485575,
          7.821983924278847,
          7.81536395733173,
          7.828392615685097,
          7.861198425292969,
          7.907203674316406,
          7.9491717998798075,
          7.97607421875,
          8.001145582932693,
          8.031967163085938,
          8.072479248046875,
          8.114295959472656,
          8.132840670072115,
          8.130706787109375,
          8.113332895132213,
          8.085092397836537,
          8.051261901855469,
          8.018714904785156,
          7.986305236816406,
          7.9525909423828125,
          7.9200862004206725,
          7.8957366943359375,
          7.888801574707031,
          7.905296912560097,
          7.9454498291015625,
          7.9873422475961515,
          8.026921198918268,
          8.067123413085938,
          8.105304424579327,
          8.144027709960938,
          8.183853149414062,
          8.219886192908652,
          8.240943321814902,
          8.233971228966345,
          8.215713500976562,
          8.198616027832031,
          8.181856595552883,
          8.167630709134615,
          8.174321101262018,
          8.1903076171875,
          8.208091735839844,
          8.240226745605469,
          8.274284362792969,
          8.305046081542969,
          8.331207275390625,
          8.353042602539062,
          8.374469463641827,
          8.396089993990383,
          8.416583721454327,
          8.435165405273438,
          8.454542893629807,
          8.472862243652344,
          8.488487830528845,
          8.503555297851562,
          8.518524169921875,
          8.533419095552883
         ],
         "mode": "lines",
         "name": "",
         "showlegend": false,
         "subplot": "mapbox",
         "type": "scattermapbox"
        }
       ],
       "frames": [
        {
         "data": [
          {
           "hovertemplate": "<b>%{hovertext}</b><br><br>Time=08:12:07<br>altitude=%{marker.size}<br>latitude=%{lat}<br>longitude=%{lon}<extra></extra>",
           "hovertext": [
            "AEA76TU_392",
            "AEE5SZ_4449"
           ],
           "ids": [
            "AEA76TU_392",
            "AEE5SZ_4449"
           ],
           "lat": [
            47.05265808105469,
            47.468153096861755
           ],
           "legendgroup": "",
           "lon": [
            7.78765869140625,
            8.114177997295673
           ],
           "marker": {
            "color": "#636efa",
            "size": [
             21625,
             17375.000000000004
            ],
            "sizemode": "area",
            "sizeref": 54.0625
           },
           "mode": "markers",
           "name": "",
           "showlegend": false,
           "subplot": "mapbox",
           "type": "scattermapbox"
          }
         ],
         "name": "08:12:07"
        },
        {
         "data": [
          {
           "hovertemplate": "<b>%{hovertext}</b><br><br>Time=08:12:30<br>altitude=%{marker.size}<br>latitude=%{lat}<br>longitude=%{lon}<extra></extra>",
           "hovertext": [
            "AEA76TU_392",
            "AEE5SZ_4449"
           ],
           "ids": [
            "AEA76TU_392",
            "AEE5SZ_4449"
           ],
           "lat": [
            47.074786687301376,
            47.48412051443326
           ],
           "legendgroup": "",
           "lon": [
            7.828674316406249,
            8.081852839543268
           ],
           "marker": {
            "color": "#636efa",
            "size": [
             21400,
             17025
            ],
            "sizemode": "area",
            "sizeref": 54.0625
           },
           "mode": "markers",
           "name": "",
           "showlegend": false,
           "subplot": "mapbox",
           "type": "scattermapbox"
          }
         ],
         "name": "08:12:30"
        },
        {
         "data": [
          {
           "hovertemplate": "<b>%{hovertext}</b><br><br>Time=08:12:53<br>altitude=%{marker.size}<br>latitude=%{lat}<br>longitude=%{lon}<extra></extra>",
           "hovertext": [
            "AEA76TU_392",
            "AEE5SZ_4449"
           ],
           "ids": [
            "AEA76TU_392",
            "AEE5SZ_4449"
           ],
           "lat": [
            47.09661968683792,
            47.49993896484375
           ],
           "legendgroup": "",
           "lon": [
            7.8692392202524015,
            8.049888610839844
           ],
           "marker": {
            "color": "#636efa",
            "size": [
             21175,
             17000
            ],
            "sizemode": "area",
            "sizeref": 54.0625
           },
           "mode": "markers",
           "name": "",
           "showlegend": false,
           "subplot": "mapbox",
           "type": "scattermapbox"
          }
         ],
         "name": "08:12:53"
        },
        {
         "data": [
          {
           "hovertemplate": "<b>%{hovertext}</b><br><br>Time=08:13:16<br>altitude=%{marker.size}<br>latitude=%{lat}<br>longitude=%{lon}<extra></extra>",
           "hovertext": [
            "AEA76TU_392",
            "AEE5SZ_4449"
           ],
           "ids": [
            "AEA76TU_392",
            "AEE5SZ_4449"
           ],
           "lat": [
            47.11857604980469,
            47.51490783691406
           ],
           "legendgroup": "",
           "lon": [
            7.910087585449219,
            8.016448974609375
           ],
           "marker": {
            "color": "#636efa",
            "size": [
             20950,
             17000
            ],
            "sizemode": "area",
            "sizeref": 54.0625
           },
           "mode": "markers",
           "name": "",
           "showlegend": false,
           "subplot": "mapbox",
           "type": "scattermapbox"
          }
         ],
         "name": "08:13:16"
        },
        {
         "data": [
          {
           "hovertemplate": "<b>%{hovertext}</b><br><br>Time=08:13:39<br>altitude=%{marker.size}<br>latitude=%{lat}<br>longitude=%{lon}<extra></extra>",
           "hovertext": [
            "AEA76TU_392",
            "AEE5SZ_4449"
           ],
           "ids": [
            "AEA76TU_392",
            "AEE5SZ_4449"
           ],
           "lat": [
            47.138470148636124,
            47.51948547363281
           ],
           "legendgroup": "",
           "lon": [
            7.953186035156249,
            7.979438781738281
           ],
           "marker": {
            "color": "#636efa",
            "size": [
             20724.999999999996,
             17000
            ],
            "sizemode": "area",
            "sizeref": 54.0625
           },
           "mode": "markers",
           "name": "",
           "showlegend": false,
           "subplot": "mapbox",
           "type": "scattermapbox"
          }
         ],
         "name": "08:13:39"
        },
        {
         "data": [
          {
           "hovertemplate": "<b>%{hovertext}</b><br><br>Time=08:14:02<br>altitude=%{marker.size}<br>latitude=%{lat}<br>longitude=%{lon}<extra></extra>",
           "hovertext": [
            "AEA76TU_392",
            "AEE5SZ_4449"
           ],
           "ids": [
            "AEA76TU_392",
            "AEE5SZ_4449"
           ],
           "lat": [
            47.15400695800781,
            47.5166015625
           ],
           "legendgroup": "",
           "lon": [
            8.000038146972656,
            7.943595886230469
           ],
           "marker": {
            "color": "#636efa",
            "size": [
             20500.000000000004,
             16950.000000000004
            ],
            "sizemode": "area",
            "sizeref": 54.0625
           },
           "mode": "markers",
           "name": "",
           "showlegend": false,
           "subplot": "mapbox",
           "type": "scattermapbox"
          }
         ],
         "name": "08:14:02"
        },
        {
         "data": [
          {
           "hovertemplate": "<b>%{hovertext}</b><br><br>Time=08:14:25<br>altitude=%{marker.size}<br>latitude=%{lat}<br>longitude=%{lon}<extra></extra>",
           "hovertext": [
            "AEA76TU_392",
            "AEE5SZ_4449"
           ],
           "ids": [
            "AEA76TU_392",
            "AEE5SZ_4449"
           ],
           "lat": [
            47.16929626464844,
            47.5111673646054
           ],
           "legendgroup": "",
           "lon": [
            8.0474853515625,
            7.908395620492787
           ],
           "marker": {
            "color": "#636efa",
            "size": [
             20275.000000000004,
             16575
            ],
            "sizemode": "area",
            "sizeref": 54.0625
           },
           "mode": "markers",
           "name": "",
           "showlegend": false,
           "subplot": "mapbox",
           "type": "scattermapbox"
          }
         ],
         "name": "08:14:25"
        },
        {
         "data": [
          {
           "hovertemplate": "<b>%{hovertext}</b><br><br>Time=08:14:48<br>altitude=%{marker.size}<br>latitude=%{lat}<br>longitude=%{lon}<extra></extra>",
           "hovertext": [
            "AEA76TU_392",
            "AEE5SZ_4449"
           ],
           "ids": [
            "AEA76TU_392",
            "AEE5SZ_4449"
           ],
           "lat": [
            47.18441720736229,
            47.50584411621094
           ],
           "legendgroup": "",
           "lon": [
            8.094458946814902,
            7.8737640380859375
           ],
           "marker": {
            "color": "#636efa",
            "size": [
             20050.000000000004,
             16175
            ],
            "sizemode": "area",
            "sizeref": 54.0625
           },
           "mode": "markers",
           "name": "",
           "showlegend": false,
           "subplot": "mapbox",
           "type": "scattermapbox"
          }
         ],
         "name": "08:14:48"
        },
        {
         "data": [
          {
           "hovertemplate": "<b>%{hovertext}</b><br><br>Time=08:15:11<br>altitude=%{marker.size}<br>latitude=%{lat}<br>longitude=%{lon}<extra></extra>",
           "hovertext": [
            "AEA76TU_392",
            "AEE5SZ_4449"
           ],
           "ids": [
            "AEA76TU_392",
            "AEE5SZ_4449"
           ],
           "lat": [
            47.199267371226156,
            47.4951999470339
           ],
           "legendgroup": "",
           "lon": [
            8.141150841346152,
            7.8438861553485575
           ],
           "marker": {
            "color": "#636efa",
            "size": [
             19825,
             16000
            ],
            "sizemode": "area",
            "sizeref": 54.0625
           },
           "mode": "markers",
           "name": "",
           "showlegend": false,
           "subplot": "mapbox",
           "type": "scattermapbox"
          }
         ],
         "name": "08:15:11"
        },
        {
         "data": [
          {
           "hovertemplate": "<b>%{hovertext}</b><br><br>Time=08:15:34<br>altitude=%{marker.size}<br>latitude=%{lat}<br>longitude=%{lon}<extra></extra>",
           "hovertext": [
            "AEA76TU_392",
            "AEE5SZ_4449"
           ],
           "ids": [
            "AEA76TU_392",
            "AEE5SZ_4449"
           ],
           "lat": [
            47.21998311705508,
            47.47541524596133
           ],
           "legendgroup": "",
           "lon": [
            8.182138296274037,
            7.821983924278847
           ],
           "marker": {
            "color": "#636efa",
            "size": [
             19600,
             15975
            ],
            "sizemode": "area",
            "sizeref": 54.0625
           },
           "mode": "markers",
           "name": "",
           "showlegend": false,
           "subplot": "mapbox",
           "type": "scattermapbox"
          }
         ],
         "name": "08:15:34"
        },
        {
         "data": [
          {
           "hovertemplate": "<b>%{hovertext}</b><br><br>Time=08:15:57<br>altitude=%{marker.size}<br>latitude=%{lat}<br>longitude=%{lon}<extra></extra>",
           "hovertext": [
            "AEA76TU_392",
            "AEE5SZ_4449"
           ],
           "ids": [
            "AEA76TU_392",
            "AEE5SZ_4449"
           ],
           "lat": [
            47.24977654925847,
            47.44985806739936
           ],
           "legendgroup": "",
           "lon": [
            8.203336275540865,
            7.81536395733173
           ],
           "marker": {
            "color": "#636efa",
            "size": [
             19375,
             15675.000000000004
            ],
            "sizemode": "area",
            "sizeref": 54.0625
           },
           "mode": "markers",
           "name": "",
           "showlegend": false,
           "subplot": "mapbox",
           "type": "scattermapbox"
          }
         ],
         "name": "08:15:57"
        },
        {
         "data": [
          {
           "hovertemplate": "<b>%{hovertext}</b><br><br>Time=08:16:20<br>altitude=%{marker.size}<br>latitude=%{lat}<br>longitude=%{lon}<extra></extra>",
           "hovertext": [
            "AEA76TU_392",
            "AEE5SZ_4449"
           ],
           "ids": [
            "AEA76TU_392",
            "AEE5SZ_4449"
           ],
           "lat": [
            47.280733787407314,
            47.42425433659957
           ],
           "legendgroup": "",
           "lon": [
            8.20404052734375,
            7.828392615685097
           ],
           "marker": {
            "color": "#636efa",
            "size": [
             19175,
             15300.000000000004
            ],
            "sizemode": "area",
            "sizeref": 54.0625
           },
           "mode": "markers",
           "name": "",
           "showlegend": false,
           "subplot": "mapbox",
           "type": "scattermapbox"
          }
         ],
         "name": "08:16:20"
        },
        {
         "data": [
          {
           "hovertemplate": "<b>%{hovertext}</b><br><br>Time=08:16:43<br>altitude=%{marker.size}<br>latitude=%{lat}<br>longitude=%{lon}<extra></extra>",
           "hovertext": [
            "AEA76TU_392",
            "AEE5SZ_4449"
           ],
           "ids": [
            "AEA76TU_392",
            "AEE5SZ_4449"
           ],
           "lat": [
            47.30813598632812,
            47.40545654296875
           ],
           "legendgroup": "",
           "lon": [
            8.187973022460938,
            7.861198425292969
           ],
           "marker": {
            "color": "#636efa",
            "size": [
             19000.000000000004,
             15024.999999999998
            ],
            "sizemode": "area",
            "sizeref": 54.0625
           },
           "mode": "markers",
           "name": "",
           "showlegend": false,
           "subplot": "mapbox",
           "type": "scattermapbox"
          }
         ],
         "name": "08:16:43"
        },
        {
         "data": [
          {
           "hovertemplate": "<b>%{hovertext}</b><br><br>Time=08:17:06<br>altitude=%{marker.size}<br>latitude=%{lat}<br>longitude=%{lon}<extra></extra>",
           "hovertext": [
            "AEA76TU_392",
            "AEE5SZ_4449"
           ],
           "ids": [
            "AEA76TU_392",
            "AEE5SZ_4449"
           ],
           "lat": [
            47.33395385742188,
            47.40119934082031
           ],
           "legendgroup": "",
           "lon": [
            8.168678283691406,
            7.907203674316406
           ],
           "marker": {
            "color": "#636efa",
            "size": [
             18925,
             15000
            ],
            "sizemode": "area",
            "sizeref": 54.0625
           },
           "mode": "markers",
           "name": "",
           "showlegend": false,
           "subplot": "mapbox",
           "type": "scattermapbox"
          }
         ],
         "name": "08:17:06"
        },
        {
         "data": [
          {
           "hovertemplate": "<b>%{hovertext}</b><br><br>Time=08:17:29<br>altitude=%{marker.size}<br>latitude=%{lat}<br>longitude=%{lon}<extra></extra>",
           "hovertext": [
            "AEA76TU_392",
            "AEE5SZ_4449"
           ],
           "ids": [
            "AEA76TU_392",
            "AEE5SZ_4449"
           ],
           "lat": [
            47.36052432302701,
            47.415968038268005
           ],
           "legendgroup": "",
           "lon": [
            8.148827185997595,
            7.9491717998798075
           ],
           "marker": {
            "color": "#636efa",
            "size": [
             18700,
             14950
            ],
            "sizemode": "area",
            "sizeref": 54.0625
           },
           "mode": "markers",
           "name": "",
           "showlegend": false,
           "subplot": "mapbox",
           "type": "scattermapbox"
          }
         ],
         "name": "08:17:29"
        },
        {
         "data": [
          {
           "hovertemplate": "<b>%{hovertext}</b><br><br>Time=08:17:52<br>altitude=%{marker.size}<br>latitude=%{lat}<br>longitude=%{lon}<extra></extra>",
           "hovertext": [
            "AEA76TU_392",
            "AEE5SZ_4449"
           ],
           "ids": [
            "AEA76TU_392",
            "AEE5SZ_4449"
           ],
           "lat": [
            47.38645935058594,
            47.44189453125
           ],
           "legendgroup": "",
           "lon": [
            8.129470825195312,
            7.97607421875
           ],
           "marker": {
            "color": "#636efa",
            "size": [
             18475,
             14575
            ],
            "sizemode": "area",
            "sizeref": 54.0625
           },
           "mode": "markers",
           "name": "",
           "showlegend": false,
           "subplot": "mapbox",
           "type": "scattermapbox"
          }
         ],
         "name": "08:17:52"
        },
        {
         "data": [
          {
           "hovertemplate": "<b>%{hovertext}</b><br><br>Time=08:18:15<br>altitude=%{marker.size}<br>latitude=%{lat}<br>longitude=%{lon}<extra></extra>",
           "hovertext": [
            "AEA76TU_392",
            "AEE5SZ_4449"
           ],
           "ids": [
            "AEA76TU_392",
            "AEE5SZ_4449"
           ],
           "lat": [
            47.412616277145126,
            47.467827231197035
           ],
           "legendgroup": "",
           "lon": [
            8.109882061298077,
            8.001145582932693
           ],
           "marker": {
            "color": "#636efa",
            "size": [
             18150,
             14150
            ],
            "sizemode": "area",
            "sizeref": 54.0625
           },
           "mode": "markers",
           "name": "",
           "showlegend": false,
           "subplot": "mapbox",
           "type": "scattermapbox"
          }
         ],
         "name": "08:18:15"
        },
        {
         "data": [
          {
           "hovertemplate": "<b>%{hovertext}</b><br><br>Time=08:18:38<br>altitude=%{marker.size}<br>latitude=%{lat}<br>longitude=%{lon}<extra></extra>",
           "hovertext": [
            "AEA76TU_392",
            "AEE5SZ_4449"
           ],
           "ids": [
            "AEA76TU_392",
            "AEE5SZ_4449"
           ],
           "lat": [
            47.43863897808527,
            47.49220275878906
           ],
           "legendgroup": "",
           "lon": [
            8.090444711538463,
            8.031967163085938
           ],
           "marker": {
            "color": "#636efa",
            "size": [
             17599.999999999996,
             13625.000000000004
            ],
            "sizemode": "area",
            "sizeref": 54.0625
           },
           "mode": "markers",
           "name": "",
           "showlegend": false,
           "subplot": "mapbox",
           "type": "scattermapbox"
          }
         ],
         "name": "08:18:38"
        },
        {
         "data": [
          {
           "hovertemplate": "<b>%{hovertext}</b><br><br>Time=08:19:01<br>altitude=%{marker.size}<br>latitude=%{lat}<br>longitude=%{lon}<extra></extra>",
           "hovertext": [
            "AEA76TU_392",
            "AEE5SZ_4449"
           ],
           "ids": [
            "AEA76TU_392",
            "AEE5SZ_4449"
           ],
           "lat": [
            47.46442891783633,
            47.50630187988281
           ],
           "legendgroup": "",
           "lon": [
            8.071148212139423,
            8.072479248046875
           ],
           "marker": {
            "color": "#636efa",
            "size": [
             17050,
             13149.999999999998
            ],
            "sizemode": "area",
            "sizeref": 54.0625
           },
           "mode": "markers",
           "name": "",
           "showlegend": false,
           "subplot": "mapbox",
           "type": "scattermapbox"
          }
         ],
         "name": "08:19:01"
        },
        {
         "data": [
          {
           "hovertemplate": "<b>%{hovertext}</b><br><br>Time=08:19:24<br>altitude=%{marker.size}<br>latitude=%{lat}<br>longitude=%{lon}<extra></extra>",
           "hovertext": [
            "AEA76TU_392",
            "AEE5SZ_4449"
           ],
           "ids": [
            "AEA76TU_392",
            "AEE5SZ_4449"
           ],
           "lat": [
            47.49073791503906,
            47.49861145019531
           ],
           "legendgroup": "",
           "lon": [
            8.051399230957031,
            8.114295959472656
           ],
           "marker": {
            "color": "#636efa",
            "size": [
             17000,
             12649.999999999998
            ],
            "sizemode": "area",
            "sizeref": 54.0625
           },
           "mode": "markers",
           "name": "",
           "showlegend": false,
           "subplot": "mapbox",
           "type": "scattermapbox"
          }
         ],
         "name": "08:19:24"
        },
        {
         "data": [
          {
           "hovertemplate": "<b>%{hovertext}</b><br><br>Time=08:19:47<br>altitude=%{marker.size}<br>latitude=%{lat}<br>longitude=%{lon}<extra></extra>",
           "hovertext": [
            "AEA76TU_392",
            "AEE5SZ_4449"
           ],
           "ids": [
            "AEA76TU_392",
            "AEE5SZ_4449"
           ],
           "lat": [
            47.51632690429688,
            47.47555490267479
           ],
           "legendgroup": "",
           "lon": [
            8.0321044921875,
            8.132840670072115
           ],
           "marker": {
            "color": "#636efa",
            "size": [
             17000,
             12124.999999999998
            ],
            "sizemode": "area",
            "sizeref": 54.0625
           },
           "mode": "markers",
           "name": "",
           "showlegend": false,
           "subplot": "mapbox",
           "type": "scattermapbox"
          }
         ],
         "name": "08:19:47"
        },
        {
         "data": [
          {
           "hovertemplate": "<b>%{hovertext}</b><br><br>Time=08:20:10<br>altitude=%{marker.size}<br>latitude=%{lat}<br>longitude=%{lon}<extra></extra>",
           "hovertext": [
            "AEA76TU_392",
            "AEE5SZ_4449"
           ],
           "ids": [
            "AEA76TU_392",
            "AEE5SZ_4449"
           ],
           "lat": [
            47.53120422363281,
            47.45027160644531
           ],
           "legendgroup": "",
           "lon": [
            8.001068115234375,
            8.130706787109375
           ],
           "marker": {
            "color": "#636efa",
            "size": [
             16950.000000000004,
             11650
            ],
            "sizemode": "area",
            "sizeref": 54.0625
           },
           "mode": "markers",
           "name": "",
           "showlegend": false,
           "subplot": "mapbox",
           "type": "scattermapbox"
          }
         ],
         "name": "08:20:10"
        },
        {
         "data": [
          {
           "hovertemplate": "<b>%{hovertext}</b><br><br>Time=08:20:33<br>altitude=%{marker.size}<br>latitude=%{lat}<br>longitude=%{lon}<extra></extra>",
           "hovertext": [
            "AEA76TU_392",
            "AEE5SZ_4449"
           ],
           "ids": [
            "AEA76TU_392",
            "AEE5SZ_4449"
           ],
           "lat": [
            47.52854919433594,
            47.429607843948624
           ],
           "legendgroup": "",
           "lon": [
            7.9649505615234375,
            8.113332895132213
           ],
           "marker": {
            "color": "#636efa",
            "size": [
             16575,
             11174.999999999998
            ],
            "sizemode": "area",
            "sizeref": 54.0625
           },
           "mode": "markers",
           "name": "",
           "showlegend": false,
           "subplot": "mapbox",
           "type": "scattermapbox"
          }
         ],
         "name": "08:20:33"
        },
        {
         "data": [
          {
           "hovertemplate": "<b>%{hovertext}</b><br><br>Time=08:20:56<br>altitude=%{marker.size}<br>latitude=%{lat}<br>longitude=%{lon}<extra></extra>",
           "hovertext": [
            "AEA76TU_392",
            "AEE5SZ_4449"
           ],
           "ids": [
            "AEA76TU_392",
            "AEE5SZ_4449"
           ],
           "lat": [
            47.52466751357256,
            47.417224948689096
           ],
           "legendgroup": "",
           "lon": [
            7.9295231745793275,
            8.085092397836537
           ],
           "marker": {
            "color": "#636efa",
            "size": [
             16175,
             10674.999999999998
            ],
            "sizemode": "area",
            "sizeref": 54.0625
           },
           "mode": "markers",
           "name": "",
           "showlegend": false,
           "subplot": "mapbox",
           "type": "scattermapbox"
          }
         ],
         "name": "08:20:56"
        },
        {
         "data": [
          {
           "hovertemplate": "<b>%{hovertext}</b><br><br>Time=08:21:19<br>altitude=%{marker.size}<br>latitude=%{lat}<br>longitude=%{lon}<extra></extra>",
           "hovertext": [
            "AEA76TU_392",
            "AEE5SZ_4449"
           ],
           "ids": [
            "AEA76TU_392",
            "AEE5SZ_4449"
           ],
           "lat": [
            47.52053833007812,
            47.41227722167969
           ],
           "legendgroup": "",
           "lon": [
            7.894432067871094,
            8.051261901855469
           ],
           "marker": {
            "color": "#636efa",
            "size": [
             15925.000000000004,
             10275
            ],
            "sizemode": "area",
            "sizeref": 54.0625
           },
           "mode": "markers",
           "name": "",
           "showlegend": false,
           "subplot": "mapbox",
           "type": "scattermapbox"
          }
         ],
         "name": "08:21:19"
        },
        {
         "data": [
          {
           "hovertemplate": "<b>%{hovertext}</b><br><br>Time=08:21:42<br>altitude=%{marker.size}<br>latitude=%{lat}<br>longitude=%{lon}<extra></extra>",
           "hovertext": [
            "AEA76TU_392",
            "AEE5SZ_4449"
           ],
           "ids": [
            "AEA76TU_392",
            "AEE5SZ_4449"
           ],
           "lat": [
            47.50772094726562,
            47.40792846679688
           ],
           "legendgroup": "",
           "lon": [
            7.86566162109375,
            8.018714904785156
           ],
           "marker": {
            "color": "#636efa",
            "size": [
             15550,
             10000
            ],
            "sizemode": "area",
            "sizeref": 54.0625
           },
           "mode": "markers",
           "name": "",
           "showlegend": false,
           "subplot": "mapbox",
           "type": "scattermapbox"
          }
         ],
         "name": "08:21:42"
        },
        {
         "data": [
          {
           "hovertemplate": "<b>%{hovertext}</b><br><br>Time=08:22:05<br>altitude=%{marker.size}<br>latitude=%{lat}<br>longitude=%{lon}<extra></extra>",
           "hovertext": [
            "AEA76TU_392",
            "AEE5SZ_4449"
           ],
           "ids": [
            "AEA76TU_392",
            "AEE5SZ_4449"
           ],
           "lat": [
            47.48231506347656,
            47.40339660644531
           ],
           "legendgroup": "",
           "lon": [
            7.866416931152344,
            7.986305236816406
           ],
           "marker": {
            "color": "#636efa",
            "size": [
             15175,
             10000
            ],
            "sizemode": "area",
            "sizeref": 54.0625
           },
           "mode": "markers",
           "name": "",
           "showlegend": false,
           "subplot": "mapbox",
           "type": "scattermapbox"
          }
         ],
         "name": "08:22:05"
        },
        {
         "data": [
          {
           "hovertemplate": "<b>%{hovertext}</b><br><br>Time=08:22:28<br>altitude=%{marker.size}<br>latitude=%{lat}<br>longitude=%{lon}<extra></extra>",
           "hovertext": [
            "AEA76TU_392",
            "AEE5SZ_4449"
           ],
           "ids": [
            "AEA76TU_392",
            "AEE5SZ_4449"
           ],
           "lat": [
            47.465406514830505,
            47.4005126953125
           ],
           "legendgroup": "",
           "lon": [
            7.899874173677884,
            7.9525909423828125
           ],
           "marker": {
            "color": "#636efa",
            "size": [
             14824.999999999998,
             10000
            ],
            "sizemode": "area",
            "sizeref": 54.0625
           },
           "mode": "markers",
           "name": "",
           "showlegend": false,
           "subplot": "mapbox",
           "type": "scattermapbox"
          }
         ],
         "name": "08:22:28"
        },
        {
         "data": [
          {
           "hovertemplate": "<b>%{hovertext}</b><br><br>Time=08:22:51<br>altitude=%{marker.size}<br>latitude=%{lat}<br>longitude=%{lon}<extra></extra>",
           "hovertext": [
            "AEA76TU_392",
            "AEE5SZ_4449"
           ],
           "ids": [
            "AEA76TU_392",
            "AEE5SZ_4449"
           ],
           "lat": [
            47.47183227539062,
            47.407821396649894
           ],
           "legendgroup": "",
           "lon": [
            7.945930480957031,
            7.9200862004206725
           ],
           "marker": {
            "color": "#636efa",
            "size": [
             14450.000000000004,
             10000
            ],
            "sizemode": "area",
            "sizeref": 54.0625
           },
           "mode": "markers",
           "name": "",
           "showlegend": false,
           "subplot": "mapbox",
           "type": "scattermapbox"
          }
         ],
         "name": "08:22:51"
        },
        {
         "data": [
          {
           "hovertemplate": "<b>%{hovertext}</b><br><br>Time=08:23:14<br>altitude=%{marker.size}<br>latitude=%{lat}<br>longitude=%{lon}<extra></extra>",
           "hovertext": [
            "AEA76TU_392",
            "AEE5SZ_4449"
           ],
           "ids": [
            "AEA76TU_392",
            "AEE5SZ_4449"
           ],
           "lat": [
            47.49096369339248,
            47.42619323730469
           ],
           "legendgroup": "",
           "lon": [
            7.9826237605168275,
            7.8957366943359375
           ],
           "marker": {
            "color": "#636efa",
            "size": [
             14075,
             10000
            ],
            "sizemode": "area",
            "sizeref": 54.0625
           },
           "mode": "markers",
           "name": "",
           "showlegend": false,
           "subplot": "mapbox",
           "type": "scattermapbox"
          }
         ],
         "name": "08:23:14"
        },
        {
         "data": [
          {
           "hovertemplate": "<b>%{hovertext}</b><br><br>Time=08:23:37<br>altitude=%{marker.size}<br>latitude=%{lat}<br>longitude=%{lon}<extra></extra>",
           "hovertext": [
            "AEA76TU_392",
            "AEE5SZ_4449"
           ],
           "ids": [
            "AEA76TU_392",
            "AEE5SZ_4449"
           ],
           "lat": [
            47.50090026855469,
            47.45196533203125
           ],
           "legendgroup": "",
           "lon": [
            8.026679992675781,
            7.888801574707031
           ],
           "marker": {
            "color": "#636efa",
            "size": [
             13700,
             10000
            ],
            "sizemode": "area",
            "sizeref": 54.0625
           },
           "mode": "markers",
           "name": "",
           "showlegend": false,
           "subplot": "mapbox",
           "type": "scattermapbox"
          }
         ],
         "name": "08:23:37"
        },
        {
         "data": [
          {
           "hovertemplate": "<b>%{hovertext}</b><br><br>Time=08:24:00<br>altitude=%{marker.size}<br>latitude=%{lat}<br>longitude=%{lon}<extra></extra>",
           "hovertext": [
            "AEA76TU_392",
            "AEE5SZ_4449"
           ],
           "ids": [
            "AEA76TU_392",
            "AEE5SZ_4449"
           ],
           "lat": [
            47.50643920898438,
            47.47751009666313
           ],
           "legendgroup": "",
           "lon": [
            8.072273254394531,
            7.905296912560097
           ],
           "marker": {
            "color": "#636efa",
            "size": [
             13300,
             10000
            ],
            "sizemode": "area",
            "sizeref": 54.0625
           },
           "mode": "markers",
           "name": "",
           "showlegend": false,
           "subplot": "mapbox",
           "type": "scattermapbox"
          }
         ],
         "name": "08:24:00"
        },
        {
         "data": [
          {
           "hovertemplate": "<b>%{hovertext}</b><br><br>Time=08:24:24<br>altitude=%{marker.size}<br>latitude=%{lat}<br>longitude=%{lon}<extra></extra>",
           "hovertext": [
            "AEA76TU_392",
            "AEE5SZ_4449"
           ],
           "ids": [
            "AEA76TU_392",
            "AEE5SZ_4449"
           ],
           "lat": [
            47.49408269332627,
            47.49124145507812
           ],
           "legendgroup": "",
           "lon": [
            8.111501840444713,
            7.9454498291015625
           ],
           "marker": {
            "color": "#636efa",
            "size": [
             13000,
             9700
            ],
            "sizemode": "area",
            "sizeref": 54.0625
           },
           "mode": "markers",
           "name": "",
           "showlegend": false,
           "subplot": "mapbox",
           "type": "scattermapbox"
          }
         ],
         "name": "08:24:24"
        },
        {
         "data": [
          {
           "hovertemplate": "<b>%{hovertext}</b><br><br>Time=08:24:47<br>altitude=%{marker.size}<br>latitude=%{lat}<br>longitude=%{lon}<extra></extra>",
           "hovertext": [
            "AEA76TU_392",
            "AEE5SZ_4449"
           ],
           "ids": [
            "AEA76TU_392",
            "AEE5SZ_4449"
           ],
           "lat": [
            47.46917724609375,
            47.486727439751064
           ],
           "legendgroup": "",
           "lon": [
            8.1199951171875,
            7.9873422475961515
           ],
           "marker": {
            "color": "#636efa",
            "size": [
             13000,
             9300
            ],
            "sizemode": "area",
            "sizeref": 54.0625
           },
           "mode": "markers",
           "name": "",
           "showlegend": false,
           "subplot": "mapbox",
           "type": "scattermapbox"
          }
         ],
         "name": "08:24:47"
        },
        {
         "data": [
          {
           "hovertemplate": "<b>%{hovertext}</b><br><br>Time=08:25:10<br>altitude=%{marker.size}<br>latitude=%{lat}<br>longitude=%{lon}<extra></extra>",
           "hovertext": [
            "AEA76TU_392",
            "AEE5SZ_4449"
           ],
           "ids": [
            "AEA76TU_392",
            "AEE5SZ_4449"
           ],
           "lat": [
            47.447437351032846,
            47.4787204548464
           ],
           "legendgroup": "",
           "lon": [
            8.105938251201923,
            8.026921198918268
           ],
           "marker": {
            "color": "#636efa",
            "size": [
             13000,
             8899.999999999998
            ],
            "sizemode": "area",
            "sizeref": 54.0625
           },
           "mode": "markers",
           "name": "",
           "showlegend": false,
           "subplot": "mapbox",
           "type": "scattermapbox"
          }
         ],
         "name": "08:25:10"
        },
        {
         "data": [
          {
           "hovertemplate": "<b>%{hovertext}</b><br><br>Time=08:25:33<br>altitude=%{marker.size}<br>latitude=%{lat}<br>longitude=%{lon}<extra></extra>",
           "hovertext": [
            "AEA76TU_392",
            "AEE5SZ_4449"
           ],
           "ids": [
            "AEA76TU_392",
            "AEE5SZ_4449"
           ],
           "lat": [
            47.43534851074219,
            47.47041320800781
           ],
           "legendgroup": "",
           "lon": [
            8.075775146484375,
            8.067123413085938
           ],
           "marker": {
            "color": "#636efa",
            "size": [
             13000,
             8525
            ],
            "sizemode": "area",
            "sizeref": 54.0625
           },
           "mode": "markers",
           "name": "",
           "showlegend": false,
           "subplot": "mapbox",
           "type": "scattermapbox"
          }
         ],
         "name": "08:25:33"
        },
        {
         "data": [
          {
           "hovertemplate": "<b>%{hovertext}</b><br><br>Time=08:25:56<br>altitude=%{marker.size}<br>latitude=%{lat}<br>longitude=%{lon}<extra></extra>",
           "hovertext": [
            "AEA76TU_392",
            "AEE5SZ_4449"
           ],
           "ids": [
            "AEA76TU_392",
            "AEE5SZ_4449"
           ],
           "lat": [
            47.4313768289857,
            47.462846141750525
           ],
           "legendgroup": "",
           "lon": [
            8.041710486778845,
            8.105304424579327
           ],
           "marker": {
            "color": "#636efa",
            "size": [
             12925,
             8200
            ],
            "sizemode": "area",
            "sizeref": 54.0625
           },
           "mode": "markers",
           "name": "",
           "showlegend": false,
           "subplot": "mapbox",
           "type": "scattermapbox"
          }
         ],
         "name": "08:25:56"
        },
        {
         "data": [
          {
           "hovertemplate": "<b>%{hovertext}</b><br><br>Time=08:26:19<br>altitude=%{marker.size}<br>latitude=%{lat}<br>longitude=%{lon}<extra></extra>",
           "hovertext": [
            "AEA76TU_392",
            "AEE5SZ_4449"
           ],
           "ids": [
            "AEA76TU_392",
            "AEE5SZ_4449"
           ],
           "lat": [
            47.42724609375,
            47.45539855957031
           ],
           "legendgroup": "",
           "lon": [
            8.007865905761719,
            8.144027709960938
           ],
           "marker": {
            "color": "#636efa",
            "size": [
             12624.999999999998,
             7724.999999999999
            ],
            "sizemode": "area",
            "sizeref": 54.0625
           },
           "mode": "markers",
           "name": "",
           "showlegend": false,
           "subplot": "mapbox",
           "type": "scattermapbox"
          }
         ],
         "name": "08:26:19"
        },
        {
         "data": [
          {
           "hovertemplate": "<b>%{hovertext}</b><br><br>Time=08:26:42<br>altitude=%{marker.size}<br>latitude=%{lat}<br>longitude=%{lon}<extra></extra>",
           "hovertext": [
            "AEA76TU_392",
            "AEE5SZ_4449"
           ],
           "ids": [
            "AEA76TU_392",
            "AEE5SZ_4449"
           ],
           "lat": [
            47.423090530654136,
            47.45645141601562
           ],
           "legendgroup": "",
           "lon": [
            7.9726938100961515,
            8.183853149414062
           ],
           "marker": {
            "color": "#636efa",
            "size": [
             12275,
             7250
            ],
            "sizemode": "area",
            "sizeref": 54.0625
           },
           "mode": "markers",
           "name": "",
           "showlegend": false,
           "subplot": "mapbox",
           "type": "scattermapbox"
          }
         ],
         "name": "08:26:42"
        },
        {
         "data": [
          {
           "hovertemplate": "<b>%{hovertext}</b><br><br>Time=08:27:05<br>altitude=%{marker.size}<br>latitude=%{lat}<br>longitude=%{lon}<extra></extra>",
           "hovertext": [
            "AEA76TU_392",
            "AEE5SZ_4449"
           ],
           "ids": [
            "AEA76TU_392",
            "AEE5SZ_4449"
           ],
           "lat": [
            47.4193663516287,
            47.46931690280721
           ],
           "legendgroup": "",
           "lon": [
            7.938608022836537,
            8.219886192908652
           ],
           "marker": {
            "color": "#636efa",
            "size": [
             12000,
             7075
            ],
            "sizemode": "area",
            "sizeref": 54.0625
           },
           "mode": "markers",
           "name": "",
           "showlegend": false,
           "subplot": "mapbox",
           "type": "scattermapbox"
          }
         ],
         "name": "08:27:05"
        },
        {
         "data": [
          {
           "hovertemplate": "<b>%{hovertext}</b><br><br>Time=08:27:28<br>altitude=%{marker.size}<br>latitude=%{lat}<br>longitude=%{lon}<extra></extra>",
           "hovertext": [
            "AEA76TU_392",
            "AEE5SZ_4449"
           ],
           "ids": [
            "AEA76TU_392",
            "AEE5SZ_4449"
           ],
           "lat": [
            47.425048828125,
            47.49026540982521
           ],
           "legendgroup": "",
           "lon": [
            7.904457092285156,
            8.240943321814902
           ],
           "marker": {
            "color": "#636efa",
            "size": [
             12000,
             7050
            ],
            "sizemode": "area",
            "sizeref": 54.0625
           },
           "mode": "markers",
           "name": "",
           "showlegend": false,
           "subplot": "mapbox",
           "type": "scattermapbox"
          }
         ],
         "name": "08:27:28"
        },
        {
         "data": [
          {
           "hovertemplate": "<b>%{hovertext}</b><br><br>Time=08:27:51<br>altitude=%{marker.size}<br>latitude=%{lat}<br>longitude=%{lon}<extra></extra>",
           "hovertext": [
            "AEA76TU_392",
            "AEE5SZ_4449"
           ],
           "ids": [
            "AEA76TU_392",
            "AEE5SZ_4449"
           ],
           "lat": [
            47.44610595703125,
            47.51410015558792
           ],
           "legendgroup": "",
           "lon": [
            7.883583068847656,
            8.233971228966345
           ],
           "marker": {
            "color": "#636efa",
            "size": [
             11950,
             7050
            ],
            "sizemode": "area",
            "sizeref": 54.0625
           },
           "mode": "markers",
           "name": "",
           "showlegend": false,
           "subplot": "mapbox",
           "type": "scattermapbox"
          }
         ],
         "name": "08:27:51"
        },
        {
         "data": [
          {
           "hovertemplate": "<b>%{hovertext}</b><br><br>Time=08:28:14<br>altitude=%{marker.size}<br>latitude=%{lat}<br>longitude=%{lon}<extra></extra>",
           "hovertext": [
            "AEA76TU_392",
            "AEE5SZ_4449"
           ],
           "ids": [
            "AEA76TU_392",
            "AEE5SZ_4449"
           ],
           "lat": [
            47.4732272907839,
            47.53330993652344
           ],
           "legendgroup": "",
           "lon": [
            7.8919865534855775,
            8.215713500976562
           ],
           "marker": {
            "color": "#636efa",
            "size": [
             11475,
             7050
            ],
            "sizemode": "area",
            "sizeref": 54.0625
           },
           "mode": "markers",
           "name": "",
           "showlegend": false,
           "subplot": "mapbox",
           "type": "scattermapbox"
          }
         ],
         "name": "08:28:14"
        },
        {
         "data": [
          {
           "hovertemplate": "<b>%{hovertext}</b><br><br>Time=08:28:37<br>altitude=%{marker.size}<br>latitude=%{lat}<br>longitude=%{lon}<extra></extra>",
           "hovertext": [
            "AEA76TU_392",
            "AEE5SZ_4449"
           ],
           "ids": [
            "AEA76TU_392",
            "AEE5SZ_4449"
           ],
           "lat": [
            47.48954772949219,
            47.55148315429688
           ],
           "legendgroup": "",
           "lon": [
            7.928764343261719,
            8.198616027832031
           ],
           "marker": {
            "color": "#636efa",
            "size": [
             10950,
             6975
            ],
            "sizemode": "area",
            "sizeref": 54.0625
           },
           "mode": "markers",
           "name": "",
           "showlegend": false,
           "subplot": "mapbox",
           "type": "scattermapbox"
          }
         ],
         "name": "08:28:37"
        },
        {
         "data": [
          {
           "hovertemplate": "<b>%{hovertext}</b><br><br>Time=08:29:00<br>altitude=%{marker.size}<br>latitude=%{lat}<br>longitude=%{lon}<extra></extra>",
           "hovertext": [
            "AEA76TU_392",
            "AEE5SZ_4449"
           ],
           "ids": [
            "AEA76TU_392",
            "AEE5SZ_4449"
           ],
           "lat": [
            47.49124145507812,
            47.5692180051642
           ],
           "legendgroup": "",
           "lon": [
            7.9716796875,
            8.181856595552883
           ],
           "marker": {
            "color": "#636efa",
            "size": [
             10525,
             6600
            ],
            "sizemode": "area",
            "sizeref": 54.0625
           },
           "mode": "markers",
           "name": "",
           "showlegend": false,
           "subplot": "mapbox",
           "type": "scattermapbox"
          }
         ],
         "name": "08:29:00"
        },
        {
         "data": [
          {
           "hovertemplate": "<b>%{hovertext}</b><br><br>Time=08:29:23<br>altitude=%{marker.size}<br>latitude=%{lat}<br>longitude=%{lon}<extra></extra>",
           "hovertext": [
            "AEA76TU_392",
            "AEE5SZ_4449"
           ],
           "ids": [
            "AEA76TU_392",
            "AEE5SZ_4449"
           ],
           "lat": [
            47.49198784262446,
            47.587885452529136
           ],
           "legendgroup": "",
           "lon": [
            8.01586444561298,
            8.167630709134615
           ],
           "marker": {
            "color": "#636efa",
            "size": [
             10075,
             6200
            ],
            "sizemode": "area",
            "sizeref": 54.0625
           },
           "mode": "markers",
           "name": "",
           "showlegend": false,
           "subplot": "mapbox",
           "type": "scattermapbox"
          }
         ],
         "name": "08:29:23"
        },
        {
         "data": [
          {
           "hovertemplate": "<b>%{hovertext}</b><br><br>Time=08:29:46<br>altitude=%{marker.size}<br>latitude=%{lat}<br>longitude=%{lon}<extra></extra>",
           "hovertext": [
            "AEA76TU_392",
            "AEE5SZ_4449"
           ],
           "ids": [
            "AEA76TU_392",
            "AEE5SZ_4449"
           ],
           "lat": [
            47.493105096332094,
            47.610277078919495
           ],
           "legendgroup": "",
           "lon": [
            8.058682955228365,
            8.174321101262018
           ],
           "marker": {
            "color": "#636efa",
            "size": [
             9600,
             6050
            ],
            "sizemode": "area",
            "sizeref": 54.0625
           },
           "mode": "markers",
           "name": "",
           "showlegend": false,
           "subplot": "mapbox",
           "type": "scattermapbox"
          }
         ],
         "name": "08:29:46"
        },
        {
         "data": [
          {
           "hovertemplate": "<b>%{hovertext}</b><br><br>Time=08:30:09<br>altitude=%{marker.size}<br>latitude=%{lat}<br>longitude=%{lon}<extra></extra>",
           "hovertext": [
            "AEA76TU_392",
            "AEE5SZ_4449"
           ],
           "ids": [
            "AEA76TU_392",
            "AEE5SZ_4449"
           ],
           "lat": [
            47.49430847167969,
            47.63127136230469
           ],
           "legendgroup": "",
           "lon": [
            8.101524353027344,
            8.1903076171875
           ],
           "marker": {
            "color": "#636efa",
            "size": [
             9125,
             6050
            ],
            "sizemode": "area",
            "sizeref": 54.0625
           },
           "mode": "markers",
           "name": "",
           "showlegend": false,
           "subplot": "mapbox",
           "type": "scattermapbox"
          }
         ],
         "name": "08:30:09"
        },
        {
         "data": [
          {
           "hovertemplate": "<b>%{hovertext}</b><br><br>Time=08:30:32<br>altitude=%{marker.size}<br>latitude=%{lat}<br>longitude=%{lon}<extra></extra>",
           "hovertext": [
            "AEA76TU_392",
            "AEE5SZ_4449"
           ],
           "ids": [
            "AEA76TU_392",
            "AEE5SZ_4449"
           ],
           "lat": [
            47.4959913350768,
            47.65219116210938
           ],
           "legendgroup": "",
           "lon": [
            8.144179124098557,
            8.208091735839844
           ],
           "marker": {
            "color": "#636efa",
            "size": [
             8725,
             6050
            ],
            "sizemode": "area",
            "sizeref": 54.0625
           },
           "mode": "markers",
           "name": "",
           "showlegend": false,
           "subplot": "mapbox",
           "type": "scattermapbox"
          }
         ],
         "name": "08:30:32"
        },
        {
         "data": [
          {
           "hovertemplate": "<b>%{hovertext}</b><br><br>Time=08:30:55<br>altitude=%{marker.size}<br>latitude=%{lat}<br>longitude=%{lon}<extra></extra>",
           "hovertext": [
            "AEA76TU_392",
            "AEE5SZ_4449"
           ],
           "ids": [
            "AEA76TU_392",
            "AEE5SZ_4449"
           ],
           "lat": [
            47.5116794392214,
            47.66221618652344
           ],
           "legendgroup": "",
           "lon": [
            8.178757887620193,
            8.240226745605469
           ],
           "marker": {
            "color": "#636efa",
            "size": [
             8274.999999999998,
             5949.999999999999
            ],
            "sizemode": "area",
            "sizeref": 54.0625
           },
           "mode": "markers",
           "name": "",
           "showlegend": false,
           "subplot": "mapbox",
           "type": "scattermapbox"
          }
         ],
         "name": "08:30:55"
        },
        {
         "data": [
          {
           "hovertemplate": "<b>%{hovertext}</b><br><br>Time=08:31:18<br>altitude=%{marker.size}<br>latitude=%{lat}<br>longitude=%{lon}<extra></extra>",
           "hovertext": [
            "AEA76TU_392",
            "AEE5SZ_4449"
           ],
           "ids": [
            "AEA76TU_392",
            "AEE5SZ_4449"
           ],
           "lat": [
            47.53770214016154,
            47.6553955078125
           ],
           "legendgroup": "",
           "lon": [
            8.185518704927883,
            8.274284362792969
           ],
           "marker": {
            "color": "#636efa",
            "size": [
             7800,
             5550
            ],
            "sizemode": "area",
            "sizeref": 54.0625
           },
           "mode": "markers",
           "name": "",
           "showlegend": false,
           "subplot": "mapbox",
           "type": "scattermapbox"
          }
         ],
         "name": "08:31:18"
        },
        {
         "data": [
          {
           "hovertemplate": "<b>%{hovertext}</b><br><br>Time=08:31:41<br>altitude=%{marker.size}<br>latitude=%{lat}<br>longitude=%{lon}<extra></extra>",
           "hovertext": [
            "AEA76TU_392",
            "AEE5SZ_4449"
           ],
           "ids": [
            "AEA76TU_392",
            "AEE5SZ_4449"
           ],
           "lat": [
            47.55962824417373,
            47.64482116699219
           ],
           "legendgroup": "",
           "lon": [
            8.167912409855768,
            8.305046081542969
           ],
           "marker": {
            "color": "#636efa",
            "size": [
             7450,
             5224.999999999999
            ],
            "sizemode": "area",
            "sizeref": 54.0625
           },
           "mode": "markers",
           "name": "",
           "showlegend": false,
           "subplot": "mapbox",
           "type": "scattermapbox"
          }
         ],
         "name": "08:31:41"
        },
        {
         "data": [
          {
           "hovertemplate": "<b>%{hovertext}</b><br><br>Time=08:32:04<br>altitude=%{marker.size}<br>latitude=%{lat}<br>longitude=%{lon}<extra></extra>",
           "hovertext": [
            "AEA76TU_392",
            "AEE5SZ_4449"
           ],
           "ids": [
            "AEA76TU_392",
            "AEE5SZ_4449"
           ],
           "lat": [
            47.5799560546875,
            47.63058471679688
           ],
           "legendgroup": "",
           "lon": [
            8.148078918457031,
            8.331207275390625
           ],
           "marker": {
            "color": "#636efa",
            "size": [
             7075,
             5000
            ],
            "sizemode": "area",
            "sizeref": 54.0625
           },
           "mode": "markers",
           "name": "",
           "showlegend": false,
           "subplot": "mapbox",
           "type": "scattermapbox"
          }
         ],
         "name": "08:32:04"
        },
        {
         "data": [
          {
           "hovertemplate": "<b>%{hovertext}</b><br><br>Time=08:32:27<br>altitude=%{marker.size}<br>latitude=%{lat}<br>longitude=%{lon}<extra></extra>",
           "hovertext": [
            "AEA76TU_392",
            "AEE5SZ_4449"
           ],
           "ids": [
            "AEA76TU_392",
            "AEE5SZ_4449"
           ],
           "lat": [
            47.60152525820974,
            47.61566162109375
           ],
           "legendgroup": "",
           "lon": [
            8.131854717548077,
            8.353042602539062
           ],
           "marker": {
            "color": "#636efa",
            "size": [
             6650,
             4875
            ],
            "sizemode": "area",
            "sizeref": 54.0625
           },
           "mode": "markers",
           "name": "",
           "showlegend": false,
           "subplot": "mapbox",
           "type": "scattermapbox"
          }
         ],
         "name": "08:32:27"
        },
        {
         "data": [
          {
           "hovertemplate": "<b>%{hovertext}</b><br><br>Time=08:32:50<br>altitude=%{marker.size}<br>latitude=%{lat}<br>longitude=%{lon}<extra></extra>",
           "hovertext": [
            "AEA76TU_392",
            "AEE5SZ_4449"
           ],
           "ids": [
            "AEA76TU_392",
            "AEE5SZ_4449"
           ],
           "lat": [
            47.62628173828125,
            47.600082138837394
           ],
           "legendgroup": "",
           "lon": [
            8.143341064453125,
            8.374469463641827
           ],
           "marker": {
            "color": "#636efa",
            "size": [
             6150,
             4599.999999999999
            ],
            "sizemode": "area",
            "sizeref": 54.0625
           },
           "mode": "markers",
           "name": "",
           "showlegend": false,
           "subplot": "mapbox",
           "type": "scattermapbox"
          }
         ],
         "name": "08:32:50"
        },
        {
         "data": [
          {
           "hovertemplate": "<b>%{hovertext}</b><br><br>Time=08:33:13<br>altitude=%{marker.size}<br>latitude=%{lat}<br>longitude=%{lon}<extra></extra>",
           "hovertext": [
            "AEA76TU_392",
            "AEE5SZ_4449"
           ],
           "ids": [
            "AEA76TU_392",
            "AEE5SZ_4449"
           ],
           "lat": [
            47.643329167770126,
            47.584300930217154
           ],
           "legendgroup": "",
           "lon": [
            8.174039400540865,
            8.396089993990383
           ],
           "marker": {
            "color": "#636efa",
            "size": [
             6050,
             4200
            ],
            "sizemode": "area",
            "sizeref": 54.0625
           },
           "mode": "markers",
           "name": "",
           "showlegend": false,
           "subplot": "mapbox",
           "type": "scattermapbox"
          }
         ],
         "name": "08:33:13"
        },
        {
         "data": [
          {
           "hovertemplate": "<b>%{hovertext}</b><br><br>Time=08:33:36<br>altitude=%{marker.size}<br>latitude=%{lat}<br>longitude=%{lon}<extra></extra>",
           "hovertext": [
            "AEA76TU_392",
            "AEE5SZ_4449"
           ],
           "ids": [
            "AEA76TU_392",
            "AEE5SZ_4449"
           ],
           "lat": [
            47.65704345703125,
            47.56931110963983
           ],
           "legendgroup": "",
           "lon": [
            8.208091735839844,
            8.416583721454327
           ],
           "marker": {
            "color": "#636efa",
            "size": [
             6050,
             3750
            ],
            "sizemode": "area",
            "sizeref": 54.0625
           },
           "mode": "markers",
           "name": "",
           "showlegend": false,
           "subplot": "mapbox",
           "type": "scattermapbox"
          }
         ],
         "name": "08:33:36"
        },
        {
         "data": [
          {
           "hovertemplate": "<b>%{hovertext}</b><br><br>Time=08:33:59<br>altitude=%{marker.size}<br>latitude=%{lat}<br>longitude=%{lon}<extra></extra>",
           "hovertext": [
            "AEA76TU_392",
            "AEE5SZ_4449"
           ],
           "ids": [
            "AEA76TU_392",
            "AEE5SZ_4449"
           ],
           "lat": [
            47.65306091308594,
            47.55587768554688
           ],
           "legendgroup": "",
           "lon": [
            8.244552612304688,
            8.435165405273438
           ],
           "marker": {
            "color": "#636efa",
            "size": [
             6000,
             3399.9999999999995
            ],
            "sizemode": "area",
            "sizeref": 54.0625
           },
           "mode": "markers",
           "name": "",
           "showlegend": false,
           "subplot": "mapbox",
           "type": "scattermapbox"
          }
         ],
         "name": "08:33:59"
        },
        {
         "data": [
          {
           "hovertemplate": "<b>%{hovertext}</b><br><br>Time=08:34:22<br>altitude=%{marker.size}<br>latitude=%{lat}<br>longitude=%{lon}<extra></extra>",
           "hovertext": [
            "AEA76TU_392",
            "AEE5SZ_4449"
           ],
           "ids": [
            "AEA76TU_392",
            "AEE5SZ_4449"
           ],
           "lat": [
            47.64202880859375,
            47.54179873708951
           ],
           "legendgroup": "",
           "lon": [
            8.279090881347656,
            8.454542893629807
           ],
           "marker": {
            "color": "#636efa",
            "size": [
             5699.999999999999,
             3075
            ],
            "sizemode": "area",
            "sizeref": 54.0625
           },
           "mode": "markers",
           "name": "",
           "showlegend": false,
           "subplot": "mapbox",
           "type": "scattermapbox"
          }
         ],
         "name": "08:34:22"
        },
        {
         "data": [
          {
           "hovertemplate": "<b>%{hovertext}</b><br><br>Time=08:34:45<br>altitude=%{marker.size}<br>latitude=%{lat}<br>longitude=%{lon}<extra></extra>",
           "hovertext": [
            "AEA76TU_392",
            "AEE5SZ_4449"
           ],
           "ids": [
            "AEA76TU_392",
            "AEE5SZ_4449"
           ],
           "lat": [
            47.63103937698623,
            47.52818298339844
           ],
           "legendgroup": "",
           "lon": [
            8.31298828125,
            8.472862243652344
           ],
           "marker": {
            "color": "#636efa",
            "size": [
             5400,
             2725
            ],
            "sizemode": "area",
            "sizeref": 54.0625
           },
           "mode": "markers",
           "name": "",
           "showlegend": false,
           "subplot": "mapbox",
           "type": "scattermapbox"
          }
         ],
         "name": "08:34:45"
        },
        {
         "data": [
          {
           "hovertemplate": "<b>%{hovertext}</b><br><br>Time=08:35:08<br>altitude=%{marker.size}<br>latitude=%{lat}<br>longitude=%{lon}<extra></extra>",
           "hovertext": [
            "AEA76TU_392",
            "AEE5SZ_4449"
           ],
           "ids": [
            "AEA76TU_392",
            "AEE5SZ_4449"
           ],
           "lat": [
            47.61991339214777,
            47.51670708090571
           ],
           "legendgroup": "",
           "lon": [
            8.345524714543268,
            8.488487830528845
           ],
           "marker": {
            "color": "#636efa",
            "size": [
             5074.999999999999,
             2400
            ],
            "sizemode": "area",
            "sizeref": 54.0625
           },
           "mode": "markers",
           "name": "",
           "showlegend": false,
           "subplot": "mapbox",
           "type": "scattermapbox"
          }
         ],
         "name": "08:35:08"
        },
        {
         "data": [
          {
           "hovertemplate": "<b>%{hovertext}</b><br><br>Time=08:35:31<br>altitude=%{marker.size}<br>latitude=%{lat}<br>longitude=%{lon}<extra></extra>",
           "hovertext": [
            "AEA76TU_392",
            "AEE5SZ_4449"
           ],
           "ids": [
            "AEA76TU_392",
            "AEE5SZ_4449"
           ],
           "lat": [
            47.60417175292969,
            47.50588989257812
           ],
           "legendgroup": "",
           "lon": [
            8.369728088378906,
            8.503555297851562
           ],
           "marker": {
            "color": "#636efa",
            "size": [
             4675,
             2125
            ],
            "sizemode": "area",
            "sizeref": 54.0625
           },
           "mode": "markers",
           "name": "",
           "showlegend": false,
           "subplot": "mapbox",
           "type": "scattermapbox"
          }
         ],
         "name": "08:35:31"
        },
        {
         "data": [
          {
           "hovertemplate": "<b>%{hovertext}</b><br><br>Time=08:35:54<br>altitude=%{marker.size}<br>latitude=%{lat}<br>longitude=%{lon}<extra></extra>",
           "hovertext": [
            "AEA76TU_392",
            "AEE5SZ_4449"
           ],
           "ids": [
            "AEA76TU_392",
            "AEE5SZ_4449"
           ],
           "lat": [
            47.58818455065711,
            47.49490356445312
           ],
           "legendgroup": "",
           "lon": [
            8.390973604642427,
            8.518524169921875
           ],
           "marker": {
            "color": "#636efa",
            "size": [
             4262.5,
             1850
            ],
            "sizemode": "area",
            "sizeref": 54.0625
           },
           "mode": "markers",
           "name": "",
           "showlegend": false,
           "subplot": "mapbox",
           "type": "scattermapbox"
          }
         ],
         "name": "08:35:54"
        },
        {
         "data": [
          {
           "hovertemplate": "<b>%{hovertext}</b><br><br>Time=08:36:17<br>altitude=%{marker.size}<br>latitude=%{lat}<br>longitude=%{lon}<extra></extra>",
           "hovertext": [
            "AEA76TU_392",
            "AEE5SZ_4449"
           ],
           "ids": [
            "AEA76TU_392",
            "AEE5SZ_4449"
           ],
           "lat": [
            47.57258605957031,
            47.4842136189089
           ],
           "legendgroup": "",
           "lon": [
            8.4122314453125,
            8.533419095552883
           ],
           "marker": {
            "color": "#636efa",
            "size": [
             3850,
             1550
            ],
            "sizemode": "area",
            "sizeref": 54.0625
           },
           "mode": "markers",
           "name": "",
           "showlegend": false,
           "subplot": "mapbox",
           "type": "scattermapbox"
          }
         ],
         "name": "08:36:17"
        }
       ],
       "layout": {
        "legend": {
         "itemsizing": "constant",
         "tracegroupgap": 0
        },
        "mapbox": {
         "accesstoken": "pk.eyJ1IjoiZmlndSIsImEiOiJja2JndjNoaDQwYnl6MnJwM2tzNG9vcHc2In0.Ru9xsbyaKn7BNvIYAwPwUg",
         "center": {
          "lat": 47.470410222724325,
          "lon": 8.097568053465624
         },
         "domain": {
          "x": [
           0,
           1
          ],
          "y": [
           0,
           1
          ]
         },
         "zoom": 8
        },
        "margin": {
         "t": 60
        },
        "sliders": [
         {
          "active": 0,
          "currentvalue": {
           "prefix": "Time="
          },
          "len": 0.9,
          "pad": {
           "b": 10,
           "t": 60
          },
          "steps": [
           {
            "args": [
             [
              "08:12:07"
             ],
             {
              "frame": {
               "duration": 0,
               "redraw": true
              },
              "fromcurrent": true,
              "mode": "immediate",
              "transition": {
               "duration": 0,
               "easing": "linear"
              }
             }
            ],
            "label": "08:12:07",
            "method": "animate"
           },
           {
            "args": [
             [
              "08:12:30"
             ],
             {
              "frame": {
               "duration": 0,
               "redraw": true
              },
              "fromcurrent": true,
              "mode": "immediate",
              "transition": {
               "duration": 0,
               "easing": "linear"
              }
             }
            ],
            "label": "08:12:30",
            "method": "animate"
           },
           {
            "args": [
             [
              "08:12:53"
             ],
             {
              "frame": {
               "duration": 0,
               "redraw": true
              },
              "fromcurrent": true,
              "mode": "immediate",
              "transition": {
               "duration": 0,
               "easing": "linear"
              }
             }
            ],
            "label": "08:12:53",
            "method": "animate"
           },
           {
            "args": [
             [
              "08:13:16"
             ],
             {
              "frame": {
               "duration": 0,
               "redraw": true
              },
              "fromcurrent": true,
              "mode": "immediate",
              "transition": {
               "duration": 0,
               "easing": "linear"
              }
             }
            ],
            "label": "08:13:16",
            "method": "animate"
           },
           {
            "args": [
             [
              "08:13:39"
             ],
             {
              "frame": {
               "duration": 0,
               "redraw": true
              },
              "fromcurrent": true,
              "mode": "immediate",
              "transition": {
               "duration": 0,
               "easing": "linear"
              }
             }
            ],
            "label": "08:13:39",
            "method": "animate"
           },
           {
            "args": [
             [
              "08:14:02"
             ],
             {
              "frame": {
               "duration": 0,
               "redraw": true
              },
              "fromcurrent": true,
              "mode": "immediate",
              "transition": {
               "duration": 0,
               "easing": "linear"
              }
             }
            ],
            "label": "08:14:02",
            "method": "animate"
           },
           {
            "args": [
             [
              "08:14:25"
             ],
             {
              "frame": {
               "duration": 0,
               "redraw": true
              },
              "fromcurrent": true,
              "mode": "immediate",
              "transition": {
               "duration": 0,
               "easing": "linear"
              }
             }
            ],
            "label": "08:14:25",
            "method": "animate"
           },
           {
            "args": [
             [
              "08:14:48"
             ],
             {
              "frame": {
               "duration": 0,
               "redraw": true
              },
              "fromcurrent": true,
              "mode": "immediate",
              "transition": {
               "duration": 0,
               "easing": "linear"
              }
             }
            ],
            "label": "08:14:48",
            "method": "animate"
           },
           {
            "args": [
             [
              "08:15:11"
             ],
             {
              "frame": {
               "duration": 0,
               "redraw": true
              },
              "fromcurrent": true,
              "mode": "immediate",
              "transition": {
               "duration": 0,
               "easing": "linear"
              }
             }
            ],
            "label": "08:15:11",
            "method": "animate"
           },
           {
            "args": [
             [
              "08:15:34"
             ],
             {
              "frame": {
               "duration": 0,
               "redraw": true
              },
              "fromcurrent": true,
              "mode": "immediate",
              "transition": {
               "duration": 0,
               "easing": "linear"
              }
             }
            ],
            "label": "08:15:34",
            "method": "animate"
           },
           {
            "args": [
             [
              "08:15:57"
             ],
             {
              "frame": {
               "duration": 0,
               "redraw": true
              },
              "fromcurrent": true,
              "mode": "immediate",
              "transition": {
               "duration": 0,
               "easing": "linear"
              }
             }
            ],
            "label": "08:15:57",
            "method": "animate"
           },
           {
            "args": [
             [
              "08:16:20"
             ],
             {
              "frame": {
               "duration": 0,
               "redraw": true
              },
              "fromcurrent": true,
              "mode": "immediate",
              "transition": {
               "duration": 0,
               "easing": "linear"
              }
             }
            ],
            "label": "08:16:20",
            "method": "animate"
           },
           {
            "args": [
             [
              "08:16:43"
             ],
             {
              "frame": {
               "duration": 0,
               "redraw": true
              },
              "fromcurrent": true,
              "mode": "immediate",
              "transition": {
               "duration": 0,
               "easing": "linear"
              }
             }
            ],
            "label": "08:16:43",
            "method": "animate"
           },
           {
            "args": [
             [
              "08:17:06"
             ],
             {
              "frame": {
               "duration": 0,
               "redraw": true
              },
              "fromcurrent": true,
              "mode": "immediate",
              "transition": {
               "duration": 0,
               "easing": "linear"
              }
             }
            ],
            "label": "08:17:06",
            "method": "animate"
           },
           {
            "args": [
             [
              "08:17:29"
             ],
             {
              "frame": {
               "duration": 0,
               "redraw": true
              },
              "fromcurrent": true,
              "mode": "immediate",
              "transition": {
               "duration": 0,
               "easing": "linear"
              }
             }
            ],
            "label": "08:17:29",
            "method": "animate"
           },
           {
            "args": [
             [
              "08:17:52"
             ],
             {
              "frame": {
               "duration": 0,
               "redraw": true
              },
              "fromcurrent": true,
              "mode": "immediate",
              "transition": {
               "duration": 0,
               "easing": "linear"
              }
             }
            ],
            "label": "08:17:52",
            "method": "animate"
           },
           {
            "args": [
             [
              "08:18:15"
             ],
             {
              "frame": {
               "duration": 0,
               "redraw": true
              },
              "fromcurrent": true,
              "mode": "immediate",
              "transition": {
               "duration": 0,
               "easing": "linear"
              }
             }
            ],
            "label": "08:18:15",
            "method": "animate"
           },
           {
            "args": [
             [
              "08:18:38"
             ],
             {
              "frame": {
               "duration": 0,
               "redraw": true
              },
              "fromcurrent": true,
              "mode": "immediate",
              "transition": {
               "duration": 0,
               "easing": "linear"
              }
             }
            ],
            "label": "08:18:38",
            "method": "animate"
           },
           {
            "args": [
             [
              "08:19:01"
             ],
             {
              "frame": {
               "duration": 0,
               "redraw": true
              },
              "fromcurrent": true,
              "mode": "immediate",
              "transition": {
               "duration": 0,
               "easing": "linear"
              }
             }
            ],
            "label": "08:19:01",
            "method": "animate"
           },
           {
            "args": [
             [
              "08:19:24"
             ],
             {
              "frame": {
               "duration": 0,
               "redraw": true
              },
              "fromcurrent": true,
              "mode": "immediate",
              "transition": {
               "duration": 0,
               "easing": "linear"
              }
             }
            ],
            "label": "08:19:24",
            "method": "animate"
           },
           {
            "args": [
             [
              "08:19:47"
             ],
             {
              "frame": {
               "duration": 0,
               "redraw": true
              },
              "fromcurrent": true,
              "mode": "immediate",
              "transition": {
               "duration": 0,
               "easing": "linear"
              }
             }
            ],
            "label": "08:19:47",
            "method": "animate"
           },
           {
            "args": [
             [
              "08:20:10"
             ],
             {
              "frame": {
               "duration": 0,
               "redraw": true
              },
              "fromcurrent": true,
              "mode": "immediate",
              "transition": {
               "duration": 0,
               "easing": "linear"
              }
             }
            ],
            "label": "08:20:10",
            "method": "animate"
           },
           {
            "args": [
             [
              "08:20:33"
             ],
             {
              "frame": {
               "duration": 0,
               "redraw": true
              },
              "fromcurrent": true,
              "mode": "immediate",
              "transition": {
               "duration": 0,
               "easing": "linear"
              }
             }
            ],
            "label": "08:20:33",
            "method": "animate"
           },
           {
            "args": [
             [
              "08:20:56"
             ],
             {
              "frame": {
               "duration": 0,
               "redraw": true
              },
              "fromcurrent": true,
              "mode": "immediate",
              "transition": {
               "duration": 0,
               "easing": "linear"
              }
             }
            ],
            "label": "08:20:56",
            "method": "animate"
           },
           {
            "args": [
             [
              "08:21:19"
             ],
             {
              "frame": {
               "duration": 0,
               "redraw": true
              },
              "fromcurrent": true,
              "mode": "immediate",
              "transition": {
               "duration": 0,
               "easing": "linear"
              }
             }
            ],
            "label": "08:21:19",
            "method": "animate"
           },
           {
            "args": [
             [
              "08:21:42"
             ],
             {
              "frame": {
               "duration": 0,
               "redraw": true
              },
              "fromcurrent": true,
              "mode": "immediate",
              "transition": {
               "duration": 0,
               "easing": "linear"
              }
             }
            ],
            "label": "08:21:42",
            "method": "animate"
           },
           {
            "args": [
             [
              "08:22:05"
             ],
             {
              "frame": {
               "duration": 0,
               "redraw": true
              },
              "fromcurrent": true,
              "mode": "immediate",
              "transition": {
               "duration": 0,
               "easing": "linear"
              }
             }
            ],
            "label": "08:22:05",
            "method": "animate"
           },
           {
            "args": [
             [
              "08:22:28"
             ],
             {
              "frame": {
               "duration": 0,
               "redraw": true
              },
              "fromcurrent": true,
              "mode": "immediate",
              "transition": {
               "duration": 0,
               "easing": "linear"
              }
             }
            ],
            "label": "08:22:28",
            "method": "animate"
           },
           {
            "args": [
             [
              "08:22:51"
             ],
             {
              "frame": {
               "duration": 0,
               "redraw": true
              },
              "fromcurrent": true,
              "mode": "immediate",
              "transition": {
               "duration": 0,
               "easing": "linear"
              }
             }
            ],
            "label": "08:22:51",
            "method": "animate"
           },
           {
            "args": [
             [
              "08:23:14"
             ],
             {
              "frame": {
               "duration": 0,
               "redraw": true
              },
              "fromcurrent": true,
              "mode": "immediate",
              "transition": {
               "duration": 0,
               "easing": "linear"
              }
             }
            ],
            "label": "08:23:14",
            "method": "animate"
           },
           {
            "args": [
             [
              "08:23:37"
             ],
             {
              "frame": {
               "duration": 0,
               "redraw": true
              },
              "fromcurrent": true,
              "mode": "immediate",
              "transition": {
               "duration": 0,
               "easing": "linear"
              }
             }
            ],
            "label": "08:23:37",
            "method": "animate"
           },
           {
            "args": [
             [
              "08:24:00"
             ],
             {
              "frame": {
               "duration": 0,
               "redraw": true
              },
              "fromcurrent": true,
              "mode": "immediate",
              "transition": {
               "duration": 0,
               "easing": "linear"
              }
             }
            ],
            "label": "08:24:00",
            "method": "animate"
           },
           {
            "args": [
             [
              "08:24:24"
             ],
             {
              "frame": {
               "duration": 0,
               "redraw": true
              },
              "fromcurrent": true,
              "mode": "immediate",
              "transition": {
               "duration": 0,
               "easing": "linear"
              }
             }
            ],
            "label": "08:24:24",
            "method": "animate"
           },
           {
            "args": [
             [
              "08:24:47"
             ],
             {
              "frame": {
               "duration": 0,
               "redraw": true
              },
              "fromcurrent": true,
              "mode": "immediate",
              "transition": {
               "duration": 0,
               "easing": "linear"
              }
             }
            ],
            "label": "08:24:47",
            "method": "animate"
           },
           {
            "args": [
             [
              "08:25:10"
             ],
             {
              "frame": {
               "duration": 0,
               "redraw": true
              },
              "fromcurrent": true,
              "mode": "immediate",
              "transition": {
               "duration": 0,
               "easing": "linear"
              }
             }
            ],
            "label": "08:25:10",
            "method": "animate"
           },
           {
            "args": [
             [
              "08:25:33"
             ],
             {
              "frame": {
               "duration": 0,
               "redraw": true
              },
              "fromcurrent": true,
              "mode": "immediate",
              "transition": {
               "duration": 0,
               "easing": "linear"
              }
             }
            ],
            "label": "08:25:33",
            "method": "animate"
           },
           {
            "args": [
             [
              "08:25:56"
             ],
             {
              "frame": {
               "duration": 0,
               "redraw": true
              },
              "fromcurrent": true,
              "mode": "immediate",
              "transition": {
               "duration": 0,
               "easing": "linear"
              }
             }
            ],
            "label": "08:25:56",
            "method": "animate"
           },
           {
            "args": [
             [
              "08:26:19"
             ],
             {
              "frame": {
               "duration": 0,
               "redraw": true
              },
              "fromcurrent": true,
              "mode": "immediate",
              "transition": {
               "duration": 0,
               "easing": "linear"
              }
             }
            ],
            "label": "08:26:19",
            "method": "animate"
           },
           {
            "args": [
             [
              "08:26:42"
             ],
             {
              "frame": {
               "duration": 0,
               "redraw": true
              },
              "fromcurrent": true,
              "mode": "immediate",
              "transition": {
               "duration": 0,
               "easing": "linear"
              }
             }
            ],
            "label": "08:26:42",
            "method": "animate"
           },
           {
            "args": [
             [
              "08:27:05"
             ],
             {
              "frame": {
               "duration": 0,
               "redraw": true
              },
              "fromcurrent": true,
              "mode": "immediate",
              "transition": {
               "duration": 0,
               "easing": "linear"
              }
             }
            ],
            "label": "08:27:05",
            "method": "animate"
           },
           {
            "args": [
             [
              "08:27:28"
             ],
             {
              "frame": {
               "duration": 0,
               "redraw": true
              },
              "fromcurrent": true,
              "mode": "immediate",
              "transition": {
               "duration": 0,
               "easing": "linear"
              }
             }
            ],
            "label": "08:27:28",
            "method": "animate"
           },
           {
            "args": [
             [
              "08:27:51"
             ],
             {
              "frame": {
               "duration": 0,
               "redraw": true
              },
              "fromcurrent": true,
              "mode": "immediate",
              "transition": {
               "duration": 0,
               "easing": "linear"
              }
             }
            ],
            "label": "08:27:51",
            "method": "animate"
           },
           {
            "args": [
             [
              "08:28:14"
             ],
             {
              "frame": {
               "duration": 0,
               "redraw": true
              },
              "fromcurrent": true,
              "mode": "immediate",
              "transition": {
               "duration": 0,
               "easing": "linear"
              }
             }
            ],
            "label": "08:28:14",
            "method": "animate"
           },
           {
            "args": [
             [
              "08:28:37"
             ],
             {
              "frame": {
               "duration": 0,
               "redraw": true
              },
              "fromcurrent": true,
              "mode": "immediate",
              "transition": {
               "duration": 0,
               "easing": "linear"
              }
             }
            ],
            "label": "08:28:37",
            "method": "animate"
           },
           {
            "args": [
             [
              "08:29:00"
             ],
             {
              "frame": {
               "duration": 0,
               "redraw": true
              },
              "fromcurrent": true,
              "mode": "immediate",
              "transition": {
               "duration": 0,
               "easing": "linear"
              }
             }
            ],
            "label": "08:29:00",
            "method": "animate"
           },
           {
            "args": [
             [
              "08:29:23"
             ],
             {
              "frame": {
               "duration": 0,
               "redraw": true
              },
              "fromcurrent": true,
              "mode": "immediate",
              "transition": {
               "duration": 0,
               "easing": "linear"
              }
             }
            ],
            "label": "08:29:23",
            "method": "animate"
           },
           {
            "args": [
             [
              "08:29:46"
             ],
             {
              "frame": {
               "duration": 0,
               "redraw": true
              },
              "fromcurrent": true,
              "mode": "immediate",
              "transition": {
               "duration": 0,
               "easing": "linear"
              }
             }
            ],
            "label": "08:29:46",
            "method": "animate"
           },
           {
            "args": [
             [
              "08:30:09"
             ],
             {
              "frame": {
               "duration": 0,
               "redraw": true
              },
              "fromcurrent": true,
              "mode": "immediate",
              "transition": {
               "duration": 0,
               "easing": "linear"
              }
             }
            ],
            "label": "08:30:09",
            "method": "animate"
           },
           {
            "args": [
             [
              "08:30:32"
             ],
             {
              "frame": {
               "duration": 0,
               "redraw": true
              },
              "fromcurrent": true,
              "mode": "immediate",
              "transition": {
               "duration": 0,
               "easing": "linear"
              }
             }
            ],
            "label": "08:30:32",
            "method": "animate"
           },
           {
            "args": [
             [
              "08:30:55"
             ],
             {
              "frame": {
               "duration": 0,
               "redraw": true
              },
              "fromcurrent": true,
              "mode": "immediate",
              "transition": {
               "duration": 0,
               "easing": "linear"
              }
             }
            ],
            "label": "08:30:55",
            "method": "animate"
           },
           {
            "args": [
             [
              "08:31:18"
             ],
             {
              "frame": {
               "duration": 0,
               "redraw": true
              },
              "fromcurrent": true,
              "mode": "immediate",
              "transition": {
               "duration": 0,
               "easing": "linear"
              }
             }
            ],
            "label": "08:31:18",
            "method": "animate"
           },
           {
            "args": [
             [
              "08:31:41"
             ],
             {
              "frame": {
               "duration": 0,
               "redraw": true
              },
              "fromcurrent": true,
              "mode": "immediate",
              "transition": {
               "duration": 0,
               "easing": "linear"
              }
             }
            ],
            "label": "08:31:41",
            "method": "animate"
           },
           {
            "args": [
             [
              "08:32:04"
             ],
             {
              "frame": {
               "duration": 0,
               "redraw": true
              },
              "fromcurrent": true,
              "mode": "immediate",
              "transition": {
               "duration": 0,
               "easing": "linear"
              }
             }
            ],
            "label": "08:32:04",
            "method": "animate"
           },
           {
            "args": [
             [
              "08:32:27"
             ],
             {
              "frame": {
               "duration": 0,
               "redraw": true
              },
              "fromcurrent": true,
              "mode": "immediate",
              "transition": {
               "duration": 0,
               "easing": "linear"
              }
             }
            ],
            "label": "08:32:27",
            "method": "animate"
           },
           {
            "args": [
             [
              "08:32:50"
             ],
             {
              "frame": {
               "duration": 0,
               "redraw": true
              },
              "fromcurrent": true,
              "mode": "immediate",
              "transition": {
               "duration": 0,
               "easing": "linear"
              }
             }
            ],
            "label": "08:32:50",
            "method": "animate"
           },
           {
            "args": [
             [
              "08:33:13"
             ],
             {
              "frame": {
               "duration": 0,
               "redraw": true
              },
              "fromcurrent": true,
              "mode": "immediate",
              "transition": {
               "duration": 0,
               "easing": "linear"
              }
             }
            ],
            "label": "08:33:13",
            "method": "animate"
           },
           {
            "args": [
             [
              "08:33:36"
             ],
             {
              "frame": {
               "duration": 0,
               "redraw": true
              },
              "fromcurrent": true,
              "mode": "immediate",
              "transition": {
               "duration": 0,
               "easing": "linear"
              }
             }
            ],
            "label": "08:33:36",
            "method": "animate"
           },
           {
            "args": [
             [
              "08:33:59"
             ],
             {
              "frame": {
               "duration": 0,
               "redraw": true
              },
              "fromcurrent": true,
              "mode": "immediate",
              "transition": {
               "duration": 0,
               "easing": "linear"
              }
             }
            ],
            "label": "08:33:59",
            "method": "animate"
           },
           {
            "args": [
             [
              "08:34:22"
             ],
             {
              "frame": {
               "duration": 0,
               "redraw": true
              },
              "fromcurrent": true,
              "mode": "immediate",
              "transition": {
               "duration": 0,
               "easing": "linear"
              }
             }
            ],
            "label": "08:34:22",
            "method": "animate"
           },
           {
            "args": [
             [
              "08:34:45"
             ],
             {
              "frame": {
               "duration": 0,
               "redraw": true
              },
              "fromcurrent": true,
              "mode": "immediate",
              "transition": {
               "duration": 0,
               "easing": "linear"
              }
             }
            ],
            "label": "08:34:45",
            "method": "animate"
           },
           {
            "args": [
             [
              "08:35:08"
             ],
             {
              "frame": {
               "duration": 0,
               "redraw": true
              },
              "fromcurrent": true,
              "mode": "immediate",
              "transition": {
               "duration": 0,
               "easing": "linear"
              }
             }
            ],
            "label": "08:35:08",
            "method": "animate"
           },
           {
            "args": [
             [
              "08:35:31"
             ],
             {
              "frame": {
               "duration": 0,
               "redraw": true
              },
              "fromcurrent": true,
              "mode": "immediate",
              "transition": {
               "duration": 0,
               "easing": "linear"
              }
             }
            ],
            "label": "08:35:31",
            "method": "animate"
           },
           {
            "args": [
             [
              "08:35:54"
             ],
             {
              "frame": {
               "duration": 0,
               "redraw": true
              },
              "fromcurrent": true,
              "mode": "immediate",
              "transition": {
               "duration": 0,
               "easing": "linear"
              }
             }
            ],
            "label": "08:35:54",
            "method": "animate"
           },
           {
            "args": [
             [
              "08:36:17"
             ],
             {
              "frame": {
               "duration": 0,
               "redraw": true
              },
              "fromcurrent": true,
              "mode": "immediate",
              "transition": {
               "duration": 0,
               "easing": "linear"
              }
             }
            ],
            "label": "08:36:17",
            "method": "animate"
           }
          ],
          "x": 0.1,
          "xanchor": "left",
          "y": 0,
          "yanchor": "top"
         }
        ],
        "template": {
         "data": {
          "bar": [
           {
            "error_x": {
             "color": "#2a3f5f"
            },
            "error_y": {
             "color": "#2a3f5f"
            },
            "marker": {
             "line": {
              "color": "#E5ECF6",
              "width": 0.5
             }
            },
            "type": "bar"
           }
          ],
          "barpolar": [
           {
            "marker": {
             "line": {
              "color": "#E5ECF6",
              "width": 0.5
             }
            },
            "type": "barpolar"
           }
          ],
          "carpet": [
           {
            "aaxis": {
             "endlinecolor": "#2a3f5f",
             "gridcolor": "white",
             "linecolor": "white",
             "minorgridcolor": "white",
             "startlinecolor": "#2a3f5f"
            },
            "baxis": {
             "endlinecolor": "#2a3f5f",
             "gridcolor": "white",
             "linecolor": "white",
             "minorgridcolor": "white",
             "startlinecolor": "#2a3f5f"
            },
            "type": "carpet"
           }
          ],
          "choropleth": [
           {
            "colorbar": {
             "outlinewidth": 0,
             "ticks": ""
            },
            "type": "choropleth"
           }
          ],
          "contour": [
           {
            "colorbar": {
             "outlinewidth": 0,
             "ticks": ""
            },
            "colorscale": [
             [
              0,
              "#0d0887"
             ],
             [
              0.1111111111111111,
              "#46039f"
             ],
             [
              0.2222222222222222,
              "#7201a8"
             ],
             [
              0.3333333333333333,
              "#9c179e"
             ],
             [
              0.4444444444444444,
              "#bd3786"
             ],
             [
              0.5555555555555556,
              "#d8576b"
             ],
             [
              0.6666666666666666,
              "#ed7953"
             ],
             [
              0.7777777777777778,
              "#fb9f3a"
             ],
             [
              0.8888888888888888,
              "#fdca26"
             ],
             [
              1,
              "#f0f921"
             ]
            ],
            "type": "contour"
           }
          ],
          "contourcarpet": [
           {
            "colorbar": {
             "outlinewidth": 0,
             "ticks": ""
            },
            "type": "contourcarpet"
           }
          ],
          "heatmap": [
           {
            "colorbar": {
             "outlinewidth": 0,
             "ticks": ""
            },
            "colorscale": [
             [
              0,
              "#0d0887"
             ],
             [
              0.1111111111111111,
              "#46039f"
             ],
             [
              0.2222222222222222,
              "#7201a8"
             ],
             [
              0.3333333333333333,
              "#9c179e"
             ],
             [
              0.4444444444444444,
              "#bd3786"
             ],
             [
              0.5555555555555556,
              "#d8576b"
             ],
             [
              0.6666666666666666,
              "#ed7953"
             ],
             [
              0.7777777777777778,
              "#fb9f3a"
             ],
             [
              0.8888888888888888,
              "#fdca26"
             ],
             [
              1,
              "#f0f921"
             ]
            ],
            "type": "heatmap"
           }
          ],
          "heatmapgl": [
           {
            "colorbar": {
             "outlinewidth": 0,
             "ticks": ""
            },
            "colorscale": [
             [
              0,
              "#0d0887"
             ],
             [
              0.1111111111111111,
              "#46039f"
             ],
             [
              0.2222222222222222,
              "#7201a8"
             ],
             [
              0.3333333333333333,
              "#9c179e"
             ],
             [
              0.4444444444444444,
              "#bd3786"
             ],
             [
              0.5555555555555556,
              "#d8576b"
             ],
             [
              0.6666666666666666,
              "#ed7953"
             ],
             [
              0.7777777777777778,
              "#fb9f3a"
             ],
             [
              0.8888888888888888,
              "#fdca26"
             ],
             [
              1,
              "#f0f921"
             ]
            ],
            "type": "heatmapgl"
           }
          ],
          "histogram": [
           {
            "marker": {
             "colorbar": {
              "outlinewidth": 0,
              "ticks": ""
             }
            },
            "type": "histogram"
           }
          ],
          "histogram2d": [
           {
            "colorbar": {
             "outlinewidth": 0,
             "ticks": ""
            },
            "colorscale": [
             [
              0,
              "#0d0887"
             ],
             [
              0.1111111111111111,
              "#46039f"
             ],
             [
              0.2222222222222222,
              "#7201a8"
             ],
             [
              0.3333333333333333,
              "#9c179e"
             ],
             [
              0.4444444444444444,
              "#bd3786"
             ],
             [
              0.5555555555555556,
              "#d8576b"
             ],
             [
              0.6666666666666666,
              "#ed7953"
             ],
             [
              0.7777777777777778,
              "#fb9f3a"
             ],
             [
              0.8888888888888888,
              "#fdca26"
             ],
             [
              1,
              "#f0f921"
             ]
            ],
            "type": "histogram2d"
           }
          ],
          "histogram2dcontour": [
           {
            "colorbar": {
             "outlinewidth": 0,
             "ticks": ""
            },
            "colorscale": [
             [
              0,
              "#0d0887"
             ],
             [
              0.1111111111111111,
              "#46039f"
             ],
             [
              0.2222222222222222,
              "#7201a8"
             ],
             [
              0.3333333333333333,
              "#9c179e"
             ],
             [
              0.4444444444444444,
              "#bd3786"
             ],
             [
              0.5555555555555556,
              "#d8576b"
             ],
             [
              0.6666666666666666,
              "#ed7953"
             ],
             [
              0.7777777777777778,
              "#fb9f3a"
             ],
             [
              0.8888888888888888,
              "#fdca26"
             ],
             [
              1,
              "#f0f921"
             ]
            ],
            "type": "histogram2dcontour"
           }
          ],
          "mesh3d": [
           {
            "colorbar": {
             "outlinewidth": 0,
             "ticks": ""
            },
            "type": "mesh3d"
           }
          ],
          "parcoords": [
           {
            "line": {
             "colorbar": {
              "outlinewidth": 0,
              "ticks": ""
             }
            },
            "type": "parcoords"
           }
          ],
          "pie": [
           {
            "automargin": true,
            "type": "pie"
           }
          ],
          "scatter": [
           {
            "marker": {
             "colorbar": {
              "outlinewidth": 0,
              "ticks": ""
             }
            },
            "type": "scatter"
           }
          ],
          "scatter3d": [
           {
            "line": {
             "colorbar": {
              "outlinewidth": 0,
              "ticks": ""
             }
            },
            "marker": {
             "colorbar": {
              "outlinewidth": 0,
              "ticks": ""
             }
            },
            "type": "scatter3d"
           }
          ],
          "scattercarpet": [
           {
            "marker": {
             "colorbar": {
              "outlinewidth": 0,
              "ticks": ""
             }
            },
            "type": "scattercarpet"
           }
          ],
          "scattergeo": [
           {
            "marker": {
             "colorbar": {
              "outlinewidth": 0,
              "ticks": ""
             }
            },
            "type": "scattergeo"
           }
          ],
          "scattergl": [
           {
            "marker": {
             "colorbar": {
              "outlinewidth": 0,
              "ticks": ""
             }
            },
            "type": "scattergl"
           }
          ],
          "scattermapbox": [
           {
            "marker": {
             "colorbar": {
              "outlinewidth": 0,
              "ticks": ""
             }
            },
            "type": "scattermapbox"
           }
          ],
          "scatterpolar": [
           {
            "marker": {
             "colorbar": {
              "outlinewidth": 0,
              "ticks": ""
             }
            },
            "type": "scatterpolar"
           }
          ],
          "scatterpolargl": [
           {
            "marker": {
             "colorbar": {
              "outlinewidth": 0,
              "ticks": ""
             }
            },
            "type": "scatterpolargl"
           }
          ],
          "scatterternary": [
           {
            "marker": {
             "colorbar": {
              "outlinewidth": 0,
              "ticks": ""
             }
            },
            "type": "scatterternary"
           }
          ],
          "surface": [
           {
            "colorbar": {
             "outlinewidth": 0,
             "ticks": ""
            },
            "colorscale": [
             [
              0,
              "#0d0887"
             ],
             [
              0.1111111111111111,
              "#46039f"
             ],
             [
              0.2222222222222222,
              "#7201a8"
             ],
             [
              0.3333333333333333,
              "#9c179e"
             ],
             [
              0.4444444444444444,
              "#bd3786"
             ],
             [
              0.5555555555555556,
              "#d8576b"
             ],
             [
              0.6666666666666666,
              "#ed7953"
             ],
             [
              0.7777777777777778,
              "#fb9f3a"
             ],
             [
              0.8888888888888888,
              "#fdca26"
             ],
             [
              1,
              "#f0f921"
             ]
            ],
            "type": "surface"
           }
          ],
          "table": [
           {
            "cells": {
             "fill": {
              "color": "#EBF0F8"
             },
             "line": {
              "color": "white"
             }
            },
            "header": {
             "fill": {
              "color": "#C8D4E3"
             },
             "line": {
              "color": "white"
             }
            },
            "type": "table"
           }
          ]
         },
         "layout": {
          "annotationdefaults": {
           "arrowcolor": "#2a3f5f",
           "arrowhead": 0,
           "arrowwidth": 1
          },
          "autotypenumbers": "strict",
          "coloraxis": {
           "colorbar": {
            "outlinewidth": 0,
            "ticks": ""
           }
          },
          "colorscale": {
           "diverging": [
            [
             0,
             "#8e0152"
            ],
            [
             0.1,
             "#c51b7d"
            ],
            [
             0.2,
             "#de77ae"
            ],
            [
             0.3,
             "#f1b6da"
            ],
            [
             0.4,
             "#fde0ef"
            ],
            [
             0.5,
             "#f7f7f7"
            ],
            [
             0.6,
             "#e6f5d0"
            ],
            [
             0.7,
             "#b8e186"
            ],
            [
             0.8,
             "#7fbc41"
            ],
            [
             0.9,
             "#4d9221"
            ],
            [
             1,
             "#276419"
            ]
           ],
           "sequential": [
            [
             0,
             "#0d0887"
            ],
            [
             0.1111111111111111,
             "#46039f"
            ],
            [
             0.2222222222222222,
             "#7201a8"
            ],
            [
             0.3333333333333333,
             "#9c179e"
            ],
            [
             0.4444444444444444,
             "#bd3786"
            ],
            [
             0.5555555555555556,
             "#d8576b"
            ],
            [
             0.6666666666666666,
             "#ed7953"
            ],
            [
             0.7777777777777778,
             "#fb9f3a"
            ],
            [
             0.8888888888888888,
             "#fdca26"
            ],
            [
             1,
             "#f0f921"
            ]
           ],
           "sequentialminus": [
            [
             0,
             "#0d0887"
            ],
            [
             0.1111111111111111,
             "#46039f"
            ],
            [
             0.2222222222222222,
             "#7201a8"
            ],
            [
             0.3333333333333333,
             "#9c179e"
            ],
            [
             0.4444444444444444,
             "#bd3786"
            ],
            [
             0.5555555555555556,
             "#d8576b"
            ],
            [
             0.6666666666666666,
             "#ed7953"
            ],
            [
             0.7777777777777778,
             "#fb9f3a"
            ],
            [
             0.8888888888888888,
             "#fdca26"
            ],
            [
             1,
             "#f0f921"
            ]
           ]
          },
          "colorway": [
           "#636efa",
           "#EF553B",
           "#00cc96",
           "#ab63fa",
           "#FFA15A",
           "#19d3f3",
           "#FF6692",
           "#B6E880",
           "#FF97FF",
           "#FECB52"
          ],
          "font": {
           "color": "#2a3f5f"
          },
          "geo": {
           "bgcolor": "white",
           "lakecolor": "white",
           "landcolor": "#E5ECF6",
           "showlakes": true,
           "showland": true,
           "subunitcolor": "white"
          },
          "hoverlabel": {
           "align": "left"
          },
          "hovermode": "closest",
          "mapbox": {
           "style": "light"
          },
          "paper_bgcolor": "white",
          "plot_bgcolor": "#E5ECF6",
          "polar": {
           "angularaxis": {
            "gridcolor": "white",
            "linecolor": "white",
            "ticks": ""
           },
           "bgcolor": "#E5ECF6",
           "radialaxis": {
            "gridcolor": "white",
            "linecolor": "white",
            "ticks": ""
           }
          },
          "scene": {
           "xaxis": {
            "backgroundcolor": "#E5ECF6",
            "gridcolor": "white",
            "gridwidth": 2,
            "linecolor": "white",
            "showbackground": true,
            "ticks": "",
            "zerolinecolor": "white"
           },
           "yaxis": {
            "backgroundcolor": "#E5ECF6",
            "gridcolor": "white",
            "gridwidth": 2,
            "linecolor": "white",
            "showbackground": true,
            "ticks": "",
            "zerolinecolor": "white"
           },
           "zaxis": {
            "backgroundcolor": "#E5ECF6",
            "gridcolor": "white",
            "gridwidth": 2,
            "linecolor": "white",
            "showbackground": true,
            "ticks": "",
            "zerolinecolor": "white"
           }
          },
          "shapedefaults": {
           "line": {
            "color": "#2a3f5f"
           }
          },
          "ternary": {
           "aaxis": {
            "gridcolor": "white",
            "linecolor": "white",
            "ticks": ""
           },
           "baxis": {
            "gridcolor": "white",
            "linecolor": "white",
            "ticks": ""
           },
           "bgcolor": "#E5ECF6",
           "caxis": {
            "gridcolor": "white",
            "linecolor": "white",
            "ticks": ""
           }
          },
          "title": {
           "x": 0.05
          },
          "xaxis": {
           "automargin": true,
           "gridcolor": "white",
           "linecolor": "white",
           "ticks": "",
           "title": {
            "standoff": 15
           },
           "zerolinecolor": "white",
           "zerolinewidth": 2
          },
          "yaxis": {
           "automargin": true,
           "gridcolor": "white",
           "linecolor": "white",
           "ticks": "",
           "title": {
            "standoff": 15
           },
           "zerolinecolor": "white",
           "zerolinewidth": 2
          }
         }
        },
        "updatemenus": [
         {
          "buttons": [
           {
            "args": [
             null,
             {
              "frame": {
               "duration": 200,
               "redraw": true
              },
              "fromcurrent": true,
              "mode": "immediate",
              "transition": {
               "duration": 500,
               "easing": "linear"
              }
             }
            ],
            "label": "&#9654;",
            "method": "animate"
           },
           {
            "args": [
             [
              null
             ],
             {
              "frame": {
               "duration": 0,
               "redraw": true
              },
              "fromcurrent": true,
              "mode": "immediate",
              "transition": {
               "duration": 0,
               "easing": "linear"
              }
             }
            ],
            "label": "&#9724;",
            "method": "animate"
           }
          ],
          "direction": "left",
          "pad": {
           "r": 10,
           "t": 70
          },
          "showactive": false,
          "type": "buttons",
          "x": 0.1,
          "xanchor": "right",
          "y": 0,
          "yanchor": "top"
         }
        ]
       }
      },
      "text/html": [
       "<div>                            <div id=\"ae3a1abe-aef8-46a2-917a-fb223632a97c\" class=\"plotly-graph-div\" style=\"height:525px; width:100%;\"></div>            <script type=\"text/javascript\">                require([\"plotly\"], function(Plotly) {                    window.PLOTLYENV=window.PLOTLYENV || {};                                    if (document.getElementById(\"ae3a1abe-aef8-46a2-917a-fb223632a97c\")) {                    Plotly.newPlot(                        \"ae3a1abe-aef8-46a2-917a-fb223632a97c\",                        [{\"hovertemplate\": \"<b>%{hovertext}</b><br><br>Time=08:12:07<br>altitude=%{marker.size}<br>latitude=%{lat}<br>longitude=%{lon}<extra></extra>\", \"hovertext\": [\"AEA76TU_392\", \"AEE5SZ_4449\"], \"ids\": [\"AEA76TU_392\", \"AEE5SZ_4449\"], \"lat\": [47.05265808105469, 47.468153096861755], \"legendgroup\": \"\", \"lon\": [7.78765869140625, 8.114177997295673], \"marker\": {\"color\": \"#636efa\", \"size\": [21625.0, 17375.000000000004], \"sizemode\": \"area\", \"sizeref\": 54.0625}, \"mode\": \"markers\", \"name\": \"\", \"showlegend\": false, \"subplot\": \"mapbox\", \"type\": \"scattermapbox\"}, {\"hovertemplate\": \"latitude=%{lat}<br>longitude=%{lon}<extra></extra>\", \"lat\": [47.05265808105469, 47.074786687301376, 47.09661968683792, 47.11857604980469, 47.138470148636124, 47.15400695800781, 47.16929626464844, 47.18441720736229, 47.199267371226156, 47.21998311705508, 47.24977654925847, 47.280733787407314, 47.30813598632812, 47.33395385742188, 47.36052432302701, 47.38645935058594, 47.412616277145126, 47.43863897808527, 47.46442891783633, 47.49073791503906, 47.51632690429688, 47.53120422363281, 47.52854919433594, 47.52466751357256, 47.52053833007812, 47.50772094726562, 47.48231506347656, 47.465406514830505, 47.47183227539062, 47.49096369339248, 47.50090026855469, 47.50643920898438, 47.49408269332627, 47.46917724609375, 47.447437351032846, 47.43534851074219, 47.4313768289857, 47.42724609375, 47.423090530654136, 47.4193663516287, 47.425048828125, 47.44610595703125, 47.4732272907839, 47.48954772949219, 47.49124145507812, 47.49198784262446, 47.493105096332094, 47.49430847167969, 47.4959913350768, 47.5116794392214, 47.53770214016154, 47.55962824417373, 47.5799560546875, 47.60152525820974, 47.62628173828125, 47.643329167770126, 47.65704345703125, 47.65306091308594, 47.64202880859375, 47.63103937698623, 47.61991339214777, 47.60417175292969, 47.58818455065711, 47.57258605957031], \"legendgroup\": \"\", \"line\": {\"color\": \"#636efa\"}, \"lon\": [7.78765869140625, 7.828674316406249, 7.8692392202524015, 7.910087585449219, 7.953186035156249, 8.000038146972656, 8.0474853515625, 8.094458946814902, 8.141150841346152, 8.182138296274037, 8.203336275540865, 8.20404052734375, 8.187973022460938, 8.168678283691406, 8.148827185997595, 8.129470825195312, 8.109882061298077, 8.090444711538463, 8.071148212139423, 8.051399230957031, 8.0321044921875, 8.001068115234375, 7.9649505615234375, 7.9295231745793275, 7.894432067871094, 7.86566162109375, 7.866416931152344, 7.899874173677884, 7.945930480957031, 7.9826237605168275, 8.026679992675781, 8.072273254394531, 8.111501840444713, 8.1199951171875, 8.105938251201923, 8.075775146484375, 8.041710486778845, 8.007865905761719, 7.9726938100961515, 7.938608022836537, 7.904457092285156, 7.883583068847656, 7.8919865534855775, 7.928764343261719, 7.9716796875, 8.01586444561298, 8.058682955228365, 8.101524353027344, 8.144179124098557, 8.178757887620193, 8.185518704927883, 8.167912409855768, 8.148078918457031, 8.131854717548077, 8.143341064453125, 8.174039400540865, 8.208091735839844, 8.244552612304688, 8.279090881347656, 8.31298828125, 8.345524714543268, 8.369728088378906, 8.390973604642427, 8.4122314453125], \"mode\": \"lines\", \"name\": \"\", \"showlegend\": false, \"subplot\": \"mapbox\", \"type\": \"scattermapbox\"}, {\"hovertemplate\": \"latitude=%{lat}<br>longitude=%{lon}<extra></extra>\", \"lat\": [47.468153096861755, 47.48412051443326, 47.49993896484375, 47.51490783691406, 47.51948547363281, 47.5166015625, 47.5111673646054, 47.50584411621094, 47.4951999470339, 47.47541524596133, 47.44985806739936, 47.42425433659957, 47.40545654296875, 47.40119934082031, 47.415968038268005, 47.44189453125, 47.467827231197035, 47.49220275878906, 47.50630187988281, 47.49861145019531, 47.47555490267479, 47.45027160644531, 47.429607843948624, 47.417224948689096, 47.41227722167969, 47.40792846679688, 47.40339660644531, 47.4005126953125, 47.407821396649894, 47.42619323730469, 47.45196533203125, 47.47751009666313, 47.49124145507812, 47.486727439751064, 47.4787204548464, 47.47041320800781, 47.462846141750525, 47.45539855957031, 47.45645141601562, 47.46931690280721, 47.49026540982521, 47.51410015558792, 47.53330993652344, 47.55148315429688, 47.5692180051642, 47.587885452529136, 47.610277078919495, 47.63127136230469, 47.65219116210938, 47.66221618652344, 47.6553955078125, 47.64482116699219, 47.63058471679688, 47.61566162109375, 47.600082138837394, 47.584300930217154, 47.56931110963983, 47.55587768554688, 47.54179873708951, 47.52818298339844, 47.51670708090571, 47.50588989257812, 47.49490356445312, 47.4842136189089], \"legendgroup\": \"\", \"line\": {\"color\": \"#636efa\"}, \"lon\": [8.114177997295673, 8.081852839543268, 8.049888610839844, 8.016448974609375, 7.979438781738281, 7.943595886230469, 7.908395620492787, 7.8737640380859375, 7.8438861553485575, 7.821983924278847, 7.81536395733173, 7.828392615685097, 7.861198425292969, 7.907203674316406, 7.9491717998798075, 7.97607421875, 8.001145582932693, 8.031967163085938, 8.072479248046875, 8.114295959472656, 8.132840670072115, 8.130706787109375, 8.113332895132213, 8.085092397836537, 8.051261901855469, 8.018714904785156, 7.986305236816406, 7.9525909423828125, 7.9200862004206725, 7.8957366943359375, 7.888801574707031, 7.905296912560097, 7.9454498291015625, 7.9873422475961515, 8.026921198918268, 8.067123413085938, 8.105304424579327, 8.144027709960938, 8.183853149414062, 8.219886192908652, 8.240943321814902, 8.233971228966345, 8.215713500976562, 8.198616027832031, 8.181856595552883, 8.167630709134615, 8.174321101262018, 8.1903076171875, 8.208091735839844, 8.240226745605469, 8.274284362792969, 8.305046081542969, 8.331207275390625, 8.353042602539062, 8.374469463641827, 8.396089993990383, 8.416583721454327, 8.435165405273438, 8.454542893629807, 8.472862243652344, 8.488487830528845, 8.503555297851562, 8.518524169921875, 8.533419095552883], \"mode\": \"lines\", \"name\": \"\", \"showlegend\": false, \"subplot\": \"mapbox\", \"type\": \"scattermapbox\"}],                        {\"legend\": {\"itemsizing\": \"constant\", \"tracegroupgap\": 0}, \"mapbox\": {\"accesstoken\": \"pk.eyJ1IjoiZmlndSIsImEiOiJja2JndjNoaDQwYnl6MnJwM2tzNG9vcHc2In0.Ru9xsbyaKn7BNvIYAwPwUg\", \"center\": {\"lat\": 47.470410222724325, \"lon\": 8.097568053465624}, \"domain\": {\"x\": [0.0, 1.0], \"y\": [0.0, 1.0]}, \"zoom\": 8}, \"margin\": {\"t\": 60}, \"sliders\": [{\"active\": 0, \"currentvalue\": {\"prefix\": \"Time=\"}, \"len\": 0.9, \"pad\": {\"b\": 10, \"t\": 60}, \"steps\": [{\"args\": [[\"08:12:07\"], {\"frame\": {\"duration\": 0, \"redraw\": true}, \"fromcurrent\": true, \"mode\": \"immediate\", \"transition\": {\"duration\": 0, \"easing\": \"linear\"}}], \"label\": \"08:12:07\", \"method\": \"animate\"}, {\"args\": [[\"08:12:30\"], {\"frame\": {\"duration\": 0, \"redraw\": true}, \"fromcurrent\": true, \"mode\": \"immediate\", \"transition\": {\"duration\": 0, \"easing\": \"linear\"}}], \"label\": \"08:12:30\", \"method\": \"animate\"}, {\"args\": [[\"08:12:53\"], {\"frame\": {\"duration\": 0, \"redraw\": true}, \"fromcurrent\": true, \"mode\": \"immediate\", \"transition\": {\"duration\": 0, \"easing\": \"linear\"}}], \"label\": \"08:12:53\", \"method\": \"animate\"}, {\"args\": [[\"08:13:16\"], {\"frame\": {\"duration\": 0, \"redraw\": true}, \"fromcurrent\": true, \"mode\": \"immediate\", \"transition\": {\"duration\": 0, \"easing\": \"linear\"}}], \"label\": \"08:13:16\", \"method\": \"animate\"}, {\"args\": [[\"08:13:39\"], {\"frame\": {\"duration\": 0, \"redraw\": true}, \"fromcurrent\": true, \"mode\": \"immediate\", \"transition\": {\"duration\": 0, \"easing\": \"linear\"}}], \"label\": \"08:13:39\", \"method\": \"animate\"}, {\"args\": [[\"08:14:02\"], {\"frame\": {\"duration\": 0, \"redraw\": true}, \"fromcurrent\": true, \"mode\": \"immediate\", \"transition\": {\"duration\": 0, \"easing\": \"linear\"}}], \"label\": \"08:14:02\", \"method\": \"animate\"}, {\"args\": [[\"08:14:25\"], {\"frame\": {\"duration\": 0, \"redraw\": true}, \"fromcurrent\": true, \"mode\": \"immediate\", \"transition\": {\"duration\": 0, \"easing\": \"linear\"}}], \"label\": \"08:14:25\", \"method\": \"animate\"}, {\"args\": [[\"08:14:48\"], {\"frame\": {\"duration\": 0, \"redraw\": true}, \"fromcurrent\": true, \"mode\": \"immediate\", \"transition\": {\"duration\": 0, \"easing\": \"linear\"}}], \"label\": \"08:14:48\", \"method\": \"animate\"}, {\"args\": [[\"08:15:11\"], {\"frame\": {\"duration\": 0, \"redraw\": true}, \"fromcurrent\": true, \"mode\": \"immediate\", \"transition\": {\"duration\": 0, \"easing\": \"linear\"}}], \"label\": \"08:15:11\", \"method\": \"animate\"}, {\"args\": [[\"08:15:34\"], {\"frame\": {\"duration\": 0, \"redraw\": true}, \"fromcurrent\": true, \"mode\": \"immediate\", \"transition\": {\"duration\": 0, \"easing\": \"linear\"}}], \"label\": \"08:15:34\", \"method\": \"animate\"}, {\"args\": [[\"08:15:57\"], {\"frame\": {\"duration\": 0, \"redraw\": true}, \"fromcurrent\": true, \"mode\": \"immediate\", \"transition\": {\"duration\": 0, \"easing\": \"linear\"}}], \"label\": \"08:15:57\", \"method\": \"animate\"}, {\"args\": [[\"08:16:20\"], {\"frame\": {\"duration\": 0, \"redraw\": true}, \"fromcurrent\": true, \"mode\": \"immediate\", \"transition\": {\"duration\": 0, \"easing\": \"linear\"}}], \"label\": \"08:16:20\", \"method\": \"animate\"}, {\"args\": [[\"08:16:43\"], {\"frame\": {\"duration\": 0, \"redraw\": true}, \"fromcurrent\": true, \"mode\": \"immediate\", \"transition\": {\"duration\": 0, \"easing\": \"linear\"}}], \"label\": \"08:16:43\", \"method\": \"animate\"}, {\"args\": [[\"08:17:06\"], {\"frame\": {\"duration\": 0, \"redraw\": true}, \"fromcurrent\": true, \"mode\": \"immediate\", \"transition\": {\"duration\": 0, \"easing\": \"linear\"}}], \"label\": \"08:17:06\", \"method\": \"animate\"}, {\"args\": [[\"08:17:29\"], {\"frame\": {\"duration\": 0, \"redraw\": true}, \"fromcurrent\": true, \"mode\": \"immediate\", \"transition\": {\"duration\": 0, \"easing\": \"linear\"}}], \"label\": \"08:17:29\", \"method\": \"animate\"}, {\"args\": [[\"08:17:52\"], {\"frame\": {\"duration\": 0, \"redraw\": true}, \"fromcurrent\": true, \"mode\": \"immediate\", \"transition\": {\"duration\": 0, \"easing\": \"linear\"}}], \"label\": \"08:17:52\", \"method\": \"animate\"}, {\"args\": [[\"08:18:15\"], {\"frame\": {\"duration\": 0, \"redraw\": true}, \"fromcurrent\": true, \"mode\": \"immediate\", \"transition\": {\"duration\": 0, \"easing\": \"linear\"}}], \"label\": \"08:18:15\", \"method\": \"animate\"}, {\"args\": [[\"08:18:38\"], {\"frame\": {\"duration\": 0, \"redraw\": true}, \"fromcurrent\": true, \"mode\": \"immediate\", \"transition\": {\"duration\": 0, \"easing\": \"linear\"}}], \"label\": \"08:18:38\", \"method\": \"animate\"}, {\"args\": [[\"08:19:01\"], {\"frame\": {\"duration\": 0, \"redraw\": true}, \"fromcurrent\": true, \"mode\": \"immediate\", \"transition\": {\"duration\": 0, \"easing\": \"linear\"}}], \"label\": \"08:19:01\", \"method\": \"animate\"}, {\"args\": [[\"08:19:24\"], {\"frame\": {\"duration\": 0, \"redraw\": true}, \"fromcurrent\": true, \"mode\": \"immediate\", \"transition\": {\"duration\": 0, \"easing\": \"linear\"}}], \"label\": \"08:19:24\", \"method\": \"animate\"}, {\"args\": [[\"08:19:47\"], {\"frame\": {\"duration\": 0, \"redraw\": true}, \"fromcurrent\": true, \"mode\": \"immediate\", \"transition\": {\"duration\": 0, \"easing\": \"linear\"}}], \"label\": \"08:19:47\", \"method\": \"animate\"}, {\"args\": [[\"08:20:10\"], {\"frame\": {\"duration\": 0, \"redraw\": true}, \"fromcurrent\": true, \"mode\": \"immediate\", \"transition\": {\"duration\": 0, \"easing\": \"linear\"}}], \"label\": \"08:20:10\", \"method\": \"animate\"}, {\"args\": [[\"08:20:33\"], {\"frame\": {\"duration\": 0, \"redraw\": true}, \"fromcurrent\": true, \"mode\": \"immediate\", \"transition\": {\"duration\": 0, \"easing\": \"linear\"}}], \"label\": \"08:20:33\", \"method\": \"animate\"}, {\"args\": [[\"08:20:56\"], {\"frame\": {\"duration\": 0, \"redraw\": true}, \"fromcurrent\": true, \"mode\": \"immediate\", \"transition\": {\"duration\": 0, \"easing\": \"linear\"}}], \"label\": \"08:20:56\", \"method\": \"animate\"}, {\"args\": [[\"08:21:19\"], {\"frame\": {\"duration\": 0, \"redraw\": true}, \"fromcurrent\": true, \"mode\": \"immediate\", \"transition\": {\"duration\": 0, \"easing\": \"linear\"}}], \"label\": \"08:21:19\", \"method\": \"animate\"}, {\"args\": [[\"08:21:42\"], {\"frame\": {\"duration\": 0, \"redraw\": true}, \"fromcurrent\": true, \"mode\": \"immediate\", \"transition\": {\"duration\": 0, \"easing\": \"linear\"}}], \"label\": \"08:21:42\", \"method\": \"animate\"}, {\"args\": [[\"08:22:05\"], {\"frame\": {\"duration\": 0, \"redraw\": true}, \"fromcurrent\": true, \"mode\": \"immediate\", \"transition\": {\"duration\": 0, \"easing\": \"linear\"}}], \"label\": \"08:22:05\", \"method\": \"animate\"}, {\"args\": [[\"08:22:28\"], {\"frame\": {\"duration\": 0, \"redraw\": true}, \"fromcurrent\": true, \"mode\": \"immediate\", \"transition\": {\"duration\": 0, \"easing\": \"linear\"}}], \"label\": \"08:22:28\", \"method\": \"animate\"}, {\"args\": [[\"08:22:51\"], {\"frame\": {\"duration\": 0, \"redraw\": true}, \"fromcurrent\": true, \"mode\": \"immediate\", \"transition\": {\"duration\": 0, \"easing\": \"linear\"}}], \"label\": \"08:22:51\", \"method\": \"animate\"}, {\"args\": [[\"08:23:14\"], {\"frame\": {\"duration\": 0, \"redraw\": true}, \"fromcurrent\": true, \"mode\": \"immediate\", \"transition\": {\"duration\": 0, \"easing\": \"linear\"}}], \"label\": \"08:23:14\", \"method\": \"animate\"}, {\"args\": [[\"08:23:37\"], {\"frame\": {\"duration\": 0, \"redraw\": true}, \"fromcurrent\": true, \"mode\": \"immediate\", \"transition\": {\"duration\": 0, \"easing\": \"linear\"}}], \"label\": \"08:23:37\", \"method\": \"animate\"}, {\"args\": [[\"08:24:00\"], {\"frame\": {\"duration\": 0, \"redraw\": true}, \"fromcurrent\": true, \"mode\": \"immediate\", \"transition\": {\"duration\": 0, \"easing\": \"linear\"}}], \"label\": \"08:24:00\", \"method\": \"animate\"}, {\"args\": [[\"08:24:24\"], {\"frame\": {\"duration\": 0, \"redraw\": true}, \"fromcurrent\": true, \"mode\": \"immediate\", \"transition\": {\"duration\": 0, \"easing\": \"linear\"}}], \"label\": \"08:24:24\", \"method\": \"animate\"}, {\"args\": [[\"08:24:47\"], {\"frame\": {\"duration\": 0, \"redraw\": true}, \"fromcurrent\": true, \"mode\": \"immediate\", \"transition\": {\"duration\": 0, \"easing\": \"linear\"}}], \"label\": \"08:24:47\", \"method\": \"animate\"}, {\"args\": [[\"08:25:10\"], {\"frame\": {\"duration\": 0, \"redraw\": true}, \"fromcurrent\": true, \"mode\": \"immediate\", \"transition\": {\"duration\": 0, \"easing\": \"linear\"}}], \"label\": \"08:25:10\", \"method\": \"animate\"}, {\"args\": [[\"08:25:33\"], {\"frame\": {\"duration\": 0, \"redraw\": true}, \"fromcurrent\": true, \"mode\": \"immediate\", \"transition\": {\"duration\": 0, \"easing\": \"linear\"}}], \"label\": \"08:25:33\", \"method\": \"animate\"}, {\"args\": [[\"08:25:56\"], {\"frame\": {\"duration\": 0, \"redraw\": true}, \"fromcurrent\": true, \"mode\": \"immediate\", \"transition\": {\"duration\": 0, \"easing\": \"linear\"}}], \"label\": \"08:25:56\", \"method\": \"animate\"}, {\"args\": [[\"08:26:19\"], {\"frame\": {\"duration\": 0, \"redraw\": true}, \"fromcurrent\": true, \"mode\": \"immediate\", \"transition\": {\"duration\": 0, \"easing\": \"linear\"}}], \"label\": \"08:26:19\", \"method\": \"animate\"}, {\"args\": [[\"08:26:42\"], {\"frame\": {\"duration\": 0, \"redraw\": true}, \"fromcurrent\": true, \"mode\": \"immediate\", \"transition\": {\"duration\": 0, \"easing\": \"linear\"}}], \"label\": \"08:26:42\", \"method\": \"animate\"}, {\"args\": [[\"08:27:05\"], {\"frame\": {\"duration\": 0, \"redraw\": true}, \"fromcurrent\": true, \"mode\": \"immediate\", \"transition\": {\"duration\": 0, \"easing\": \"linear\"}}], \"label\": \"08:27:05\", \"method\": \"animate\"}, {\"args\": [[\"08:27:28\"], {\"frame\": {\"duration\": 0, \"redraw\": true}, \"fromcurrent\": true, \"mode\": \"immediate\", \"transition\": {\"duration\": 0, \"easing\": \"linear\"}}], \"label\": \"08:27:28\", \"method\": \"animate\"}, {\"args\": [[\"08:27:51\"], {\"frame\": {\"duration\": 0, \"redraw\": true}, \"fromcurrent\": true, \"mode\": \"immediate\", \"transition\": {\"duration\": 0, \"easing\": \"linear\"}}], \"label\": \"08:27:51\", \"method\": \"animate\"}, {\"args\": [[\"08:28:14\"], {\"frame\": {\"duration\": 0, \"redraw\": true}, \"fromcurrent\": true, \"mode\": \"immediate\", \"transition\": {\"duration\": 0, \"easing\": \"linear\"}}], \"label\": \"08:28:14\", \"method\": \"animate\"}, {\"args\": [[\"08:28:37\"], {\"frame\": {\"duration\": 0, \"redraw\": true}, \"fromcurrent\": true, \"mode\": \"immediate\", \"transition\": {\"duration\": 0, \"easing\": \"linear\"}}], \"label\": \"08:28:37\", \"method\": \"animate\"}, {\"args\": [[\"08:29:00\"], {\"frame\": {\"duration\": 0, \"redraw\": true}, \"fromcurrent\": true, \"mode\": \"immediate\", \"transition\": {\"duration\": 0, \"easing\": \"linear\"}}], \"label\": \"08:29:00\", \"method\": \"animate\"}, {\"args\": [[\"08:29:23\"], {\"frame\": {\"duration\": 0, \"redraw\": true}, \"fromcurrent\": true, \"mode\": \"immediate\", \"transition\": {\"duration\": 0, \"easing\": \"linear\"}}], \"label\": \"08:29:23\", \"method\": \"animate\"}, {\"args\": [[\"08:29:46\"], {\"frame\": {\"duration\": 0, \"redraw\": true}, \"fromcurrent\": true, \"mode\": \"immediate\", \"transition\": {\"duration\": 0, \"easing\": \"linear\"}}], \"label\": \"08:29:46\", \"method\": \"animate\"}, {\"args\": [[\"08:30:09\"], {\"frame\": {\"duration\": 0, \"redraw\": true}, \"fromcurrent\": true, \"mode\": \"immediate\", \"transition\": {\"duration\": 0, \"easing\": \"linear\"}}], \"label\": \"08:30:09\", \"method\": \"animate\"}, {\"args\": [[\"08:30:32\"], {\"frame\": {\"duration\": 0, \"redraw\": true}, \"fromcurrent\": true, \"mode\": \"immediate\", \"transition\": {\"duration\": 0, \"easing\": \"linear\"}}], \"label\": \"08:30:32\", \"method\": \"animate\"}, {\"args\": [[\"08:30:55\"], {\"frame\": {\"duration\": 0, \"redraw\": true}, \"fromcurrent\": true, \"mode\": \"immediate\", \"transition\": {\"duration\": 0, \"easing\": \"linear\"}}], \"label\": \"08:30:55\", \"method\": \"animate\"}, {\"args\": [[\"08:31:18\"], {\"frame\": {\"duration\": 0, \"redraw\": true}, \"fromcurrent\": true, \"mode\": \"immediate\", \"transition\": {\"duration\": 0, \"easing\": \"linear\"}}], \"label\": \"08:31:18\", \"method\": \"animate\"}, {\"args\": [[\"08:31:41\"], {\"frame\": {\"duration\": 0, \"redraw\": true}, \"fromcurrent\": true, \"mode\": \"immediate\", \"transition\": {\"duration\": 0, \"easing\": \"linear\"}}], \"label\": \"08:31:41\", \"method\": \"animate\"}, {\"args\": [[\"08:32:04\"], {\"frame\": {\"duration\": 0, \"redraw\": true}, \"fromcurrent\": true, \"mode\": \"immediate\", \"transition\": {\"duration\": 0, \"easing\": \"linear\"}}], \"label\": \"08:32:04\", \"method\": \"animate\"}, {\"args\": [[\"08:32:27\"], {\"frame\": {\"duration\": 0, \"redraw\": true}, \"fromcurrent\": true, \"mode\": \"immediate\", \"transition\": {\"duration\": 0, \"easing\": \"linear\"}}], \"label\": \"08:32:27\", \"method\": \"animate\"}, {\"args\": [[\"08:32:50\"], {\"frame\": {\"duration\": 0, \"redraw\": true}, \"fromcurrent\": true, \"mode\": \"immediate\", \"transition\": {\"duration\": 0, \"easing\": \"linear\"}}], \"label\": \"08:32:50\", \"method\": \"animate\"}, {\"args\": [[\"08:33:13\"], {\"frame\": {\"duration\": 0, \"redraw\": true}, \"fromcurrent\": true, \"mode\": \"immediate\", \"transition\": {\"duration\": 0, \"easing\": \"linear\"}}], \"label\": \"08:33:13\", \"method\": \"animate\"}, {\"args\": [[\"08:33:36\"], {\"frame\": {\"duration\": 0, \"redraw\": true}, \"fromcurrent\": true, \"mode\": \"immediate\", \"transition\": {\"duration\": 0, \"easing\": \"linear\"}}], \"label\": \"08:33:36\", \"method\": \"animate\"}, {\"args\": [[\"08:33:59\"], {\"frame\": {\"duration\": 0, \"redraw\": true}, \"fromcurrent\": true, \"mode\": \"immediate\", \"transition\": {\"duration\": 0, \"easing\": \"linear\"}}], \"label\": \"08:33:59\", \"method\": \"animate\"}, {\"args\": [[\"08:34:22\"], {\"frame\": {\"duration\": 0, \"redraw\": true}, \"fromcurrent\": true, \"mode\": \"immediate\", \"transition\": {\"duration\": 0, \"easing\": \"linear\"}}], \"label\": \"08:34:22\", \"method\": \"animate\"}, {\"args\": [[\"08:34:45\"], {\"frame\": {\"duration\": 0, \"redraw\": true}, \"fromcurrent\": true, \"mode\": \"immediate\", \"transition\": {\"duration\": 0, \"easing\": \"linear\"}}], \"label\": \"08:34:45\", \"method\": \"animate\"}, {\"args\": [[\"08:35:08\"], {\"frame\": {\"duration\": 0, \"redraw\": true}, \"fromcurrent\": true, \"mode\": \"immediate\", \"transition\": {\"duration\": 0, \"easing\": \"linear\"}}], \"label\": \"08:35:08\", \"method\": \"animate\"}, {\"args\": [[\"08:35:31\"], {\"frame\": {\"duration\": 0, \"redraw\": true}, \"fromcurrent\": true, \"mode\": \"immediate\", \"transition\": {\"duration\": 0, \"easing\": \"linear\"}}], \"label\": \"08:35:31\", \"method\": \"animate\"}, {\"args\": [[\"08:35:54\"], {\"frame\": {\"duration\": 0, \"redraw\": true}, \"fromcurrent\": true, \"mode\": \"immediate\", \"transition\": {\"duration\": 0, \"easing\": \"linear\"}}], \"label\": \"08:35:54\", \"method\": \"animate\"}, {\"args\": [[\"08:36:17\"], {\"frame\": {\"duration\": 0, \"redraw\": true}, \"fromcurrent\": true, \"mode\": \"immediate\", \"transition\": {\"duration\": 0, \"easing\": \"linear\"}}], \"label\": \"08:36:17\", \"method\": \"animate\"}], \"x\": 0.1, \"xanchor\": \"left\", \"y\": 0, \"yanchor\": \"top\"}], \"template\": {\"data\": {\"bar\": [{\"error_x\": {\"color\": \"#2a3f5f\"}, \"error_y\": {\"color\": \"#2a3f5f\"}, \"marker\": {\"line\": {\"color\": \"#E5ECF6\", \"width\": 0.5}}, \"type\": \"bar\"}], \"barpolar\": [{\"marker\": {\"line\": {\"color\": \"#E5ECF6\", \"width\": 0.5}}, \"type\": \"barpolar\"}], \"carpet\": [{\"aaxis\": {\"endlinecolor\": \"#2a3f5f\", \"gridcolor\": \"white\", \"linecolor\": \"white\", \"minorgridcolor\": \"white\", \"startlinecolor\": \"#2a3f5f\"}, \"baxis\": {\"endlinecolor\": \"#2a3f5f\", \"gridcolor\": \"white\", \"linecolor\": \"white\", \"minorgridcolor\": \"white\", \"startlinecolor\": \"#2a3f5f\"}, \"type\": \"carpet\"}], \"choropleth\": [{\"colorbar\": {\"outlinewidth\": 0, \"ticks\": \"\"}, \"type\": \"choropleth\"}], \"contour\": [{\"colorbar\": {\"outlinewidth\": 0, \"ticks\": \"\"}, \"colorscale\": [[0.0, \"#0d0887\"], [0.1111111111111111, \"#46039f\"], [0.2222222222222222, \"#7201a8\"], [0.3333333333333333, \"#9c179e\"], [0.4444444444444444, \"#bd3786\"], [0.5555555555555556, \"#d8576b\"], [0.6666666666666666, \"#ed7953\"], [0.7777777777777778, \"#fb9f3a\"], [0.8888888888888888, \"#fdca26\"], [1.0, \"#f0f921\"]], \"type\": \"contour\"}], \"contourcarpet\": [{\"colorbar\": {\"outlinewidth\": 0, \"ticks\": \"\"}, \"type\": \"contourcarpet\"}], \"heatmap\": [{\"colorbar\": {\"outlinewidth\": 0, \"ticks\": \"\"}, \"colorscale\": [[0.0, \"#0d0887\"], [0.1111111111111111, \"#46039f\"], [0.2222222222222222, \"#7201a8\"], [0.3333333333333333, \"#9c179e\"], [0.4444444444444444, \"#bd3786\"], [0.5555555555555556, \"#d8576b\"], [0.6666666666666666, \"#ed7953\"], [0.7777777777777778, \"#fb9f3a\"], [0.8888888888888888, \"#fdca26\"], [1.0, \"#f0f921\"]], \"type\": \"heatmap\"}], \"heatmapgl\": [{\"colorbar\": {\"outlinewidth\": 0, \"ticks\": \"\"}, \"colorscale\": [[0.0, \"#0d0887\"], [0.1111111111111111, \"#46039f\"], [0.2222222222222222, \"#7201a8\"], [0.3333333333333333, \"#9c179e\"], [0.4444444444444444, \"#bd3786\"], [0.5555555555555556, \"#d8576b\"], [0.6666666666666666, \"#ed7953\"], [0.7777777777777778, \"#fb9f3a\"], [0.8888888888888888, \"#fdca26\"], [1.0, \"#f0f921\"]], \"type\": \"heatmapgl\"}], \"histogram\": [{\"marker\": {\"colorbar\": {\"outlinewidth\": 0, \"ticks\": \"\"}}, \"type\": \"histogram\"}], \"histogram2d\": [{\"colorbar\": {\"outlinewidth\": 0, \"ticks\": \"\"}, \"colorscale\": [[0.0, \"#0d0887\"], [0.1111111111111111, \"#46039f\"], [0.2222222222222222, \"#7201a8\"], [0.3333333333333333, \"#9c179e\"], [0.4444444444444444, \"#bd3786\"], [0.5555555555555556, \"#d8576b\"], [0.6666666666666666, \"#ed7953\"], [0.7777777777777778, \"#fb9f3a\"], [0.8888888888888888, \"#fdca26\"], [1.0, \"#f0f921\"]], \"type\": \"histogram2d\"}], \"histogram2dcontour\": [{\"colorbar\": {\"outlinewidth\": 0, \"ticks\": \"\"}, \"colorscale\": [[0.0, \"#0d0887\"], [0.1111111111111111, \"#46039f\"], [0.2222222222222222, \"#7201a8\"], [0.3333333333333333, \"#9c179e\"], [0.4444444444444444, \"#bd3786\"], [0.5555555555555556, \"#d8576b\"], [0.6666666666666666, \"#ed7953\"], [0.7777777777777778, \"#fb9f3a\"], [0.8888888888888888, \"#fdca26\"], [1.0, \"#f0f921\"]], \"type\": \"histogram2dcontour\"}], \"mesh3d\": [{\"colorbar\": {\"outlinewidth\": 0, \"ticks\": \"\"}, \"type\": \"mesh3d\"}], \"parcoords\": [{\"line\": {\"colorbar\": {\"outlinewidth\": 0, \"ticks\": \"\"}}, \"type\": \"parcoords\"}], \"pie\": [{\"automargin\": true, \"type\": \"pie\"}], \"scatter\": [{\"marker\": {\"colorbar\": {\"outlinewidth\": 0, \"ticks\": \"\"}}, \"type\": \"scatter\"}], \"scatter3d\": [{\"line\": {\"colorbar\": {\"outlinewidth\": 0, \"ticks\": \"\"}}, \"marker\": {\"colorbar\": {\"outlinewidth\": 0, \"ticks\": \"\"}}, \"type\": \"scatter3d\"}], \"scattercarpet\": [{\"marker\": {\"colorbar\": {\"outlinewidth\": 0, \"ticks\": \"\"}}, \"type\": \"scattercarpet\"}], \"scattergeo\": [{\"marker\": {\"colorbar\": {\"outlinewidth\": 0, \"ticks\": \"\"}}, \"type\": \"scattergeo\"}], \"scattergl\": [{\"marker\": {\"colorbar\": {\"outlinewidth\": 0, \"ticks\": \"\"}}, \"type\": \"scattergl\"}], \"scattermapbox\": [{\"marker\": {\"colorbar\": {\"outlinewidth\": 0, \"ticks\": \"\"}}, \"type\": \"scattermapbox\"}], \"scatterpolar\": [{\"marker\": {\"colorbar\": {\"outlinewidth\": 0, \"ticks\": \"\"}}, \"type\": \"scatterpolar\"}], \"scatterpolargl\": [{\"marker\": {\"colorbar\": {\"outlinewidth\": 0, \"ticks\": \"\"}}, \"type\": \"scatterpolargl\"}], \"scatterternary\": [{\"marker\": {\"colorbar\": {\"outlinewidth\": 0, \"ticks\": \"\"}}, \"type\": \"scatterternary\"}], \"surface\": [{\"colorbar\": {\"outlinewidth\": 0, \"ticks\": \"\"}, \"colorscale\": [[0.0, \"#0d0887\"], [0.1111111111111111, \"#46039f\"], [0.2222222222222222, \"#7201a8\"], [0.3333333333333333, \"#9c179e\"], [0.4444444444444444, \"#bd3786\"], [0.5555555555555556, \"#d8576b\"], [0.6666666666666666, \"#ed7953\"], [0.7777777777777778, \"#fb9f3a\"], [0.8888888888888888, \"#fdca26\"], [1.0, \"#f0f921\"]], \"type\": \"surface\"}], \"table\": [{\"cells\": {\"fill\": {\"color\": \"#EBF0F8\"}, \"line\": {\"color\": \"white\"}}, \"header\": {\"fill\": {\"color\": \"#C8D4E3\"}, \"line\": {\"color\": \"white\"}}, \"type\": \"table\"}]}, \"layout\": {\"annotationdefaults\": {\"arrowcolor\": \"#2a3f5f\", \"arrowhead\": 0, \"arrowwidth\": 1}, \"autotypenumbers\": \"strict\", \"coloraxis\": {\"colorbar\": {\"outlinewidth\": 0, \"ticks\": \"\"}}, \"colorscale\": {\"diverging\": [[0, \"#8e0152\"], [0.1, \"#c51b7d\"], [0.2, \"#de77ae\"], [0.3, \"#f1b6da\"], [0.4, \"#fde0ef\"], [0.5, \"#f7f7f7\"], [0.6, \"#e6f5d0\"], [0.7, \"#b8e186\"], [0.8, \"#7fbc41\"], [0.9, \"#4d9221\"], [1, \"#276419\"]], \"sequential\": [[0.0, \"#0d0887\"], [0.1111111111111111, \"#46039f\"], [0.2222222222222222, \"#7201a8\"], [0.3333333333333333, \"#9c179e\"], [0.4444444444444444, \"#bd3786\"], [0.5555555555555556, \"#d8576b\"], [0.6666666666666666, \"#ed7953\"], [0.7777777777777778, \"#fb9f3a\"], [0.8888888888888888, \"#fdca26\"], [1.0, \"#f0f921\"]], \"sequentialminus\": [[0.0, \"#0d0887\"], [0.1111111111111111, \"#46039f\"], [0.2222222222222222, \"#7201a8\"], [0.3333333333333333, \"#9c179e\"], [0.4444444444444444, \"#bd3786\"], [0.5555555555555556, \"#d8576b\"], [0.6666666666666666, \"#ed7953\"], [0.7777777777777778, \"#fb9f3a\"], [0.8888888888888888, \"#fdca26\"], [1.0, \"#f0f921\"]]}, \"colorway\": [\"#636efa\", \"#EF553B\", \"#00cc96\", \"#ab63fa\", \"#FFA15A\", \"#19d3f3\", \"#FF6692\", \"#B6E880\", \"#FF97FF\", \"#FECB52\"], \"font\": {\"color\": \"#2a3f5f\"}, \"geo\": {\"bgcolor\": \"white\", \"lakecolor\": \"white\", \"landcolor\": \"#E5ECF6\", \"showlakes\": true, \"showland\": true, \"subunitcolor\": \"white\"}, \"hoverlabel\": {\"align\": \"left\"}, \"hovermode\": \"closest\", \"mapbox\": {\"style\": \"light\"}, \"paper_bgcolor\": \"white\", \"plot_bgcolor\": \"#E5ECF6\", \"polar\": {\"angularaxis\": {\"gridcolor\": \"white\", \"linecolor\": \"white\", \"ticks\": \"\"}, \"bgcolor\": \"#E5ECF6\", \"radialaxis\": {\"gridcolor\": \"white\", \"linecolor\": \"white\", \"ticks\": \"\"}}, \"scene\": {\"xaxis\": {\"backgroundcolor\": \"#E5ECF6\", \"gridcolor\": \"white\", \"gridwidth\": 2, \"linecolor\": \"white\", \"showbackground\": true, \"ticks\": \"\", \"zerolinecolor\": \"white\"}, \"yaxis\": {\"backgroundcolor\": \"#E5ECF6\", \"gridcolor\": \"white\", \"gridwidth\": 2, \"linecolor\": \"white\", \"showbackground\": true, \"ticks\": \"\", \"zerolinecolor\": \"white\"}, \"zaxis\": {\"backgroundcolor\": \"#E5ECF6\", \"gridcolor\": \"white\", \"gridwidth\": 2, \"linecolor\": \"white\", \"showbackground\": true, \"ticks\": \"\", \"zerolinecolor\": \"white\"}}, \"shapedefaults\": {\"line\": {\"color\": \"#2a3f5f\"}}, \"ternary\": {\"aaxis\": {\"gridcolor\": \"white\", \"linecolor\": \"white\", \"ticks\": \"\"}, \"baxis\": {\"gridcolor\": \"white\", \"linecolor\": \"white\", \"ticks\": \"\"}, \"bgcolor\": \"#E5ECF6\", \"caxis\": {\"gridcolor\": \"white\", \"linecolor\": \"white\", \"ticks\": \"\"}}, \"title\": {\"x\": 0.05}, \"xaxis\": {\"automargin\": true, \"gridcolor\": \"white\", \"linecolor\": \"white\", \"ticks\": \"\", \"title\": {\"standoff\": 15}, \"zerolinecolor\": \"white\", \"zerolinewidth\": 2}, \"yaxis\": {\"automargin\": true, \"gridcolor\": \"white\", \"linecolor\": \"white\", \"ticks\": \"\", \"title\": {\"standoff\": 15}, \"zerolinecolor\": \"white\", \"zerolinewidth\": 2}}}, \"updatemenus\": [{\"buttons\": [{\"args\": [null, {\"frame\": {\"duration\": 200, \"redraw\": true}, \"fromcurrent\": true, \"mode\": \"immediate\", \"transition\": {\"duration\": 500, \"easing\": \"linear\"}}], \"label\": \"&#9654;\", \"method\": \"animate\"}, {\"args\": [[null], {\"frame\": {\"duration\": 0, \"redraw\": true}, \"fromcurrent\": true, \"mode\": \"immediate\", \"transition\": {\"duration\": 0, \"easing\": \"linear\"}}], \"label\": \"&#9724;\", \"method\": \"animate\"}], \"direction\": \"left\", \"pad\": {\"r\": 10, \"t\": 70}, \"showactive\": false, \"type\": \"buttons\", \"x\": 0.1, \"xanchor\": \"right\", \"y\": 0, \"yanchor\": \"top\"}]},                        {\"responsive\": true}                    ).then(function(){\n",
       "                            Plotly.addFrames('ae3a1abe-aef8-46a2-917a-fb223632a97c', [{\"data\": [{\"hovertemplate\": \"<b>%{hovertext}</b><br><br>Time=08:12:07<br>altitude=%{marker.size}<br>latitude=%{lat}<br>longitude=%{lon}<extra></extra>\", \"hovertext\": [\"AEA76TU_392\", \"AEE5SZ_4449\"], \"ids\": [\"AEA76TU_392\", \"AEE5SZ_4449\"], \"lat\": [47.05265808105469, 47.468153096861755], \"legendgroup\": \"\", \"lon\": [7.78765869140625, 8.114177997295673], \"marker\": {\"color\": \"#636efa\", \"size\": [21625.0, 17375.000000000004], \"sizemode\": \"area\", \"sizeref\": 54.0625}, \"mode\": \"markers\", \"name\": \"\", \"showlegend\": false, \"subplot\": \"mapbox\", \"type\": \"scattermapbox\"}], \"name\": \"08:12:07\"}, {\"data\": [{\"hovertemplate\": \"<b>%{hovertext}</b><br><br>Time=08:12:30<br>altitude=%{marker.size}<br>latitude=%{lat}<br>longitude=%{lon}<extra></extra>\", \"hovertext\": [\"AEA76TU_392\", \"AEE5SZ_4449\"], \"ids\": [\"AEA76TU_392\", \"AEE5SZ_4449\"], \"lat\": [47.074786687301376, 47.48412051443326], \"legendgroup\": \"\", \"lon\": [7.828674316406249, 8.081852839543268], \"marker\": {\"color\": \"#636efa\", \"size\": [21400.0, 17025.0], \"sizemode\": \"area\", \"sizeref\": 54.0625}, \"mode\": \"markers\", \"name\": \"\", \"showlegend\": false, \"subplot\": \"mapbox\", \"type\": \"scattermapbox\"}], \"name\": \"08:12:30\"}, {\"data\": [{\"hovertemplate\": \"<b>%{hovertext}</b><br><br>Time=08:12:53<br>altitude=%{marker.size}<br>latitude=%{lat}<br>longitude=%{lon}<extra></extra>\", \"hovertext\": [\"AEA76TU_392\", \"AEE5SZ_4449\"], \"ids\": [\"AEA76TU_392\", \"AEE5SZ_4449\"], \"lat\": [47.09661968683792, 47.49993896484375], \"legendgroup\": \"\", \"lon\": [7.8692392202524015, 8.049888610839844], \"marker\": {\"color\": \"#636efa\", \"size\": [21175.0, 17000.0], \"sizemode\": \"area\", \"sizeref\": 54.0625}, \"mode\": \"markers\", \"name\": \"\", \"showlegend\": false, \"subplot\": \"mapbox\", \"type\": \"scattermapbox\"}], \"name\": \"08:12:53\"}, {\"data\": [{\"hovertemplate\": \"<b>%{hovertext}</b><br><br>Time=08:13:16<br>altitude=%{marker.size}<br>latitude=%{lat}<br>longitude=%{lon}<extra></extra>\", \"hovertext\": [\"AEA76TU_392\", \"AEE5SZ_4449\"], \"ids\": [\"AEA76TU_392\", \"AEE5SZ_4449\"], \"lat\": [47.11857604980469, 47.51490783691406], \"legendgroup\": \"\", \"lon\": [7.910087585449219, 8.016448974609375], \"marker\": {\"color\": \"#636efa\", \"size\": [20950.0, 17000.0], \"sizemode\": \"area\", \"sizeref\": 54.0625}, \"mode\": \"markers\", \"name\": \"\", \"showlegend\": false, \"subplot\": \"mapbox\", \"type\": \"scattermapbox\"}], \"name\": \"08:13:16\"}, {\"data\": [{\"hovertemplate\": \"<b>%{hovertext}</b><br><br>Time=08:13:39<br>altitude=%{marker.size}<br>latitude=%{lat}<br>longitude=%{lon}<extra></extra>\", \"hovertext\": [\"AEA76TU_392\", \"AEE5SZ_4449\"], \"ids\": [\"AEA76TU_392\", \"AEE5SZ_4449\"], \"lat\": [47.138470148636124, 47.51948547363281], \"legendgroup\": \"\", \"lon\": [7.953186035156249, 7.979438781738281], \"marker\": {\"color\": \"#636efa\", \"size\": [20724.999999999996, 17000.0], \"sizemode\": \"area\", \"sizeref\": 54.0625}, \"mode\": \"markers\", \"name\": \"\", \"showlegend\": false, \"subplot\": \"mapbox\", \"type\": \"scattermapbox\"}], \"name\": \"08:13:39\"}, {\"data\": [{\"hovertemplate\": \"<b>%{hovertext}</b><br><br>Time=08:14:02<br>altitude=%{marker.size}<br>latitude=%{lat}<br>longitude=%{lon}<extra></extra>\", \"hovertext\": [\"AEA76TU_392\", \"AEE5SZ_4449\"], \"ids\": [\"AEA76TU_392\", \"AEE5SZ_4449\"], \"lat\": [47.15400695800781, 47.5166015625], \"legendgroup\": \"\", \"lon\": [8.000038146972656, 7.943595886230469], \"marker\": {\"color\": \"#636efa\", \"size\": [20500.000000000004, 16950.000000000004], \"sizemode\": \"area\", \"sizeref\": 54.0625}, \"mode\": \"markers\", \"name\": \"\", \"showlegend\": false, \"subplot\": \"mapbox\", \"type\": \"scattermapbox\"}], \"name\": \"08:14:02\"}, {\"data\": [{\"hovertemplate\": \"<b>%{hovertext}</b><br><br>Time=08:14:25<br>altitude=%{marker.size}<br>latitude=%{lat}<br>longitude=%{lon}<extra></extra>\", \"hovertext\": [\"AEA76TU_392\", \"AEE5SZ_4449\"], \"ids\": [\"AEA76TU_392\", \"AEE5SZ_4449\"], \"lat\": [47.16929626464844, 47.5111673646054], \"legendgroup\": \"\", \"lon\": [8.0474853515625, 7.908395620492787], \"marker\": {\"color\": \"#636efa\", \"size\": [20275.000000000004, 16575.0], \"sizemode\": \"area\", \"sizeref\": 54.0625}, \"mode\": \"markers\", \"name\": \"\", \"showlegend\": false, \"subplot\": \"mapbox\", \"type\": \"scattermapbox\"}], \"name\": \"08:14:25\"}, {\"data\": [{\"hovertemplate\": \"<b>%{hovertext}</b><br><br>Time=08:14:48<br>altitude=%{marker.size}<br>latitude=%{lat}<br>longitude=%{lon}<extra></extra>\", \"hovertext\": [\"AEA76TU_392\", \"AEE5SZ_4449\"], \"ids\": [\"AEA76TU_392\", \"AEE5SZ_4449\"], \"lat\": [47.18441720736229, 47.50584411621094], \"legendgroup\": \"\", \"lon\": [8.094458946814902, 7.8737640380859375], \"marker\": {\"color\": \"#636efa\", \"size\": [20050.000000000004, 16175.0], \"sizemode\": \"area\", \"sizeref\": 54.0625}, \"mode\": \"markers\", \"name\": \"\", \"showlegend\": false, \"subplot\": \"mapbox\", \"type\": \"scattermapbox\"}], \"name\": \"08:14:48\"}, {\"data\": [{\"hovertemplate\": \"<b>%{hovertext}</b><br><br>Time=08:15:11<br>altitude=%{marker.size}<br>latitude=%{lat}<br>longitude=%{lon}<extra></extra>\", \"hovertext\": [\"AEA76TU_392\", \"AEE5SZ_4449\"], \"ids\": [\"AEA76TU_392\", \"AEE5SZ_4449\"], \"lat\": [47.199267371226156, 47.4951999470339], \"legendgroup\": \"\", \"lon\": [8.141150841346152, 7.8438861553485575], \"marker\": {\"color\": \"#636efa\", \"size\": [19825.0, 16000.0], \"sizemode\": \"area\", \"sizeref\": 54.0625}, \"mode\": \"markers\", \"name\": \"\", \"showlegend\": false, \"subplot\": \"mapbox\", \"type\": \"scattermapbox\"}], \"name\": \"08:15:11\"}, {\"data\": [{\"hovertemplate\": \"<b>%{hovertext}</b><br><br>Time=08:15:34<br>altitude=%{marker.size}<br>latitude=%{lat}<br>longitude=%{lon}<extra></extra>\", \"hovertext\": [\"AEA76TU_392\", \"AEE5SZ_4449\"], \"ids\": [\"AEA76TU_392\", \"AEE5SZ_4449\"], \"lat\": [47.21998311705508, 47.47541524596133], \"legendgroup\": \"\", \"lon\": [8.182138296274037, 7.821983924278847], \"marker\": {\"color\": \"#636efa\", \"size\": [19600.0, 15975.0], \"sizemode\": \"area\", \"sizeref\": 54.0625}, \"mode\": \"markers\", \"name\": \"\", \"showlegend\": false, \"subplot\": \"mapbox\", \"type\": \"scattermapbox\"}], \"name\": \"08:15:34\"}, {\"data\": [{\"hovertemplate\": \"<b>%{hovertext}</b><br><br>Time=08:15:57<br>altitude=%{marker.size}<br>latitude=%{lat}<br>longitude=%{lon}<extra></extra>\", \"hovertext\": [\"AEA76TU_392\", \"AEE5SZ_4449\"], \"ids\": [\"AEA76TU_392\", \"AEE5SZ_4449\"], \"lat\": [47.24977654925847, 47.44985806739936], \"legendgroup\": \"\", \"lon\": [8.203336275540865, 7.81536395733173], \"marker\": {\"color\": \"#636efa\", \"size\": [19375.0, 15675.000000000004], \"sizemode\": \"area\", \"sizeref\": 54.0625}, \"mode\": \"markers\", \"name\": \"\", \"showlegend\": false, \"subplot\": \"mapbox\", \"type\": \"scattermapbox\"}], \"name\": \"08:15:57\"}, {\"data\": [{\"hovertemplate\": \"<b>%{hovertext}</b><br><br>Time=08:16:20<br>altitude=%{marker.size}<br>latitude=%{lat}<br>longitude=%{lon}<extra></extra>\", \"hovertext\": [\"AEA76TU_392\", \"AEE5SZ_4449\"], \"ids\": [\"AEA76TU_392\", \"AEE5SZ_4449\"], \"lat\": [47.280733787407314, 47.42425433659957], \"legendgroup\": \"\", \"lon\": [8.20404052734375, 7.828392615685097], \"marker\": {\"color\": \"#636efa\", \"size\": [19175.0, 15300.000000000004], \"sizemode\": \"area\", \"sizeref\": 54.0625}, \"mode\": \"markers\", \"name\": \"\", \"showlegend\": false, \"subplot\": \"mapbox\", \"type\": \"scattermapbox\"}], \"name\": \"08:16:20\"}, {\"data\": [{\"hovertemplate\": \"<b>%{hovertext}</b><br><br>Time=08:16:43<br>altitude=%{marker.size}<br>latitude=%{lat}<br>longitude=%{lon}<extra></extra>\", \"hovertext\": [\"AEA76TU_392\", \"AEE5SZ_4449\"], \"ids\": [\"AEA76TU_392\", \"AEE5SZ_4449\"], \"lat\": [47.30813598632812, 47.40545654296875], \"legendgroup\": \"\", \"lon\": [8.187973022460938, 7.861198425292969], \"marker\": {\"color\": \"#636efa\", \"size\": [19000.000000000004, 15024.999999999998], \"sizemode\": \"area\", \"sizeref\": 54.0625}, \"mode\": \"markers\", \"name\": \"\", \"showlegend\": false, \"subplot\": \"mapbox\", \"type\": \"scattermapbox\"}], \"name\": \"08:16:43\"}, {\"data\": [{\"hovertemplate\": \"<b>%{hovertext}</b><br><br>Time=08:17:06<br>altitude=%{marker.size}<br>latitude=%{lat}<br>longitude=%{lon}<extra></extra>\", \"hovertext\": [\"AEA76TU_392\", \"AEE5SZ_4449\"], \"ids\": [\"AEA76TU_392\", \"AEE5SZ_4449\"], \"lat\": [47.33395385742188, 47.40119934082031], \"legendgroup\": \"\", \"lon\": [8.168678283691406, 7.907203674316406], \"marker\": {\"color\": \"#636efa\", \"size\": [18925.0, 15000.0], \"sizemode\": \"area\", \"sizeref\": 54.0625}, \"mode\": \"markers\", \"name\": \"\", \"showlegend\": false, \"subplot\": \"mapbox\", \"type\": \"scattermapbox\"}], \"name\": \"08:17:06\"}, {\"data\": [{\"hovertemplate\": \"<b>%{hovertext}</b><br><br>Time=08:17:29<br>altitude=%{marker.size}<br>latitude=%{lat}<br>longitude=%{lon}<extra></extra>\", \"hovertext\": [\"AEA76TU_392\", \"AEE5SZ_4449\"], \"ids\": [\"AEA76TU_392\", \"AEE5SZ_4449\"], \"lat\": [47.36052432302701, 47.415968038268005], \"legendgroup\": \"\", \"lon\": [8.148827185997595, 7.9491717998798075], \"marker\": {\"color\": \"#636efa\", \"size\": [18700.0, 14950.0], \"sizemode\": \"area\", \"sizeref\": 54.0625}, \"mode\": \"markers\", \"name\": \"\", \"showlegend\": false, \"subplot\": \"mapbox\", \"type\": \"scattermapbox\"}], \"name\": \"08:17:29\"}, {\"data\": [{\"hovertemplate\": \"<b>%{hovertext}</b><br><br>Time=08:17:52<br>altitude=%{marker.size}<br>latitude=%{lat}<br>longitude=%{lon}<extra></extra>\", \"hovertext\": [\"AEA76TU_392\", \"AEE5SZ_4449\"], \"ids\": [\"AEA76TU_392\", \"AEE5SZ_4449\"], \"lat\": [47.38645935058594, 47.44189453125], \"legendgroup\": \"\", \"lon\": [8.129470825195312, 7.97607421875], \"marker\": {\"color\": \"#636efa\", \"size\": [18475.0, 14575.0], \"sizemode\": \"area\", \"sizeref\": 54.0625}, \"mode\": \"markers\", \"name\": \"\", \"showlegend\": false, \"subplot\": \"mapbox\", \"type\": \"scattermapbox\"}], \"name\": \"08:17:52\"}, {\"data\": [{\"hovertemplate\": \"<b>%{hovertext}</b><br><br>Time=08:18:15<br>altitude=%{marker.size}<br>latitude=%{lat}<br>longitude=%{lon}<extra></extra>\", \"hovertext\": [\"AEA76TU_392\", \"AEE5SZ_4449\"], \"ids\": [\"AEA76TU_392\", \"AEE5SZ_4449\"], \"lat\": [47.412616277145126, 47.467827231197035], \"legendgroup\": \"\", \"lon\": [8.109882061298077, 8.001145582932693], \"marker\": {\"color\": \"#636efa\", \"size\": [18150.0, 14150.0], \"sizemode\": \"area\", \"sizeref\": 54.0625}, \"mode\": \"markers\", \"name\": \"\", \"showlegend\": false, \"subplot\": \"mapbox\", \"type\": \"scattermapbox\"}], \"name\": \"08:18:15\"}, {\"data\": [{\"hovertemplate\": \"<b>%{hovertext}</b><br><br>Time=08:18:38<br>altitude=%{marker.size}<br>latitude=%{lat}<br>longitude=%{lon}<extra></extra>\", \"hovertext\": [\"AEA76TU_392\", \"AEE5SZ_4449\"], \"ids\": [\"AEA76TU_392\", \"AEE5SZ_4449\"], \"lat\": [47.43863897808527, 47.49220275878906], \"legendgroup\": \"\", \"lon\": [8.090444711538463, 8.031967163085938], \"marker\": {\"color\": \"#636efa\", \"size\": [17599.999999999996, 13625.000000000004], \"sizemode\": \"area\", \"sizeref\": 54.0625}, \"mode\": \"markers\", \"name\": \"\", \"showlegend\": false, \"subplot\": \"mapbox\", \"type\": \"scattermapbox\"}], \"name\": \"08:18:38\"}, {\"data\": [{\"hovertemplate\": \"<b>%{hovertext}</b><br><br>Time=08:19:01<br>altitude=%{marker.size}<br>latitude=%{lat}<br>longitude=%{lon}<extra></extra>\", \"hovertext\": [\"AEA76TU_392\", \"AEE5SZ_4449\"], \"ids\": [\"AEA76TU_392\", \"AEE5SZ_4449\"], \"lat\": [47.46442891783633, 47.50630187988281], \"legendgroup\": \"\", \"lon\": [8.071148212139423, 8.072479248046875], \"marker\": {\"color\": \"#636efa\", \"size\": [17050.0, 13149.999999999998], \"sizemode\": \"area\", \"sizeref\": 54.0625}, \"mode\": \"markers\", \"name\": \"\", \"showlegend\": false, \"subplot\": \"mapbox\", \"type\": \"scattermapbox\"}], \"name\": \"08:19:01\"}, {\"data\": [{\"hovertemplate\": \"<b>%{hovertext}</b><br><br>Time=08:19:24<br>altitude=%{marker.size}<br>latitude=%{lat}<br>longitude=%{lon}<extra></extra>\", \"hovertext\": [\"AEA76TU_392\", \"AEE5SZ_4449\"], \"ids\": [\"AEA76TU_392\", \"AEE5SZ_4449\"], \"lat\": [47.49073791503906, 47.49861145019531], \"legendgroup\": \"\", \"lon\": [8.051399230957031, 8.114295959472656], \"marker\": {\"color\": \"#636efa\", \"size\": [17000.0, 12649.999999999998], \"sizemode\": \"area\", \"sizeref\": 54.0625}, \"mode\": \"markers\", \"name\": \"\", \"showlegend\": false, \"subplot\": \"mapbox\", \"type\": \"scattermapbox\"}], \"name\": \"08:19:24\"}, {\"data\": [{\"hovertemplate\": \"<b>%{hovertext}</b><br><br>Time=08:19:47<br>altitude=%{marker.size}<br>latitude=%{lat}<br>longitude=%{lon}<extra></extra>\", \"hovertext\": [\"AEA76TU_392\", \"AEE5SZ_4449\"], \"ids\": [\"AEA76TU_392\", \"AEE5SZ_4449\"], \"lat\": [47.51632690429688, 47.47555490267479], \"legendgroup\": \"\", \"lon\": [8.0321044921875, 8.132840670072115], \"marker\": {\"color\": \"#636efa\", \"size\": [17000.0, 12124.999999999998], \"sizemode\": \"area\", \"sizeref\": 54.0625}, \"mode\": \"markers\", \"name\": \"\", \"showlegend\": false, \"subplot\": \"mapbox\", \"type\": \"scattermapbox\"}], \"name\": \"08:19:47\"}, {\"data\": [{\"hovertemplate\": \"<b>%{hovertext}</b><br><br>Time=08:20:10<br>altitude=%{marker.size}<br>latitude=%{lat}<br>longitude=%{lon}<extra></extra>\", \"hovertext\": [\"AEA76TU_392\", \"AEE5SZ_4449\"], \"ids\": [\"AEA76TU_392\", \"AEE5SZ_4449\"], \"lat\": [47.53120422363281, 47.45027160644531], \"legendgroup\": \"\", \"lon\": [8.001068115234375, 8.130706787109375], \"marker\": {\"color\": \"#636efa\", \"size\": [16950.000000000004, 11650.0], \"sizemode\": \"area\", \"sizeref\": 54.0625}, \"mode\": \"markers\", \"name\": \"\", \"showlegend\": false, \"subplot\": \"mapbox\", \"type\": \"scattermapbox\"}], \"name\": \"08:20:10\"}, {\"data\": [{\"hovertemplate\": \"<b>%{hovertext}</b><br><br>Time=08:20:33<br>altitude=%{marker.size}<br>latitude=%{lat}<br>longitude=%{lon}<extra></extra>\", \"hovertext\": [\"AEA76TU_392\", \"AEE5SZ_4449\"], \"ids\": [\"AEA76TU_392\", \"AEE5SZ_4449\"], \"lat\": [47.52854919433594, 47.429607843948624], \"legendgroup\": \"\", \"lon\": [7.9649505615234375, 8.113332895132213], \"marker\": {\"color\": \"#636efa\", \"size\": [16575.0, 11174.999999999998], \"sizemode\": \"area\", \"sizeref\": 54.0625}, \"mode\": \"markers\", \"name\": \"\", \"showlegend\": false, \"subplot\": \"mapbox\", \"type\": \"scattermapbox\"}], \"name\": \"08:20:33\"}, {\"data\": [{\"hovertemplate\": \"<b>%{hovertext}</b><br><br>Time=08:20:56<br>altitude=%{marker.size}<br>latitude=%{lat}<br>longitude=%{lon}<extra></extra>\", \"hovertext\": [\"AEA76TU_392\", \"AEE5SZ_4449\"], \"ids\": [\"AEA76TU_392\", \"AEE5SZ_4449\"], \"lat\": [47.52466751357256, 47.417224948689096], \"legendgroup\": \"\", \"lon\": [7.9295231745793275, 8.085092397836537], \"marker\": {\"color\": \"#636efa\", \"size\": [16175.0, 10674.999999999998], \"sizemode\": \"area\", \"sizeref\": 54.0625}, \"mode\": \"markers\", \"name\": \"\", \"showlegend\": false, \"subplot\": \"mapbox\", \"type\": \"scattermapbox\"}], \"name\": \"08:20:56\"}, {\"data\": [{\"hovertemplate\": \"<b>%{hovertext}</b><br><br>Time=08:21:19<br>altitude=%{marker.size}<br>latitude=%{lat}<br>longitude=%{lon}<extra></extra>\", \"hovertext\": [\"AEA76TU_392\", \"AEE5SZ_4449\"], \"ids\": [\"AEA76TU_392\", \"AEE5SZ_4449\"], \"lat\": [47.52053833007812, 47.41227722167969], \"legendgroup\": \"\", \"lon\": [7.894432067871094, 8.051261901855469], \"marker\": {\"color\": \"#636efa\", \"size\": [15925.000000000004, 10275.0], \"sizemode\": \"area\", \"sizeref\": 54.0625}, \"mode\": \"markers\", \"name\": \"\", \"showlegend\": false, \"subplot\": \"mapbox\", \"type\": \"scattermapbox\"}], \"name\": \"08:21:19\"}, {\"data\": [{\"hovertemplate\": \"<b>%{hovertext}</b><br><br>Time=08:21:42<br>altitude=%{marker.size}<br>latitude=%{lat}<br>longitude=%{lon}<extra></extra>\", \"hovertext\": [\"AEA76TU_392\", \"AEE5SZ_4449\"], \"ids\": [\"AEA76TU_392\", \"AEE5SZ_4449\"], \"lat\": [47.50772094726562, 47.40792846679688], \"legendgroup\": \"\", \"lon\": [7.86566162109375, 8.018714904785156], \"marker\": {\"color\": \"#636efa\", \"size\": [15550.0, 10000.0], \"sizemode\": \"area\", \"sizeref\": 54.0625}, \"mode\": \"markers\", \"name\": \"\", \"showlegend\": false, \"subplot\": \"mapbox\", \"type\": \"scattermapbox\"}], \"name\": \"08:21:42\"}, {\"data\": [{\"hovertemplate\": \"<b>%{hovertext}</b><br><br>Time=08:22:05<br>altitude=%{marker.size}<br>latitude=%{lat}<br>longitude=%{lon}<extra></extra>\", \"hovertext\": [\"AEA76TU_392\", \"AEE5SZ_4449\"], \"ids\": [\"AEA76TU_392\", \"AEE5SZ_4449\"], \"lat\": [47.48231506347656, 47.40339660644531], \"legendgroup\": \"\", \"lon\": [7.866416931152344, 7.986305236816406], \"marker\": {\"color\": \"#636efa\", \"size\": [15175.0, 10000.0], \"sizemode\": \"area\", \"sizeref\": 54.0625}, \"mode\": \"markers\", \"name\": \"\", \"showlegend\": false, \"subplot\": \"mapbox\", \"type\": \"scattermapbox\"}], \"name\": \"08:22:05\"}, {\"data\": [{\"hovertemplate\": \"<b>%{hovertext}</b><br><br>Time=08:22:28<br>altitude=%{marker.size}<br>latitude=%{lat}<br>longitude=%{lon}<extra></extra>\", \"hovertext\": [\"AEA76TU_392\", \"AEE5SZ_4449\"], \"ids\": [\"AEA76TU_392\", \"AEE5SZ_4449\"], \"lat\": [47.465406514830505, 47.4005126953125], \"legendgroup\": \"\", \"lon\": [7.899874173677884, 7.9525909423828125], \"marker\": {\"color\": \"#636efa\", \"size\": [14824.999999999998, 10000.0], \"sizemode\": \"area\", \"sizeref\": 54.0625}, \"mode\": \"markers\", \"name\": \"\", \"showlegend\": false, \"subplot\": \"mapbox\", \"type\": \"scattermapbox\"}], \"name\": \"08:22:28\"}, {\"data\": [{\"hovertemplate\": \"<b>%{hovertext}</b><br><br>Time=08:22:51<br>altitude=%{marker.size}<br>latitude=%{lat}<br>longitude=%{lon}<extra></extra>\", \"hovertext\": [\"AEA76TU_392\", \"AEE5SZ_4449\"], \"ids\": [\"AEA76TU_392\", \"AEE5SZ_4449\"], \"lat\": [47.47183227539062, 47.407821396649894], \"legendgroup\": \"\", \"lon\": [7.945930480957031, 7.9200862004206725], \"marker\": {\"color\": \"#636efa\", \"size\": [14450.000000000004, 10000.0], \"sizemode\": \"area\", \"sizeref\": 54.0625}, \"mode\": \"markers\", \"name\": \"\", \"showlegend\": false, \"subplot\": \"mapbox\", \"type\": \"scattermapbox\"}], \"name\": \"08:22:51\"}, {\"data\": [{\"hovertemplate\": \"<b>%{hovertext}</b><br><br>Time=08:23:14<br>altitude=%{marker.size}<br>latitude=%{lat}<br>longitude=%{lon}<extra></extra>\", \"hovertext\": [\"AEA76TU_392\", \"AEE5SZ_4449\"], \"ids\": [\"AEA76TU_392\", \"AEE5SZ_4449\"], \"lat\": [47.49096369339248, 47.42619323730469], \"legendgroup\": \"\", \"lon\": [7.9826237605168275, 7.8957366943359375], \"marker\": {\"color\": \"#636efa\", \"size\": [14075.0, 10000.0], \"sizemode\": \"area\", \"sizeref\": 54.0625}, \"mode\": \"markers\", \"name\": \"\", \"showlegend\": false, \"subplot\": \"mapbox\", \"type\": \"scattermapbox\"}], \"name\": \"08:23:14\"}, {\"data\": [{\"hovertemplate\": \"<b>%{hovertext}</b><br><br>Time=08:23:37<br>altitude=%{marker.size}<br>latitude=%{lat}<br>longitude=%{lon}<extra></extra>\", \"hovertext\": [\"AEA76TU_392\", \"AEE5SZ_4449\"], \"ids\": [\"AEA76TU_392\", \"AEE5SZ_4449\"], \"lat\": [47.50090026855469, 47.45196533203125], \"legendgroup\": \"\", \"lon\": [8.026679992675781, 7.888801574707031], \"marker\": {\"color\": \"#636efa\", \"size\": [13700.0, 10000.0], \"sizemode\": \"area\", \"sizeref\": 54.0625}, \"mode\": \"markers\", \"name\": \"\", \"showlegend\": false, \"subplot\": \"mapbox\", \"type\": \"scattermapbox\"}], \"name\": \"08:23:37\"}, {\"data\": [{\"hovertemplate\": \"<b>%{hovertext}</b><br><br>Time=08:24:00<br>altitude=%{marker.size}<br>latitude=%{lat}<br>longitude=%{lon}<extra></extra>\", \"hovertext\": [\"AEA76TU_392\", \"AEE5SZ_4449\"], \"ids\": [\"AEA76TU_392\", \"AEE5SZ_4449\"], \"lat\": [47.50643920898438, 47.47751009666313], \"legendgroup\": \"\", \"lon\": [8.072273254394531, 7.905296912560097], \"marker\": {\"color\": \"#636efa\", \"size\": [13300.0, 10000.0], \"sizemode\": \"area\", \"sizeref\": 54.0625}, \"mode\": \"markers\", \"name\": \"\", \"showlegend\": false, \"subplot\": \"mapbox\", \"type\": \"scattermapbox\"}], \"name\": \"08:24:00\"}, {\"data\": [{\"hovertemplate\": \"<b>%{hovertext}</b><br><br>Time=08:24:24<br>altitude=%{marker.size}<br>latitude=%{lat}<br>longitude=%{lon}<extra></extra>\", \"hovertext\": [\"AEA76TU_392\", \"AEE5SZ_4449\"], \"ids\": [\"AEA76TU_392\", \"AEE5SZ_4449\"], \"lat\": [47.49408269332627, 47.49124145507812], \"legendgroup\": \"\", \"lon\": [8.111501840444713, 7.9454498291015625], \"marker\": {\"color\": \"#636efa\", \"size\": [13000.0, 9700.0], \"sizemode\": \"area\", \"sizeref\": 54.0625}, \"mode\": \"markers\", \"name\": \"\", \"showlegend\": false, \"subplot\": \"mapbox\", \"type\": \"scattermapbox\"}], \"name\": \"08:24:24\"}, {\"data\": [{\"hovertemplate\": \"<b>%{hovertext}</b><br><br>Time=08:24:47<br>altitude=%{marker.size}<br>latitude=%{lat}<br>longitude=%{lon}<extra></extra>\", \"hovertext\": [\"AEA76TU_392\", \"AEE5SZ_4449\"], \"ids\": [\"AEA76TU_392\", \"AEE5SZ_4449\"], \"lat\": [47.46917724609375, 47.486727439751064], \"legendgroup\": \"\", \"lon\": [8.1199951171875, 7.9873422475961515], \"marker\": {\"color\": \"#636efa\", \"size\": [13000.0, 9300.0], \"sizemode\": \"area\", \"sizeref\": 54.0625}, \"mode\": \"markers\", \"name\": \"\", \"showlegend\": false, \"subplot\": \"mapbox\", \"type\": \"scattermapbox\"}], \"name\": \"08:24:47\"}, {\"data\": [{\"hovertemplate\": \"<b>%{hovertext}</b><br><br>Time=08:25:10<br>altitude=%{marker.size}<br>latitude=%{lat}<br>longitude=%{lon}<extra></extra>\", \"hovertext\": [\"AEA76TU_392\", \"AEE5SZ_4449\"], \"ids\": [\"AEA76TU_392\", \"AEE5SZ_4449\"], \"lat\": [47.447437351032846, 47.4787204548464], \"legendgroup\": \"\", \"lon\": [8.105938251201923, 8.026921198918268], \"marker\": {\"color\": \"#636efa\", \"size\": [13000.0, 8899.999999999998], \"sizemode\": \"area\", \"sizeref\": 54.0625}, \"mode\": \"markers\", \"name\": \"\", \"showlegend\": false, \"subplot\": \"mapbox\", \"type\": \"scattermapbox\"}], \"name\": \"08:25:10\"}, {\"data\": [{\"hovertemplate\": \"<b>%{hovertext}</b><br><br>Time=08:25:33<br>altitude=%{marker.size}<br>latitude=%{lat}<br>longitude=%{lon}<extra></extra>\", \"hovertext\": [\"AEA76TU_392\", \"AEE5SZ_4449\"], \"ids\": [\"AEA76TU_392\", \"AEE5SZ_4449\"], \"lat\": [47.43534851074219, 47.47041320800781], \"legendgroup\": \"\", \"lon\": [8.075775146484375, 8.067123413085938], \"marker\": {\"color\": \"#636efa\", \"size\": [13000.0, 8525.0], \"sizemode\": \"area\", \"sizeref\": 54.0625}, \"mode\": \"markers\", \"name\": \"\", \"showlegend\": false, \"subplot\": \"mapbox\", \"type\": \"scattermapbox\"}], \"name\": \"08:25:33\"}, {\"data\": [{\"hovertemplate\": \"<b>%{hovertext}</b><br><br>Time=08:25:56<br>altitude=%{marker.size}<br>latitude=%{lat}<br>longitude=%{lon}<extra></extra>\", \"hovertext\": [\"AEA76TU_392\", \"AEE5SZ_4449\"], \"ids\": [\"AEA76TU_392\", \"AEE5SZ_4449\"], \"lat\": [47.4313768289857, 47.462846141750525], \"legendgroup\": \"\", \"lon\": [8.041710486778845, 8.105304424579327], \"marker\": {\"color\": \"#636efa\", \"size\": [12925.0, 8200.0], \"sizemode\": \"area\", \"sizeref\": 54.0625}, \"mode\": \"markers\", \"name\": \"\", \"showlegend\": false, \"subplot\": \"mapbox\", \"type\": \"scattermapbox\"}], \"name\": \"08:25:56\"}, {\"data\": [{\"hovertemplate\": \"<b>%{hovertext}</b><br><br>Time=08:26:19<br>altitude=%{marker.size}<br>latitude=%{lat}<br>longitude=%{lon}<extra></extra>\", \"hovertext\": [\"AEA76TU_392\", \"AEE5SZ_4449\"], \"ids\": [\"AEA76TU_392\", \"AEE5SZ_4449\"], \"lat\": [47.42724609375, 47.45539855957031], \"legendgroup\": \"\", \"lon\": [8.007865905761719, 8.144027709960938], \"marker\": {\"color\": \"#636efa\", \"size\": [12624.999999999998, 7724.999999999999], \"sizemode\": \"area\", \"sizeref\": 54.0625}, \"mode\": \"markers\", \"name\": \"\", \"showlegend\": false, \"subplot\": \"mapbox\", \"type\": \"scattermapbox\"}], \"name\": \"08:26:19\"}, {\"data\": [{\"hovertemplate\": \"<b>%{hovertext}</b><br><br>Time=08:26:42<br>altitude=%{marker.size}<br>latitude=%{lat}<br>longitude=%{lon}<extra></extra>\", \"hovertext\": [\"AEA76TU_392\", \"AEE5SZ_4449\"], \"ids\": [\"AEA76TU_392\", \"AEE5SZ_4449\"], \"lat\": [47.423090530654136, 47.45645141601562], \"legendgroup\": \"\", \"lon\": [7.9726938100961515, 8.183853149414062], \"marker\": {\"color\": \"#636efa\", \"size\": [12275.0, 7250.0], \"sizemode\": \"area\", \"sizeref\": 54.0625}, \"mode\": \"markers\", \"name\": \"\", \"showlegend\": false, \"subplot\": \"mapbox\", \"type\": \"scattermapbox\"}], \"name\": \"08:26:42\"}, {\"data\": [{\"hovertemplate\": \"<b>%{hovertext}</b><br><br>Time=08:27:05<br>altitude=%{marker.size}<br>latitude=%{lat}<br>longitude=%{lon}<extra></extra>\", \"hovertext\": [\"AEA76TU_392\", \"AEE5SZ_4449\"], \"ids\": [\"AEA76TU_392\", \"AEE5SZ_4449\"], \"lat\": [47.4193663516287, 47.46931690280721], \"legendgroup\": \"\", \"lon\": [7.938608022836537, 8.219886192908652], \"marker\": {\"color\": \"#636efa\", \"size\": [12000.0, 7075.0], \"sizemode\": \"area\", \"sizeref\": 54.0625}, \"mode\": \"markers\", \"name\": \"\", \"showlegend\": false, \"subplot\": \"mapbox\", \"type\": \"scattermapbox\"}], \"name\": \"08:27:05\"}, {\"data\": [{\"hovertemplate\": \"<b>%{hovertext}</b><br><br>Time=08:27:28<br>altitude=%{marker.size}<br>latitude=%{lat}<br>longitude=%{lon}<extra></extra>\", \"hovertext\": [\"AEA76TU_392\", \"AEE5SZ_4449\"], \"ids\": [\"AEA76TU_392\", \"AEE5SZ_4449\"], \"lat\": [47.425048828125, 47.49026540982521], \"legendgroup\": \"\", \"lon\": [7.904457092285156, 8.240943321814902], \"marker\": {\"color\": \"#636efa\", \"size\": [12000.0, 7050.0], \"sizemode\": \"area\", \"sizeref\": 54.0625}, \"mode\": \"markers\", \"name\": \"\", \"showlegend\": false, \"subplot\": \"mapbox\", \"type\": \"scattermapbox\"}], \"name\": \"08:27:28\"}, {\"data\": [{\"hovertemplate\": \"<b>%{hovertext}</b><br><br>Time=08:27:51<br>altitude=%{marker.size}<br>latitude=%{lat}<br>longitude=%{lon}<extra></extra>\", \"hovertext\": [\"AEA76TU_392\", \"AEE5SZ_4449\"], \"ids\": [\"AEA76TU_392\", \"AEE5SZ_4449\"], \"lat\": [47.44610595703125, 47.51410015558792], \"legendgroup\": \"\", \"lon\": [7.883583068847656, 8.233971228966345], \"marker\": {\"color\": \"#636efa\", \"size\": [11950.0, 7050.0], \"sizemode\": \"area\", \"sizeref\": 54.0625}, \"mode\": \"markers\", \"name\": \"\", \"showlegend\": false, \"subplot\": \"mapbox\", \"type\": \"scattermapbox\"}], \"name\": \"08:27:51\"}, {\"data\": [{\"hovertemplate\": \"<b>%{hovertext}</b><br><br>Time=08:28:14<br>altitude=%{marker.size}<br>latitude=%{lat}<br>longitude=%{lon}<extra></extra>\", \"hovertext\": [\"AEA76TU_392\", \"AEE5SZ_4449\"], \"ids\": [\"AEA76TU_392\", \"AEE5SZ_4449\"], \"lat\": [47.4732272907839, 47.53330993652344], \"legendgroup\": \"\", \"lon\": [7.8919865534855775, 8.215713500976562], \"marker\": {\"color\": \"#636efa\", \"size\": [11475.0, 7050.0], \"sizemode\": \"area\", \"sizeref\": 54.0625}, \"mode\": \"markers\", \"name\": \"\", \"showlegend\": false, \"subplot\": \"mapbox\", \"type\": \"scattermapbox\"}], \"name\": \"08:28:14\"}, {\"data\": [{\"hovertemplate\": \"<b>%{hovertext}</b><br><br>Time=08:28:37<br>altitude=%{marker.size}<br>latitude=%{lat}<br>longitude=%{lon}<extra></extra>\", \"hovertext\": [\"AEA76TU_392\", \"AEE5SZ_4449\"], \"ids\": [\"AEA76TU_392\", \"AEE5SZ_4449\"], \"lat\": [47.48954772949219, 47.55148315429688], \"legendgroup\": \"\", \"lon\": [7.928764343261719, 8.198616027832031], \"marker\": {\"color\": \"#636efa\", \"size\": [10950.0, 6975.0], \"sizemode\": \"area\", \"sizeref\": 54.0625}, \"mode\": \"markers\", \"name\": \"\", \"showlegend\": false, \"subplot\": \"mapbox\", \"type\": \"scattermapbox\"}], \"name\": \"08:28:37\"}, {\"data\": [{\"hovertemplate\": \"<b>%{hovertext}</b><br><br>Time=08:29:00<br>altitude=%{marker.size}<br>latitude=%{lat}<br>longitude=%{lon}<extra></extra>\", \"hovertext\": [\"AEA76TU_392\", \"AEE5SZ_4449\"], \"ids\": [\"AEA76TU_392\", \"AEE5SZ_4449\"], \"lat\": [47.49124145507812, 47.5692180051642], \"legendgroup\": \"\", \"lon\": [7.9716796875, 8.181856595552883], \"marker\": {\"color\": \"#636efa\", \"size\": [10525.0, 6600.0], \"sizemode\": \"area\", \"sizeref\": 54.0625}, \"mode\": \"markers\", \"name\": \"\", \"showlegend\": false, \"subplot\": \"mapbox\", \"type\": \"scattermapbox\"}], \"name\": \"08:29:00\"}, {\"data\": [{\"hovertemplate\": \"<b>%{hovertext}</b><br><br>Time=08:29:23<br>altitude=%{marker.size}<br>latitude=%{lat}<br>longitude=%{lon}<extra></extra>\", \"hovertext\": [\"AEA76TU_392\", \"AEE5SZ_4449\"], \"ids\": [\"AEA76TU_392\", \"AEE5SZ_4449\"], \"lat\": [47.49198784262446, 47.587885452529136], \"legendgroup\": \"\", \"lon\": [8.01586444561298, 8.167630709134615], \"marker\": {\"color\": \"#636efa\", \"size\": [10075.0, 6200.0], \"sizemode\": \"area\", \"sizeref\": 54.0625}, \"mode\": \"markers\", \"name\": \"\", \"showlegend\": false, \"subplot\": \"mapbox\", \"type\": \"scattermapbox\"}], \"name\": \"08:29:23\"}, {\"data\": [{\"hovertemplate\": \"<b>%{hovertext}</b><br><br>Time=08:29:46<br>altitude=%{marker.size}<br>latitude=%{lat}<br>longitude=%{lon}<extra></extra>\", \"hovertext\": [\"AEA76TU_392\", \"AEE5SZ_4449\"], \"ids\": [\"AEA76TU_392\", \"AEE5SZ_4449\"], \"lat\": [47.493105096332094, 47.610277078919495], \"legendgroup\": \"\", \"lon\": [8.058682955228365, 8.174321101262018], \"marker\": {\"color\": \"#636efa\", \"size\": [9600.0, 6050.0], \"sizemode\": \"area\", \"sizeref\": 54.0625}, \"mode\": \"markers\", \"name\": \"\", \"showlegend\": false, \"subplot\": \"mapbox\", \"type\": \"scattermapbox\"}], \"name\": \"08:29:46\"}, {\"data\": [{\"hovertemplate\": \"<b>%{hovertext}</b><br><br>Time=08:30:09<br>altitude=%{marker.size}<br>latitude=%{lat}<br>longitude=%{lon}<extra></extra>\", \"hovertext\": [\"AEA76TU_392\", \"AEE5SZ_4449\"], \"ids\": [\"AEA76TU_392\", \"AEE5SZ_4449\"], \"lat\": [47.49430847167969, 47.63127136230469], \"legendgroup\": \"\", \"lon\": [8.101524353027344, 8.1903076171875], \"marker\": {\"color\": \"#636efa\", \"size\": [9125.0, 6050.0], \"sizemode\": \"area\", \"sizeref\": 54.0625}, \"mode\": \"markers\", \"name\": \"\", \"showlegend\": false, \"subplot\": \"mapbox\", \"type\": \"scattermapbox\"}], \"name\": \"08:30:09\"}, {\"data\": [{\"hovertemplate\": \"<b>%{hovertext}</b><br><br>Time=08:30:32<br>altitude=%{marker.size}<br>latitude=%{lat}<br>longitude=%{lon}<extra></extra>\", \"hovertext\": [\"AEA76TU_392\", \"AEE5SZ_4449\"], \"ids\": [\"AEA76TU_392\", \"AEE5SZ_4449\"], \"lat\": [47.4959913350768, 47.65219116210938], \"legendgroup\": \"\", \"lon\": [8.144179124098557, 8.208091735839844], \"marker\": {\"color\": \"#636efa\", \"size\": [8725.0, 6050.0], \"sizemode\": \"area\", \"sizeref\": 54.0625}, \"mode\": \"markers\", \"name\": \"\", \"showlegend\": false, \"subplot\": \"mapbox\", \"type\": \"scattermapbox\"}], \"name\": \"08:30:32\"}, {\"data\": [{\"hovertemplate\": \"<b>%{hovertext}</b><br><br>Time=08:30:55<br>altitude=%{marker.size}<br>latitude=%{lat}<br>longitude=%{lon}<extra></extra>\", \"hovertext\": [\"AEA76TU_392\", \"AEE5SZ_4449\"], \"ids\": [\"AEA76TU_392\", \"AEE5SZ_4449\"], \"lat\": [47.5116794392214, 47.66221618652344], \"legendgroup\": \"\", \"lon\": [8.178757887620193, 8.240226745605469], \"marker\": {\"color\": \"#636efa\", \"size\": [8274.999999999998, 5949.999999999999], \"sizemode\": \"area\", \"sizeref\": 54.0625}, \"mode\": \"markers\", \"name\": \"\", \"showlegend\": false, \"subplot\": \"mapbox\", \"type\": \"scattermapbox\"}], \"name\": \"08:30:55\"}, {\"data\": [{\"hovertemplate\": \"<b>%{hovertext}</b><br><br>Time=08:31:18<br>altitude=%{marker.size}<br>latitude=%{lat}<br>longitude=%{lon}<extra></extra>\", \"hovertext\": [\"AEA76TU_392\", \"AEE5SZ_4449\"], \"ids\": [\"AEA76TU_392\", \"AEE5SZ_4449\"], \"lat\": [47.53770214016154, 47.6553955078125], \"legendgroup\": \"\", \"lon\": [8.185518704927883, 8.274284362792969], \"marker\": {\"color\": \"#636efa\", \"size\": [7800.0, 5550.0], \"sizemode\": \"area\", \"sizeref\": 54.0625}, \"mode\": \"markers\", \"name\": \"\", \"showlegend\": false, \"subplot\": \"mapbox\", \"type\": \"scattermapbox\"}], \"name\": \"08:31:18\"}, {\"data\": [{\"hovertemplate\": \"<b>%{hovertext}</b><br><br>Time=08:31:41<br>altitude=%{marker.size}<br>latitude=%{lat}<br>longitude=%{lon}<extra></extra>\", \"hovertext\": [\"AEA76TU_392\", \"AEE5SZ_4449\"], \"ids\": [\"AEA76TU_392\", \"AEE5SZ_4449\"], \"lat\": [47.55962824417373, 47.64482116699219], \"legendgroup\": \"\", \"lon\": [8.167912409855768, 8.305046081542969], \"marker\": {\"color\": \"#636efa\", \"size\": [7450.0, 5224.999999999999], \"sizemode\": \"area\", \"sizeref\": 54.0625}, \"mode\": \"markers\", \"name\": \"\", \"showlegend\": false, \"subplot\": \"mapbox\", \"type\": \"scattermapbox\"}], \"name\": \"08:31:41\"}, {\"data\": [{\"hovertemplate\": \"<b>%{hovertext}</b><br><br>Time=08:32:04<br>altitude=%{marker.size}<br>latitude=%{lat}<br>longitude=%{lon}<extra></extra>\", \"hovertext\": [\"AEA76TU_392\", \"AEE5SZ_4449\"], \"ids\": [\"AEA76TU_392\", \"AEE5SZ_4449\"], \"lat\": [47.5799560546875, 47.63058471679688], \"legendgroup\": \"\", \"lon\": [8.148078918457031, 8.331207275390625], \"marker\": {\"color\": \"#636efa\", \"size\": [7075.0, 5000.0], \"sizemode\": \"area\", \"sizeref\": 54.0625}, \"mode\": \"markers\", \"name\": \"\", \"showlegend\": false, \"subplot\": \"mapbox\", \"type\": \"scattermapbox\"}], \"name\": \"08:32:04\"}, {\"data\": [{\"hovertemplate\": \"<b>%{hovertext}</b><br><br>Time=08:32:27<br>altitude=%{marker.size}<br>latitude=%{lat}<br>longitude=%{lon}<extra></extra>\", \"hovertext\": [\"AEA76TU_392\", \"AEE5SZ_4449\"], \"ids\": [\"AEA76TU_392\", \"AEE5SZ_4449\"], \"lat\": [47.60152525820974, 47.61566162109375], \"legendgroup\": \"\", \"lon\": [8.131854717548077, 8.353042602539062], \"marker\": {\"color\": \"#636efa\", \"size\": [6650.0, 4875.0], \"sizemode\": \"area\", \"sizeref\": 54.0625}, \"mode\": \"markers\", \"name\": \"\", \"showlegend\": false, \"subplot\": \"mapbox\", \"type\": \"scattermapbox\"}], \"name\": \"08:32:27\"}, {\"data\": [{\"hovertemplate\": \"<b>%{hovertext}</b><br><br>Time=08:32:50<br>altitude=%{marker.size}<br>latitude=%{lat}<br>longitude=%{lon}<extra></extra>\", \"hovertext\": [\"AEA76TU_392\", \"AEE5SZ_4449\"], \"ids\": [\"AEA76TU_392\", \"AEE5SZ_4449\"], \"lat\": [47.62628173828125, 47.600082138837394], \"legendgroup\": \"\", \"lon\": [8.143341064453125, 8.374469463641827], \"marker\": {\"color\": \"#636efa\", \"size\": [6150.0, 4599.999999999999], \"sizemode\": \"area\", \"sizeref\": 54.0625}, \"mode\": \"markers\", \"name\": \"\", \"showlegend\": false, \"subplot\": \"mapbox\", \"type\": \"scattermapbox\"}], \"name\": \"08:32:50\"}, {\"data\": [{\"hovertemplate\": \"<b>%{hovertext}</b><br><br>Time=08:33:13<br>altitude=%{marker.size}<br>latitude=%{lat}<br>longitude=%{lon}<extra></extra>\", \"hovertext\": [\"AEA76TU_392\", \"AEE5SZ_4449\"], \"ids\": [\"AEA76TU_392\", \"AEE5SZ_4449\"], \"lat\": [47.643329167770126, 47.584300930217154], \"legendgroup\": \"\", \"lon\": [8.174039400540865, 8.396089993990383], \"marker\": {\"color\": \"#636efa\", \"size\": [6050.0, 4200.0], \"sizemode\": \"area\", \"sizeref\": 54.0625}, \"mode\": \"markers\", \"name\": \"\", \"showlegend\": false, \"subplot\": \"mapbox\", \"type\": \"scattermapbox\"}], \"name\": \"08:33:13\"}, {\"data\": [{\"hovertemplate\": \"<b>%{hovertext}</b><br><br>Time=08:33:36<br>altitude=%{marker.size}<br>latitude=%{lat}<br>longitude=%{lon}<extra></extra>\", \"hovertext\": [\"AEA76TU_392\", \"AEE5SZ_4449\"], \"ids\": [\"AEA76TU_392\", \"AEE5SZ_4449\"], \"lat\": [47.65704345703125, 47.56931110963983], \"legendgroup\": \"\", \"lon\": [8.208091735839844, 8.416583721454327], \"marker\": {\"color\": \"#636efa\", \"size\": [6050.0, 3750.0], \"sizemode\": \"area\", \"sizeref\": 54.0625}, \"mode\": \"markers\", \"name\": \"\", \"showlegend\": false, \"subplot\": \"mapbox\", \"type\": \"scattermapbox\"}], \"name\": \"08:33:36\"}, {\"data\": [{\"hovertemplate\": \"<b>%{hovertext}</b><br><br>Time=08:33:59<br>altitude=%{marker.size}<br>latitude=%{lat}<br>longitude=%{lon}<extra></extra>\", \"hovertext\": [\"AEA76TU_392\", \"AEE5SZ_4449\"], \"ids\": [\"AEA76TU_392\", \"AEE5SZ_4449\"], \"lat\": [47.65306091308594, 47.55587768554688], \"legendgroup\": \"\", \"lon\": [8.244552612304688, 8.435165405273438], \"marker\": {\"color\": \"#636efa\", \"size\": [6000.0, 3399.9999999999995], \"sizemode\": \"area\", \"sizeref\": 54.0625}, \"mode\": \"markers\", \"name\": \"\", \"showlegend\": false, \"subplot\": \"mapbox\", \"type\": \"scattermapbox\"}], \"name\": \"08:33:59\"}, {\"data\": [{\"hovertemplate\": \"<b>%{hovertext}</b><br><br>Time=08:34:22<br>altitude=%{marker.size}<br>latitude=%{lat}<br>longitude=%{lon}<extra></extra>\", \"hovertext\": [\"AEA76TU_392\", \"AEE5SZ_4449\"], \"ids\": [\"AEA76TU_392\", \"AEE5SZ_4449\"], \"lat\": [47.64202880859375, 47.54179873708951], \"legendgroup\": \"\", \"lon\": [8.279090881347656, 8.454542893629807], \"marker\": {\"color\": \"#636efa\", \"size\": [5699.999999999999, 3075.0], \"sizemode\": \"area\", \"sizeref\": 54.0625}, \"mode\": \"markers\", \"name\": \"\", \"showlegend\": false, \"subplot\": \"mapbox\", \"type\": \"scattermapbox\"}], \"name\": \"08:34:22\"}, {\"data\": [{\"hovertemplate\": \"<b>%{hovertext}</b><br><br>Time=08:34:45<br>altitude=%{marker.size}<br>latitude=%{lat}<br>longitude=%{lon}<extra></extra>\", \"hovertext\": [\"AEA76TU_392\", \"AEE5SZ_4449\"], \"ids\": [\"AEA76TU_392\", \"AEE5SZ_4449\"], \"lat\": [47.63103937698623, 47.52818298339844], \"legendgroup\": \"\", \"lon\": [8.31298828125, 8.472862243652344], \"marker\": {\"color\": \"#636efa\", \"size\": [5400.0, 2725.0], \"sizemode\": \"area\", \"sizeref\": 54.0625}, \"mode\": \"markers\", \"name\": \"\", \"showlegend\": false, \"subplot\": \"mapbox\", \"type\": \"scattermapbox\"}], \"name\": \"08:34:45\"}, {\"data\": [{\"hovertemplate\": \"<b>%{hovertext}</b><br><br>Time=08:35:08<br>altitude=%{marker.size}<br>latitude=%{lat}<br>longitude=%{lon}<extra></extra>\", \"hovertext\": [\"AEA76TU_392\", \"AEE5SZ_4449\"], \"ids\": [\"AEA76TU_392\", \"AEE5SZ_4449\"], \"lat\": [47.61991339214777, 47.51670708090571], \"legendgroup\": \"\", \"lon\": [8.345524714543268, 8.488487830528845], \"marker\": {\"color\": \"#636efa\", \"size\": [5074.999999999999, 2400.0], \"sizemode\": \"area\", \"sizeref\": 54.0625}, \"mode\": \"markers\", \"name\": \"\", \"showlegend\": false, \"subplot\": \"mapbox\", \"type\": \"scattermapbox\"}], \"name\": \"08:35:08\"}, {\"data\": [{\"hovertemplate\": \"<b>%{hovertext}</b><br><br>Time=08:35:31<br>altitude=%{marker.size}<br>latitude=%{lat}<br>longitude=%{lon}<extra></extra>\", \"hovertext\": [\"AEA76TU_392\", \"AEE5SZ_4449\"], \"ids\": [\"AEA76TU_392\", \"AEE5SZ_4449\"], \"lat\": [47.60417175292969, 47.50588989257812], \"legendgroup\": \"\", \"lon\": [8.369728088378906, 8.503555297851562], \"marker\": {\"color\": \"#636efa\", \"size\": [4675.0, 2125.0], \"sizemode\": \"area\", \"sizeref\": 54.0625}, \"mode\": \"markers\", \"name\": \"\", \"showlegend\": false, \"subplot\": \"mapbox\", \"type\": \"scattermapbox\"}], \"name\": \"08:35:31\"}, {\"data\": [{\"hovertemplate\": \"<b>%{hovertext}</b><br><br>Time=08:35:54<br>altitude=%{marker.size}<br>latitude=%{lat}<br>longitude=%{lon}<extra></extra>\", \"hovertext\": [\"AEA76TU_392\", \"AEE5SZ_4449\"], \"ids\": [\"AEA76TU_392\", \"AEE5SZ_4449\"], \"lat\": [47.58818455065711, 47.49490356445312], \"legendgroup\": \"\", \"lon\": [8.390973604642427, 8.518524169921875], \"marker\": {\"color\": \"#636efa\", \"size\": [4262.5, 1850.0], \"sizemode\": \"area\", \"sizeref\": 54.0625}, \"mode\": \"markers\", \"name\": \"\", \"showlegend\": false, \"subplot\": \"mapbox\", \"type\": \"scattermapbox\"}], \"name\": \"08:35:54\"}, {\"data\": [{\"hovertemplate\": \"<b>%{hovertext}</b><br><br>Time=08:36:17<br>altitude=%{marker.size}<br>latitude=%{lat}<br>longitude=%{lon}<extra></extra>\", \"hovertext\": [\"AEA76TU_392\", \"AEE5SZ_4449\"], \"ids\": [\"AEA76TU_392\", \"AEE5SZ_4449\"], \"lat\": [47.57258605957031, 47.4842136189089], \"legendgroup\": \"\", \"lon\": [8.4122314453125, 8.533419095552883], \"marker\": {\"color\": \"#636efa\", \"size\": [3850.0, 1550.0], \"sizemode\": \"area\", \"sizeref\": 54.0625}, \"mode\": \"markers\", \"name\": \"\", \"showlegend\": false, \"subplot\": \"mapbox\", \"type\": \"scattermapbox\"}], \"name\": \"08:36:17\"}]);\n",
       "                        }).then(function(){\n",
       "                            \n",
       "var gd = document.getElementById('ae3a1abe-aef8-46a2-917a-fb223632a97c');\n",
       "var x = new MutationObserver(function (mutations, observer) {{\n",
       "        var display = window.getComputedStyle(gd).display;\n",
       "        if (!display || display === 'none') {{\n",
       "            console.log([gd, 'removed!']);\n",
       "            Plotly.purge(gd);\n",
       "            observer.disconnect();\n",
       "        }}\n",
       "}});\n",
       "\n",
       "// Listen for the removal of the full notebook cells\n",
       "var notebookContainer = gd.closest('#notebook-container');\n",
       "if (notebookContainer) {{\n",
       "    x.observe(notebookContainer, {childList: true});\n",
       "}}\n",
       "\n",
       "// Listen for the clearing of the current output cell\n",
       "var outputEl = gd.closest('.output');\n",
       "if (outputEl) {{\n",
       "    x.observe(outputEl, {childList: true});\n",
       "}}\n",
       "\n",
       "                        })                };                });            </script>        </div>"
      ]
     },
     "metadata": {},
     "output_type": "display_data"
    }
   ],
   "source": [
    "# Si l'intersection des temps de vol est nulle, m'affiche rien \n",
    "fig = plot_trajs_time(landing_zurich_2019[[\"AEE5SZ_4449\", \"AEA76TU_392\"]])\n",
    "fig.show()"
   ]
  },
  {
   "cell_type": "code",
   "execution_count": null,
   "metadata": {},
   "outputs": [],
   "source": []
  }
 ],
 "metadata": {
  "kernelspec": {
   "display_name": "Python 3",
   "language": "python",
   "name": "python3"
  },
  "language_info": {
   "codemirror_mode": {
    "name": "ipython",
    "version": 3
   },
   "file_extension": ".py",
   "mimetype": "text/x-python",
   "name": "python",
   "nbconvert_exporter": "python",
   "pygments_lexer": "ipython3",
   "version": "3.7.9"
  }
 },
 "nbformat": 4,
 "nbformat_minor": 4
}
